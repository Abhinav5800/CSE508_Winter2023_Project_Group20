{
  "nbformat": 4,
  "nbformat_minor": 0,
  "metadata": {
    "colab": {
      "provenance": [],
      "toc_visible": true
    },
    "kernelspec": {
      "name": "python3",
      "display_name": "Python 3"
    },
    "language_info": {
      "name": "python"
    }
  },
  "cells": [
    {
      "cell_type": "code",
      "execution_count": 4,
      "metadata": {
        "colab": {
          "base_uri": "https://localhost:8080/"
        },
        "id": "guVWxsrvCvz-",
        "outputId": "ed76784d-6de3-410b-ba00-dbd4fe16f82a"
      },
      "outputs": [
        {
          "output_type": "stream",
          "name": "stdout",
          "text": [
            "Mounted at /content/gdrive\n"
          ]
        }
      ],
      "source": [
        "from google.colab import drive\n",
        "drive.mount(\"/content/gdrive\")"
      ]
    },
    {
      "cell_type": "code",
      "source": [
        "import warnings\n",
        "warnings.filterwarnings('ignore')\n",
        "\n",
        "import numpy as np\n",
        "import pandas as pd\n",
        "data = pd.read_csv('/content/drive/MyDrive/Data/business_final.csv')"
      ],
      "metadata": {
        "id": "S0URAEnYE45B"
      },
      "execution_count": 15,
      "outputs": []
    },
    {
      "cell_type": "code",
      "source": [
        "def great_circle_mile(lat1, lon1, lat2, lon2):\n",
        "    \"\"\"\n",
        "    Compute geodesic distances (great-circle distance) of two points given their coordinates. \n",
        "    The function returns the distance in miles. \n",
        "    Note: 1. Calculation uses the earth's mean radius of 6371.009 km, \n",
        "    2. The central subtended angle is calculated by formula: \n",
        "    alpha = cos-1*[sin(lat1)*sin(lat2)+ cos(lat1)*cos(lat2)*cos(lon1-lon2)]\n",
        "    \"\"\"\n",
        "    \n",
        "    from math import sin, cos, acos, radians\n",
        "    \n",
        "    lat1, lon1, lat2, lon2 = radians(lat1), radians(lon1), radians(lat2), radians(lon2) # convert degrees to radians\n",
        "    earth_radius = 6371.009  # use earth's mean radius in kilometers\n",
        "    alpha = acos(sin(lat1)*sin(lat2) + cos(lat1)*cos(lat2)*cos(lon1-lon2)) # alpha is in radians\n",
        "    dis_km = alpha * earth_radius\n",
        "    dis_mile = dis_km * 0.621371   # convert kilometer to mile\n",
        "    \n",
        "    return dis_mile"
      ],
      "metadata": {
        "id": "BcnZCdJGGFfS"
      },
      "execution_count": 7,
      "outputs": []
    },
    {
      "cell_type": "code",
      "source": [
        "pos1 = (51.5073219, -0.1276474) # London\n",
        "pos2 = (52.5170365, 13.3888599) # Berlin\n",
        "pos3 = (-33.8548157,151.2164539) # Sydney"
      ],
      "metadata": {
        "id": "UpSpKYGrHLSu"
      },
      "execution_count": 8,
      "outputs": []
    },
    {
      "cell_type": "code",
      "source": [
        "%%timeit\n",
        "# great_circle distance\n",
        "distance_12 = great_circle_mile(pos1[0], pos1[1], pos2[0], pos2[1])\n",
        "distance_12"
      ],
      "metadata": {
        "colab": {
          "base_uri": "https://localhost:8080/"
        },
        "id": "M24IPMNYIMoc",
        "outputId": "458c7c04-1bc6-479c-bccb-0b45e1d51646"
      },
      "execution_count": 9,
      "outputs": [
        {
          "output_type": "stream",
          "name": "stdout",
          "text": [
            "2.24 µs ± 632 ns per loop (mean ± std. dev. of 7 runs, 1000000 loops each)\n"
          ]
        }
      ]
    },
    {
      "cell_type": "code",
      "source": [
        "from geopy.distance import distance"
      ],
      "metadata": {
        "id": "eQbtw3SMIdZA"
      },
      "execution_count": 10,
      "outputs": []
    },
    {
      "cell_type": "code",
      "source": [
        "%%timeit\n",
        "# geodesic distance\n",
        "distance2_12 = distance(pos1, pos2).miles\n",
        "distance2_12"
      ],
      "metadata": {
        "colab": {
          "base_uri": "https://localhost:8080/"
        },
        "id": "DlTMm3-wIi9i",
        "outputId": "1703369f-e2b5-46f9-da87-d47bd6b8ff07"
      },
      "execution_count": 11,
      "outputs": [
        {
          "output_type": "stream",
          "name": "stdout",
          "text": [
            "369 µs ± 100 µs per loop (mean ± std. dev. of 7 runs, 1000 loops each)\n"
          ]
        }
      ]
    },
    {
      "cell_type": "code",
      "source": [
        "distance_12 = great_circle_mile(pos1[0], pos1[1], pos2[0], pos2[1])\n",
        "distance2_12 = distance(pos1, pos2).miles\n",
        "error_12 = (distance_12 - distance2_12)/distance2_12\n",
        "\n",
        "distance_13 = great_circle_mile(pos1[0], pos1[1], pos3[0], pos3[1])\n",
        "distance2_13 = distance(pos1, pos3).miles\n",
        "error_13 = (distance_13 - distance2_13)/distance2_13\n",
        "\n",
        "# print errors, 1-2 is distance between London and Berlin, 1-3 is distance between London and Sydney\n",
        "print(\"absolute error:\", (distance_12-distance2_12), (distance_13-distance2_13)) \n",
        "print(\"percent error:\", error_12, error_13)"
      ],
      "metadata": {
        "colab": {
          "base_uri": "https://localhost:8080/"
        },
        "id": "cTIqw-P6InRs",
        "outputId": "35926afc-51a3-4725-8def-26ad9b40f993"
      },
      "execution_count": 12,
      "outputs": [
        {
          "output_type": "stream",
          "name": "stdout",
          "text": [
            "absolute error: -1.8326838373754981 2.892945931140275\n",
            "percent error: -0.0031598293601707256 0.0002740520023695907\n"
          ]
        }
      ]
    },
    {
      "cell_type": "code",
      "source": [
        "# compute globe mean ratings of all businesses and all reviews\n",
        "globe_mean = ((data.stars * data.review_count).sum())/(data.review_count.sum())\n",
        "print(\"global mean rating is:\", globe_mean)"
      ],
      "metadata": {
        "colab": {
          "base_uri": "https://localhost:8080/"
        },
        "id": "E34nxA8sIrlK",
        "outputId": "af11f5d1-b203-4053-a32c-3ea8717416ff"
      },
      "execution_count": 16,
      "outputs": [
        {
          "output_type": "stream",
          "name": "stdout",
          "text": [
            "global mean rating is: 3.7542257010146605\n"
          ]
        }
      ]
    },
    {
      "cell_type": "code",
      "source": [
        "print(data.review_count.quantile([0.1,0.25,0.5,0.75,0.9]))\n",
        "k = 22 # set strength k to 22, which is the 50% quantile of the review counts for all businesses\n",
        "data['adjusted_score'] = (data.review_count * data.stars + k * globe_mean)/(data.review_count + k)\n",
        "print(\"\\nrank by the adjusted score in descending order:\")\n",
        "print(data[['review_count','stars','adjusted_score']].sort_values('adjusted_score', ascending=False).head(5))\n",
        "print(\"\\nrank by the original score in descending order:\")\n",
        "print(data[['review_count','stars','adjusted_score']].sort_values('stars', ascending=False).head(5))\n",
        "print(\"\\nrank by the least number of reviews:\")\n",
        "print(data[['review_count','stars','adjusted_score']].sort_values('review_count', ascending=True).head(5))"
      ],
      "metadata": {
        "colab": {
          "base_uri": "https://localhost:8080/"
        },
        "id": "A8EUcSEHJDHT",
        "outputId": "3126190b-ff61-4852-94b2-3d4b6359cf45"
      },
      "execution_count": 17,
      "outputs": [
        {
          "output_type": "stream",
          "name": "stdout",
          "text": [
            "0.10     6.0\n",
            "0.25     8.0\n",
            "0.50    15.0\n",
            "0.75    37.0\n",
            "0.90    97.0\n",
            "Name: review_count, dtype: float64\n",
            "\n",
            "rank by the adjusted score in descending order:\n",
            "        review_count  stars  adjusted_score\n",
            "12307            991    5.0        4.972945\n",
            "134154           799    5.0        4.966617\n",
            "25015            769    5.0        4.965351\n",
            "16555            705    5.0        4.962301\n",
            "70650            623    5.0        4.957508\n",
            "\n",
            "rank by the original score in descending order:\n",
            "       review_count  stars  adjusted_score\n",
            "0                 7    5.0        4.054930\n",
            "60693            41    5.0        4.564968\n",
            "60680            33    5.0        4.501690\n",
            "60668            12    5.0        4.193911\n",
            "60664            22    5.0        4.377113\n",
            "\n",
            "rank by the least number of reviews:\n",
            "        review_count  stars  adjusted_score\n",
            "110756             5    2.5        3.521962\n",
            "109034             5    5.0        3.984925\n",
            "109040             5    5.0        3.984925\n",
            "109043             5    2.0        3.429369\n",
            "60700              5    3.5        3.707147\n"
          ]
        }
      ]
    },
    {
      "cell_type": "code",
      "source": [
        "from geopy.geocoders import Nominatim\n",
        "from geopy.exc import GeocoderTimedOut\n",
        "\n",
        "# use geolocate query to find the coordinate for the location of interest\n",
        "geolocator = Nominatim(user_agent=\"yelp_recommender\") # use geopy.geocoders to make geolocation queries\n",
        "address = \"san jose, 95132\"\n",
        "\n",
        "try:\n",
        "    location = geolocator.geocode(address, timeout=10) \n",
        "except GeocoderTimedOut as e:\n",
        "    print(\"Error: geocode failed to locate the address of interest {} with message {}\".format(address, e.message))   "
      ],
      "metadata": {
        "id": "ygFF8GX6Lstc"
      },
      "execution_count": 18,
      "outputs": []
    },
    {
      "cell_type": "code",
      "source": [
        "print(location)\n",
        "print(location.raw)\n",
        "print(location.latitude, location.longitude)"
      ],
      "metadata": {
        "colab": {
          "base_uri": "https://localhost:8080/"
        },
        "id": "GuEJT5sKL7yG",
        "outputId": "848cc91c-1107-4239-eeae-213d75a3699e"
      },
      "execution_count": 19,
      "outputs": [
        {
          "output_type": "stream",
          "name": "stdout",
          "text": [
            "San Jose, Santa Clara County, CAL Fire Northern Region, California, United States\n",
            "{'place_id': 297983195, 'licence': 'Data © OpenStreetMap contributors, ODbL 1.0. https://osm.org/copyright', 'osm_type': 'relation', 'osm_id': 112143, 'boundingbox': ['37.1231596', '37.4691477', '-122.0460405', '-121.5858438'], 'lat': '37.3361663', 'lon': '-121.890591', 'display_name': 'San Jose, Santa Clara County, CAL Fire Northern Region, California, United States', 'class': 'boundary', 'type': 'administrative', 'importance': 0.8274377648053739, 'icon': 'https://nominatim.openstreetmap.org/ui/mapicons/poi_boundary_administrative.p.20.png'}\n",
            "37.3361663 -121.890591\n"
          ]
        }
      ]
    },
    {
      "cell_type": "code",
      "source": [
        "# update data type of the 'postal_code' column of business dataframe to string type\n",
        "data['postal_code'] = data.postal_code.astype(str)"
      ],
      "metadata": {
        "id": "Q6BI-sKBMAkG"
      },
      "execution_count": 22,
      "outputs": []
    },
    {
      "cell_type": "code",
      "source": [
        "class Recommender:\n",
        "    \n",
        "    def __init__(self, n=5, original_score=False):\n",
        "        \"\"\"initiate a Recommender object by passing the desired number of recommendations to make, the default number is 10.\n",
        "        By default, the adjusted score will be used for ranking; To rank by the original average rating of the restaurant, pass original_score=True\n",
        "        \"\"\"\n",
        "        self.n = n # number of recommendations to make, default is 5\n",
        "        self.original_score = original_score # boolean indicating whether the original average rating or the adjusted score is used\n",
        "        # initiate a list of column names to display in the recommendation results\n",
        "        self.column_to_display = ['state','city','name','address','attributes.RestaurantsPriceRange2','cuisine','style','review_count','stars','adjusted_score']\n",
        "        \n",
        "        # initiate the list of recommendations to be all the open restaurants from the entire catalog of 'business' dataframe sorted by the score of interest\n",
        "        if self.original_score:  # set sorting criteria to the originial star rating\n",
        "            score = 'stars'\n",
        "        else:  # set sorting criteria to the adjusted score\n",
        "            score = 'adjusted_score'\n",
        "        self.recomm = data[data.is_open == 1].sort_values(score, ascending=False)\n",
        "        \n",
        "    def _filter_by_location(self):\n",
        "        \"\"\"Filter and update the dataframe of recommendations by the matching location of interest.\n",
        "        A combination of state, city and zipcode is used as the location information, partially missing information can be handled. \n",
        "        Matching restaurant is defined as the restaurant within the acceptable distance (max_distance) of the location of interest.\n",
        "        note: this hidden method should only be called within the method 'keyword'\n",
        "        \"\"\"       \n",
        "        from geopy.geocoders import Nominatim\n",
        "        from geopy.exc import GeocoderTimedOut\n",
        "        geolocator = Nominatim(user_agent=\"yelp_recommender\") # use geopy.geocoders to make geolocation queries\n",
        "        address = [self.city, self.state, self.zipcode]\n",
        "        address = \",\".join([str(i) for i in address if i != None])\n",
        "        # use geolocate query to find the coordinate for the location of interest\n",
        "        try:\n",
        "            location = geolocator.geocode(address, timeout=10) \n",
        "        except GeocoderTimedOut as e:\n",
        "            print(\"Error: geocode failed to locate the address of interest {} with message {}\".format(address, e.message))            \n",
        "\n",
        "        # calculate the geodesic distance between each restaurant and the location of interest and add as a new column ''distance_to_interest'\n",
        "        self.recomm['distance_to_interest'] = self.recomm.apply(lambda row: great_circle_mile(row.latitude, row.longitude, location.latitude, location.longitude), axis=1)\n",
        "        # add the new column 'distance_to_interest' to the list of columns to display in the recommendation result\n",
        "        self.column_to_display.insert(0, 'distance_to_interest')\n",
        "        # filter by the desired distance\n",
        "        self.recomm = self.recomm[self.recomm.distance_to_interest <= self.max_distance]\n",
        "\n",
        "    def _filter_by_state(self):\n",
        "        \"\"\" Filter and update the dataframe of recommendations by the matching state.\n",
        "        note: this hidden method should only be called within the method 'keyword'\n",
        "        \"\"\"\n",
        "        self.recomm = self.recomm[self.recomm.state == self.state]\n",
        "    \n",
        "    def _filter_by_cuisine(self):\n",
        "        \"\"\" Filter and update the dataframe of recommendations by the matching cuisine of interest. \n",
        "        note: this hidden method should only be called within the method 'keyword'\n",
        "        \"\"\"                         \n",
        "        idx = []\n",
        "        for i in self.recomm.index: \n",
        "            if self.recomm.loc[i,'cuisine'] is not np.nan:\n",
        "                entries = self.recomm.loc[i,'cuisine'].split(',')\n",
        "                if self.cuisine in entries:\n",
        "                    idx.append(i)\n",
        "        self.recomm = self.recomm.loc[idx]\n",
        "    \n",
        "    def _filter_by_style(self):  \n",
        "        \"\"\" Filter and update the dataframe of recommendations by the matching style of interest. \n",
        "        note: this hidden method should only be called within the method 'keyword'\n",
        "        \"\"\"\n",
        "        idx = []\n",
        "        for i in self.recomm.index: \n",
        "            if self.recomm.loc[i,'style'] is not np.nan:\n",
        "                entries = self.recomm.loc[i,'style'].split(',')\n",
        "                if self.style in entries:\n",
        "                    idx.append(i)\n",
        "        self.recomm = self.recomm.loc[idx]\n",
        "    \n",
        "    def _filter_by_price(self):\n",
        "        \"\"\"Filter and update the dataframe of recommendations by the matching price range of interest. \n",
        "        note: this hidden method should only be called within the method 'keyword'\n",
        "        \"\"\"\n",
        "        self.recomm = self.recomm[self.recomm['attributes.RestaurantsPriceRange2'].isin(self.price)]\n",
        "    \n",
        "    def display_recommendation(self):\n",
        "        \"\"\" Display the list of top n recommended restaurants\n",
        "        \"\"\"\n",
        "        if len(self.recomm) == 0:\n",
        "            print(\"Sorry, there is no matching recommendations.\")\n",
        "        elif self.n < len(self.recomm):  # display only the top n from the recommendation list\n",
        "            print(\"Below is a list of the top {} recommended restaurants for you: \".format(self.n))\n",
        "            print(self.recomm.iloc[:self.n][self.column_to_display])\n",
        "        else:  # display all if # of recommendations is less than self.n\n",
        "            print(\"Below is a list of the top {} recommended restaurants for you: \".format(len(self.recomm)))\n",
        "            print(self.recomm[self.column_to_display])\n",
        "    \n",
        "    # non-personalized keyword filtering recommender module\n",
        "    def keyword(self, df=data[data.is_open == 1], zipcode=None, city=None, state=None, max_distance=10, cuisine=None, style=None, price=None):\n",
        "        \"\"\"Non-personalized recommendation by keyword filtering: \n",
        "        Support filtering by the distance and location (zipcode, city, state) of interest, \n",
        "        by the desired cuisine, by the desired style, and by the desired price range. \n",
        "        The module supports multiple price range inputs separated by comma.\n",
        "        ---\n",
        "        Note:\n",
        "        df: the default restaurant catalog is all the open restaurants in the 'business' dataframe, \n",
        "            if a subset is prefered, e.g. previous filtered result, the subset can be passed to df\n",
        "        state: needs to be the upper case of the state abbreviation, e.g.: 'NV', 'CA'\n",
        "        max_distance: the max acceptable distance between the restaurant and the location of interest, unit is in miles, default is 10\n",
        "        ---\n",
        "        \"\"\"\n",
        "        # re-initiate the following variables every time the module is called so that the recommendation starts fresh\n",
        "        self.recomm = df # start with the desired restaurant catalog\n",
        "        self.recomm['distance_to_interest'] = np.nan # reset the distance between each restaurant and the location of interest\n",
        "        self.column_to_display = ['state','city','name','address','attributes.RestaurantsPriceRange2','cuisine','style','review_count','stars','adjusted_score'] # reset the columns to display\n",
        "        \n",
        "        # assign variables based on user's keyword inputs\n",
        "        self.zipcode = zipcode\n",
        "        self.city = city\n",
        "        self.state = state\n",
        "        self.max_distance = max_distance\n",
        "        self.cuisine = cuisine\n",
        "        self.style = style\n",
        "        self.price = price \n",
        "             \n",
        "        # filter by restaurant location\n",
        "        if (self.zipcode != None) or (self.city != None) or (self.state != None):      \n",
        "            if (self.zipcode != None) or (self.city != None): # use zipcode and/or city whenever available\n",
        "                self._filter_by_location()\n",
        "            else: # filter by state if state is the only location information available\n",
        "                self._filter_by_state()\n",
        "            if len(self.recomm) == 0:\n",
        "                print(\"no restaurant found for the matching location of interest.\")\n",
        "                return None\n",
        "            \n",
        "          # filter by restaurant 'cuisine'\n",
        "        if self.cuisine != None:\n",
        "            self._filter_by_cuisine()\n",
        "            if len(self.recomm) == 0:\n",
        "                print(\"no restaurant found for the matching cuisine of {}\".format(self.cuisine))\n",
        "                return None\n",
        "    \n",
        "        # filter by restaurant 'style'\n",
        "        if self.style != None:\n",
        "            self._filter_by_style() \n",
        "            if len(self.recomm) == 0:\n",
        "                print(\"no restaurant found for the matching style of {}\".format(self.style))\n",
        "                return None\n",
        "        \n",
        "        # filter by restaurant price range\n",
        "        if self.price != None:\n",
        "            self.price = [i.strip() for i in price.split(',')] #extract multiple inputs of price range\n",
        "            self._filter_by_price()\n",
        "            if len(self.recomm) == 0:\n",
        "                print(\"no restaurant found for the matching price of {}\".format(self.price))\n",
        "                return None\n",
        "        \n",
        "        # sort the matching list of restaurants by the score of interest\n",
        "        if self.original_score:  # set sorting criteria to the originial star rating\n",
        "            score = 'stars'\n",
        "        else:  # set sorting criteria to the adjusted score\n",
        "            score = 'adjusted_score'\n",
        "        self.recomm = self.recomm.sort_values(score, ascending=False)\n",
        "        \n",
        "        # display the list of top n recommendations\n",
        "        self.display_recommendation()\n",
        "        \n",
        "        return self.recomm"
      ],
      "metadata": {
        "id": "bsKMVNKWMEPy"
      },
      "execution_count": 23,
      "outputs": []
    },
    {
      "cell_type": "code",
      "source": [
        "%%time\n",
        "# initiate a Recommender object\n",
        "kw = Recommender(n=3)\n",
        "\n",
        "# test0: display only (same as no keywords)\n",
        "print(\"------\\nresult from test0 (display only): \")\n",
        "kw.display_recommendation()\n",
        "\n",
        "# test1: no keywords\n",
        "print(\"------\\nresult from test1 (no keywords): \")\n",
        "kw.keyword();\n",
        "\n",
        "# test 2: a combination of city, state and zipcode\n",
        "print(\"------\\nresult from test2 (a combination of city and state): \")\n",
        "kw.keyword(city='Phoenix', state='AZ', zipcode='85023');\n",
        "\n",
        "# test 3: a combination of cuisine and style\n",
        "print(\"------\\nresult from test3 (a combination of cuisine and style): \")\n",
        "kw.keyword(cuisine='barbeque', style='restaurants');\n",
        "\n",
        "# test 4: a combination of state, cuisine and style\n",
        "print(\"------\\nresult from test4 (a combination of state, cuisine and style): \")\n",
        "kw.keyword(state='NV', cuisine='desserts', style='restaurants');\n",
        "\n",
        "# test 5: no matching location\n",
        "print(\"------\\nresult from test5 (no matching location): \")\n",
        "kw.keyword(city='milpitas', zipcode='95035');\n",
        "\n",
        "# test 6: no matching 'cuisine'\n",
        "print(\"------\\nresult from test6 (no matching cuisine): \")\n",
        "kw.keyword(cuisine='abc');\n",
        "\n",
        "# test 7: no matching 'style'\n",
        "print(\"------\\nresult from test7 (no matching style): \")\n",
        "kw.keyword(style='abc');\n",
        "\n",
        "# test 8: a combination of location, cuisine and style\n",
        "print(\"------\\nresult from test8 (a combination of location, cuisine and style): \")\n",
        "kw.keyword(city='Phoenix', zipcode='85023',cuisine='barbeque', style='restaurants');\n",
        "\n",
        "# test 9: a combination of price range, cuisine and style\n",
        "print(\"------\\nresult from test9 (a combination of price range, cuisine and style): \")\n",
        "kw.keyword(price='1', cuisine='barbeque', style='restaurants');\n",
        "\n",
        "# test 10: a combination of two price ranges, location, cuisine and style\n",
        "print(\"------\\nresult from test10 (a combination of two price ranges, location, cuisine and style): \")\n",
        "kw.keyword(price='1, 2', zipcode='85023',cuisine='barbeque', style='restaurants');\n",
        "\n",
        "# test 11: use the original average rating and return top 10 recommendations\n",
        "print(\"------\\nresult from test11 (top 10 recommendations ranked by original average rating): \")\n",
        "kw2 = Recommender(n=10, original_score=True)\n",
        "kw2.keyword(city='Phoenix', zipcode='85023',cuisine='barbeque', style='restaurants');"
      ],
      "metadata": {
        "colab": {
          "base_uri": "https://localhost:8080/"
        },
        "id": "FsugTYytNjUe",
        "outputId": "f71c9e63-a359-47ae-c30e-1cbb98f9588a"
      },
      "execution_count": 24,
      "outputs": [
        {
          "output_type": "stream",
          "name": "stdout",
          "text": [
            "------\n",
            "result from test0 (display only): \n",
            "Below is a list of the top 3 recommended restaurants for you: \n",
            "       state         city                name          address  \\\n",
            "12307     MO  Saint Louis     Blues City Deli  2438 McNair Ave   \n",
            "134154    NV       Sparks    Carlillos Cocina  415 S Rock Blvd   \n",
            "25015     LA  New Orleans  Free Tours By Foot   2613 Laurel St   \n",
            "\n",
            "       attributes.RestaurantsPriceRange2                             cuisine  \\\n",
            "12307                                  1  american (traditional), sandwiches   \n",
            "134154                                 2                             mexican   \n",
            "25015                                NaN                                 NaN   \n",
            "\n",
            "                                                   style  review_count  stars  \\\n",
            "12307          delis, bars, restaurants, nightlife, pubs           991    5.0   \n",
            "134154  bars, breakfast & brunch, restaurants, nightlife           799    5.0   \n",
            "25015                                                NaN           769    5.0   \n",
            "\n",
            "        adjusted_score  \n",
            "12307         4.972945  \n",
            "134154        4.966617  \n",
            "25015         4.965351  \n",
            "------\n",
            "result from test1 (no keywords): \n",
            "Below is a list of the top 3 recommended restaurants for you: \n",
            "       state         city                name          address  \\\n",
            "12307     MO  Saint Louis     Blues City Deli  2438 McNair Ave   \n",
            "134154    NV       Sparks    Carlillos Cocina  415 S Rock Blvd   \n",
            "25015     LA  New Orleans  Free Tours By Foot   2613 Laurel St   \n",
            "\n",
            "       attributes.RestaurantsPriceRange2                             cuisine  \\\n",
            "12307                                  1  american (traditional), sandwiches   \n",
            "134154                                 2                             mexican   \n",
            "25015                                NaN                                 NaN   \n",
            "\n",
            "                                                   style  review_count  stars  \\\n",
            "12307          delis, bars, restaurants, nightlife, pubs           991    5.0   \n",
            "134154  bars, breakfast & brunch, restaurants, nightlife           799    5.0   \n",
            "25015                                                NaN           769    5.0   \n",
            "\n",
            "        adjusted_score  \n",
            "12307         4.972945  \n",
            "134154        4.966617  \n",
            "25015         4.965351  \n",
            "------\n",
            "result from test2 (a combination of city and state): \n",
            "no restaurant found for the matching location of interest.\n",
            "------\n",
            "result from test3 (a combination of cuisine and style): \n",
            "Below is a list of the top 3 recommended restaurants for you: \n",
            "       state         city                name              address  \\\n",
            "61593     FL         Lutz   Station House BBQ  16319 N Florida Ave   \n",
            "18614     FL    Gibsonton      Rack City Ribz    11201 US Hwy 41 S   \n",
            "132673    MO  Saint Louis  Pappy's Smokehouse        3106 Olive St   \n",
            "\n",
            "       attributes.RestaurantsPriceRange2               cuisine  \\\n",
            "61593                                NaN  barbeque, vegetarian   \n",
            "18614                                  2              barbeque   \n",
            "132673                                 2              barbeque   \n",
            "\n",
            "                                                style  review_count  stars  \\\n",
            "61593   restaurants, caterers, food delivery services            74    5.0   \n",
            "18614              restaurants, caterers, food trucks            45    5.0   \n",
            "132673             restaurants, caterers, food trucks          3999    4.5   \n",
            "\n",
            "        adjusted_score  \n",
            "61593          4.71451  \n",
            "18614          4.59094  \n",
            "132673         4.49592  \n",
            "------\n",
            "result from test4 (a combination of state, cuisine and style): \n",
            "Below is a list of the top 3 recommended restaurants for you: \n",
            "       state   city                      name           address  \\\n",
            "130835    NV  Verdi  Sasquatch Tavern & Grill     775 US Hwy 40   \n",
            "105813    NV   Reno              Honey Bakery  403 Keystone Ave   \n",
            "381       NV   Reno                 emPIEnada    3683 Kings Row   \n",
            "\n",
            "       attributes.RestaurantsPriceRange2                           cuisine  \\\n",
            "130835                                 2  desserts, american (traditional)   \n",
            "105813                                 1       desserts, bakeries, chinese   \n",
            "381                                  NaN  desserts, american (traditional)   \n",
            "\n",
            "                                      style  review_count  stars  \\\n",
            "130835      restaurants, breakfast & brunch           308    4.5   \n",
            "105813  restaurants, juice bars & smoothies           236    4.5   \n",
            "381      restaurants, caterers, food trucks            41    4.5   \n",
            "\n",
            "        adjusted_score  \n",
            "130835        4.450282  \n",
            "105813        4.436407  \n",
            "381           4.239571  \n",
            "------\n",
            "result from test5 (no matching location): \n",
            "no restaurant found for the matching location of interest.\n",
            "------\n",
            "result from test6 (no matching cuisine): \n",
            "no restaurant found for the matching cuisine of abc\n",
            "------\n",
            "result from test7 (no matching style): \n",
            "no restaurant found for the matching style of abc\n",
            "------\n",
            "result from test8 (a combination of location, cuisine and style): \n",
            "no restaurant found for the matching location of interest.\n",
            "------\n",
            "result from test9 (a combination of price range, cuisine and style): \n",
            "Below is a list of the top 3 recommended restaurants for you: \n",
            "       state         city                         name                address  \\\n",
            "33182     FL        Tampa             BJ's Alabama BBQ  3423 S Dale Mabry Hwy   \n",
            "110999    TN  Nolensville  Outlanders Southern Chicken    7215 Nolensville Rd   \n",
            "39116     FL  Port Richey         Robert's Smokin' BBQ     7810 US 19, Bldg B   \n",
            "\n",
            "       attributes.RestaurantsPriceRange2  \\\n",
            "33182                                  1   \n",
            "110999                                 1   \n",
            "39116                                  1   \n",
            "\n",
            "                                                cuisine  \\\n",
            "33182                                          barbeque   \n",
            "110999  barbeque, chicken wings, american (traditional)   \n",
            "39116                                barbeque, southern   \n",
            "\n",
            "                        style  review_count  stars  adjusted_score  \n",
            "33182             restaurants           200    4.5        4.426094  \n",
            "110999            restaurants           188    4.5        4.421871  \n",
            "39116   restaurants, caterers           187    4.5        4.421497  \n",
            "------\n",
            "result from test10 (a combination of two price ranges, location, cuisine and style): \n",
            "no restaurant found for the matching location of interest.\n",
            "------\n",
            "result from test11 (top 10 recommendations ranked by original average rating): \n",
            "no restaurant found for the matching location of interest.\n",
            "CPU times: user 23.1 s, sys: 772 ms, total: 23.8 s\n",
            "Wall time: 26.9 s\n"
          ]
        }
      ]
    },
    {
      "cell_type": "code",
      "source": [],
      "metadata": {
        "id": "vuAc07vrN15L"
      },
      "execution_count": null,
      "outputs": []
    }
  ]
}