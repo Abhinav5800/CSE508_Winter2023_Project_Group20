{
  "nbformat": 4,
  "nbformat_minor": 0,
  "metadata": {
    "colab": {
      "provenance": []
    },
    "kernelspec": {
      "name": "python3",
      "display_name": "Python 3"
    },
    "language_info": {
      "name": "python"
    },
    "accelerator": "GPU",
    "gpuClass": "standard"
  },
  "cells": [
    {
      "cell_type": "code",
      "execution_count": null,
      "metadata": {
        "id": "3Goj1PI06wX8"
      },
      "outputs": [],
      "source": [
        "import json\n",
        "import pandas as pd\n",
        "import matplotlib.pyplot as plt\n",
        "\n"
      ]
    },
    {
      "cell_type": "code",
      "source": [
        "df= pd.read_csv(\"/content/drive/MyDrive/business_final (1).csv\")"
      ],
      "metadata": {
        "colab": {
          "base_uri": "https://localhost:8080/"
        },
        "id": "ZPp5DD9u9uz1",
        "outputId": "35bcf13b-1461-4e5f-e198-c7990faffb33"
      },
      "execution_count": null,
      "outputs": [
        {
          "output_type": "stream",
          "name": "stderr",
          "text": [
            "<ipython-input-2-0e5b0cd51969>:1: DtypeWarning: Columns (54,58) have mixed types. Specify dtype option on import or set low_memory=False.\n",
            "  df= pd.read_csv(\"/content/drive/MyDrive/business_final (1).csv\")\n"
          ]
        }
      ]
    },
    {
      "cell_type": "code",
      "source": [
        "df.columns"
      ],
      "metadata": {
        "colab": {
          "base_uri": "https://localhost:8080/"
        },
        "id": "8XrTfjGW-fX2",
        "outputId": "a5481a89-1c7d-40be-91f1-525ab37d2775"
      },
      "execution_count": null,
      "outputs": [
        {
          "output_type": "execute_result",
          "data": {
            "text/plain": [
              "Index(['hours.Saturday', 'attributes.BusinessAcceptsCreditCards',\n",
              "       'hours.Monday', 'business_id', 'stars', 'attributes.BestNights',\n",
              "       'address', 'attributes', 'attributes.HasTV',\n",
              "       'attributes.RestaurantsAttire', 'hours.Wednesday', 'hours.Sunday',\n",
              "       'attributes.Alcohol', 'attributes.WiFi', 'is_open',\n",
              "       'attributes.DietaryRestrictions', 'attributes.WheelchairAccessible',\n",
              "       'attributes.BikeParking', 'attributes.DriveThru',\n",
              "       'attributes.OutdoorSeating', 'attributes.GoodForMeal',\n",
              "       'attributes.BYOB', 'attributes.HairSpecializesIn', 'longitude',\n",
              "       'attributes.RestaurantsDelivery', 'city', 'attributes.BYOBCorkage',\n",
              "       'state', 'attributes.CoatCheck', 'attributes.RestaurantsPriceRange2',\n",
              "       'attributes.Smoking', 'hours', 'hours.Friday',\n",
              "       'attributes.AcceptsInsurance', 'attributes.RestaurantsGoodForGroups',\n",
              "       'attributes.BusinessAcceptsBitcoin', 'categories',\n",
              "       'attributes.ByAppointmentOnly', 'postal_code', 'attributes.Music',\n",
              "       'hours.Tuesday', 'latitude', 'attributes.DogsAllowed',\n",
              "       'attributes.Caters', 'attributes.GoodForKids',\n",
              "       'attributes.BusinessParking', 'attributes.Ambience',\n",
              "       'attributes.NoiseLevel', 'review_count', 'hours.Thursday',\n",
              "       'attributes.RestaurantsTakeOut', 'attributes.GoodForDancing',\n",
              "       'attributes.Corkage', 'attributes.HappyHour',\n",
              "       'attributes.RestaurantsCounterService',\n",
              "       'attributes.RestaurantsReservations',\n",
              "       'attributes.RestaurantsTableService', 'attributes.AgesAllowed',\n",
              "       'attributes.Open24Hours', 'name', 'cuisine', 'style'],\n",
              "      dtype='object')"
            ]
          },
          "metadata": {},
          "execution_count": 3
        }
      ]
    },
    {
      "cell_type": "code",
      "source": [
        "\n",
        "df[\"city\"].value_counts().head()\n"
      ],
      "metadata": {
        "id": "vpo5oSWC-kzX",
        "colab": {
          "base_uri": "https://localhost:8080/"
        },
        "outputId": "1d9f58ff-4911-4e4c-e192-10ed7508e87b"
      },
      "execution_count": null,
      "outputs": [
        {
          "output_type": "execute_result",
          "data": {
            "text/plain": [
              "Philadelphia    14569\n",
              "Tucson           9249\n",
              "Tampa            9050\n",
              "Indianapolis     7540\n",
              "Nashville        6971\n",
              "Name: city, dtype: int64"
            ]
          },
          "metadata": {},
          "execution_count": 4
        }
      ]
    },
    {
      "cell_type": "code",
      "source": [
        "df.info()"
      ],
      "metadata": {
        "colab": {
          "base_uri": "https://localhost:8080/"
        },
        "id": "skrymjNN_g71",
        "outputId": "63115c16-331d-44f9-a026-9787daa5b138"
      },
      "execution_count": null,
      "outputs": [
        {
          "output_type": "stream",
          "name": "stdout",
          "text": [
            "<class 'pandas.core.frame.DataFrame'>\n",
            "RangeIndex: 150346 entries, 0 to 150345\n",
            "Data columns (total 62 columns):\n",
            " #   Column                                 Non-Null Count   Dtype  \n",
            "---  ------                                 --------------   -----  \n",
            " 0   hours.Saturday                         110770 non-null  object \n",
            " 1   attributes.BusinessAcceptsCreditCards  119765 non-null  object \n",
            " 2   hours.Monday                           114474 non-null  object \n",
            " 3   business_id                            150346 non-null  object \n",
            " 4   stars                                  150346 non-null  float64\n",
            " 5   attributes.BestNights                  5694 non-null    object \n",
            " 6   address                                145219 non-null  object \n",
            " 7   attributes                             136602 non-null  object \n",
            " 8   attributes.HasTV                       45084 non-null   object \n",
            " 9   attributes.RestaurantsAttire           39255 non-null   object \n",
            " 10  hours.Wednesday                        123771 non-null  object \n",
            " 11  hours.Sunday                           81172 non-null   object \n",
            " 12  attributes.Alcohol                     43189 non-null   object \n",
            " 13  attributes.WiFi                        56914 non-null   object \n",
            " 14  is_open                                150346 non-null  int64  \n",
            " 15  attributes.DietaryRestrictions         31 non-null      object \n",
            " 16  attributes.WheelchairAccessible        28953 non-null   object \n",
            " 17  attributes.BikeParking                 72638 non-null   object \n",
            " 18  attributes.DriveThru                   7760 non-null    object \n",
            " 19  attributes.OutdoorSeating              48802 non-null   object \n",
            " 20  attributes.GoodForMeal                 29087 non-null   object \n",
            " 21  attributes.BYOB                        4451 non-null    object \n",
            " 22  attributes.HairSpecializesIn           1065 non-null    object \n",
            " 23  longitude                              150346 non-null  float64\n",
            " 24  attributes.RestaurantsDelivery         56282 non-null   object \n",
            " 25  city                                   150346 non-null  object \n",
            " 26  attributes.BYOBCorkage                 1444 non-null    object \n",
            " 27  state                                  150346 non-null  object \n",
            " 28  attributes.CoatCheck                   5584 non-null    object \n",
            " 29  attributes.RestaurantsPriceRange2      85314 non-null   object \n",
            " 30  attributes.Smoking                     4567 non-null    object \n",
            " 31  hours                                  127123 non-null  object \n",
            " 32  hours.Friday                           124999 non-null  object \n",
            " 33  attributes.AcceptsInsurance            5713 non-null    object \n",
            " 34  attributes.RestaurantsGoodForGroups    44170 non-null   object \n",
            " 35  attributes.BusinessAcceptsBitcoin      17430 non-null   object \n",
            " 36  categories                             150243 non-null  object \n",
            " 37  attributes.ByAppointmentOnly           42339 non-null   object \n",
            " 38  postal_code                            150273 non-null  object \n",
            " 39  attributes.Music                       7521 non-null    object \n",
            " 40  hours.Tuesday                          120631 non-null  object \n",
            " 41  latitude                               150346 non-null  float64\n",
            " 42  attributes.DogsAllowed                 18284 non-null   object \n",
            " 43  attributes.Caters                      40127 non-null   object \n",
            " 44  attributes.GoodForKids                 53375 non-null   object \n",
            " 45  attributes.BusinessParking             91085 non-null   object \n",
            " 46  attributes.Ambience                    44279 non-null   object \n",
            " 47  attributes.NoiseLevel                  37993 non-null   object \n",
            " 48  review_count                           150346 non-null  int64  \n",
            " 49  hours.Thursday                         125198 non-null  object \n",
            " 50  attributes.RestaurantsTakeOut          59857 non-null   object \n",
            " 51  attributes.GoodForDancing              4628 non-null    object \n",
            " 52  attributes.Corkage                     3553 non-null    object \n",
            " 53  attributes.HappyHour                   15171 non-null   object \n",
            " 54  attributes.RestaurantsCounterService   19 non-null      object \n",
            " 55  attributes.RestaurantsReservations     45247 non-null   object \n",
            " 56  attributes.RestaurantsTableService     19982 non-null   object \n",
            " 57  attributes.AgesAllowed                 129 non-null     object \n",
            " 58  attributes.Open24Hours                 39 non-null      object \n",
            " 59  name                                   150346 non-null  object \n",
            " 60  cuisine                                57499 non-null   object \n",
            " 61  style                                  58092 non-null   object \n",
            "dtypes: float64(3), int64(2), object(57)\n",
            "memory usage: 71.1+ MB\n"
          ]
        }
      ]
    },
    {
      "cell_type": "code",
      "source": [
        "# city Philadelphia : bool\n",
        "cond_city = df['city'] == \"Philadelphia\""
      ],
      "metadata": {
        "id": "vo-NalL8-xhS"
      },
      "execution_count": null,
      "outputs": []
    },
    {
      "cell_type": "code",
      "source": [
        "# Make a DataFrame that contains only the abovementioned columns, and name it as df_selected_business\n",
        "# isnull: bool\n",
        "cond_category_not_null = ~df[\"categories\"].isnull()"
      ],
      "metadata": {
        "id": "hTW3BypO-_7n"
      },
      "execution_count": null,
      "outputs": []
    },
    {
      "cell_type": "code",
      "source": [
        "cond_category_restaurant = df[\"categories\"].apply(str).str.contains(\"Restaurants\")"
      ],
      "metadata": {
        "id": "g4dXZlatCTnT"
      },
      "execution_count": null,
      "outputs": []
    },
    {
      "cell_type": "code",
      "source": [
        "# Create filtered DataFrame, and name it df_filtered\n",
        "df_filtered = df[cond_city & cond_category_not_null & cond_category_restaurant]"
      ],
      "metadata": {
        "id": "Rw2zWwZ0CZtf"
      },
      "execution_count": null,
      "outputs": []
    },
    {
      "cell_type": "code",
      "source": [
        "selected_features = [u'business_id', u'name', u'categories', u'stars']"
      ],
      "metadata": {
        "id": "z0bTR2rPCiXD"
      },
      "execution_count": null,
      "outputs": []
    },
    {
      "cell_type": "code",
      "source": [
        "# Make a DataFrame that contains only the abovementioned columns, and name it as df_selected_business\n",
        "df_selected_business = df_filtered[selected_features]"
      ],
      "metadata": {
        "id": "c7de0EPWCoWn"
      },
      "execution_count": null,
      "outputs": []
    },
    {
      "cell_type": "code",
      "source": [
        "# Rename the column name \"stars\" to \"avg_stars\" to avoid naming conflicts with review dataset\n",
        "df_selected_business.rename(columns={\"stars\":\"avg_stars\"}, inplace=True)"
      ],
      "metadata": {
        "colab": {
          "base_uri": "https://localhost:8080/"
        },
        "id": "fAfHZtaICtLZ",
        "outputId": "4ddfef5c-705a-43a3-ccd1-48378f85bdd5"
      },
      "execution_count": null,
      "outputs": [
        {
          "output_type": "stream",
          "name": "stderr",
          "text": [
            "<ipython-input-12-216fc46aa9e4>:2: SettingWithCopyWarning: \n",
            "A value is trying to be set on a copy of a slice from a DataFrame\n",
            "\n",
            "See the caveats in the documentation: https://pandas.pydata.org/pandas-docs/stable/user_guide/indexing.html#returning-a-view-versus-a-copy\n",
            "  df_selected_business.rename(columns={\"stars\":\"avg_stars\"}, inplace=True)\n"
          ]
        }
      ]
    },
    {
      "cell_type": "code",
      "source": [
        "# Inspect your DataFrame\n",
        "df_selected_business.info()"
      ],
      "metadata": {
        "colab": {
          "base_uri": "https://localhost:8080/"
        },
        "id": "r-6oSVsECw_7",
        "outputId": "21588b91-6fad-4f22-f473-af58b2c45acf"
      },
      "execution_count": null,
      "outputs": [
        {
          "output_type": "stream",
          "name": "stdout",
          "text": [
            "<class 'pandas.core.frame.DataFrame'>\n",
            "Int64Index: 5852 entries, 3 to 150336\n",
            "Data columns (total 4 columns):\n",
            " #   Column       Non-Null Count  Dtype  \n",
            "---  ------       --------------  -----  \n",
            " 0   business_id  5852 non-null   object \n",
            " 1   name         5852 non-null   object \n",
            " 2   categories   5852 non-null   object \n",
            " 3   avg_stars    5852 non-null   float64\n",
            "dtypes: float64(1), object(3)\n",
            "memory usage: 228.6+ KB\n"
          ]
        }
      ]
    },
    {
      "cell_type": "code",
      "source": [
        "df_selected_business.head(5)"
      ],
      "metadata": {
        "colab": {
          "base_uri": "https://localhost:8080/",
          "height": 206
        },
        "id": "AyBBtn9aC47x",
        "outputId": "088a9c08-635f-4476-99b5-bbbb016bfaef"
      },
      "execution_count": null,
      "outputs": [
        {
          "output_type": "execute_result",
          "data": {
            "text/plain": [
              "               business_id                name  \\\n",
              "3   MTSW4McQd7CbVtyjqoe9mw  St Honore Pastries   \n",
              "15  MUTTqe8uqyMdBl186RmNeA            Tuna Bar   \n",
              "19  ROeacJQwBeh05Rqg7F6TCg                 BAP   \n",
              "28  QdN72BWoyFypdGJhhI5r7g             Bar One   \n",
              "31  Mjboz24M9NlBeiOJKLEd_Q    DeSandro on Main   \n",
              "\n",
              "                                           categories  avg_stars  \n",
              "3   Restaurants, Food, Bubble Tea, Coffee & Tea, B...        4.0  \n",
              "15                  Sushi Bars, Restaurants, Japanese        4.0  \n",
              "19                                Korean, Restaurants        4.5  \n",
              "28  Cocktail Bars, Bars, Italian, Nightlife, Resta...        4.0  \n",
              "31                    Pizza, Restaurants, Salad, Soup        3.0  "
            ],
            "text/html": [
              "\n",
              "  <div id=\"df-4818c51b-f321-4c24-9050-a11f5e32d7bf\">\n",
              "    <div class=\"colab-df-container\">\n",
              "      <div>\n",
              "<style scoped>\n",
              "    .dataframe tbody tr th:only-of-type {\n",
              "        vertical-align: middle;\n",
              "    }\n",
              "\n",
              "    .dataframe tbody tr th {\n",
              "        vertical-align: top;\n",
              "    }\n",
              "\n",
              "    .dataframe thead th {\n",
              "        text-align: right;\n",
              "    }\n",
              "</style>\n",
              "<table border=\"1\" class=\"dataframe\">\n",
              "  <thead>\n",
              "    <tr style=\"text-align: right;\">\n",
              "      <th></th>\n",
              "      <th>business_id</th>\n",
              "      <th>name</th>\n",
              "      <th>categories</th>\n",
              "      <th>avg_stars</th>\n",
              "    </tr>\n",
              "  </thead>\n",
              "  <tbody>\n",
              "    <tr>\n",
              "      <th>3</th>\n",
              "      <td>MTSW4McQd7CbVtyjqoe9mw</td>\n",
              "      <td>St Honore Pastries</td>\n",
              "      <td>Restaurants, Food, Bubble Tea, Coffee &amp; Tea, B...</td>\n",
              "      <td>4.0</td>\n",
              "    </tr>\n",
              "    <tr>\n",
              "      <th>15</th>\n",
              "      <td>MUTTqe8uqyMdBl186RmNeA</td>\n",
              "      <td>Tuna Bar</td>\n",
              "      <td>Sushi Bars, Restaurants, Japanese</td>\n",
              "      <td>4.0</td>\n",
              "    </tr>\n",
              "    <tr>\n",
              "      <th>19</th>\n",
              "      <td>ROeacJQwBeh05Rqg7F6TCg</td>\n",
              "      <td>BAP</td>\n",
              "      <td>Korean, Restaurants</td>\n",
              "      <td>4.5</td>\n",
              "    </tr>\n",
              "    <tr>\n",
              "      <th>28</th>\n",
              "      <td>QdN72BWoyFypdGJhhI5r7g</td>\n",
              "      <td>Bar One</td>\n",
              "      <td>Cocktail Bars, Bars, Italian, Nightlife, Resta...</td>\n",
              "      <td>4.0</td>\n",
              "    </tr>\n",
              "    <tr>\n",
              "      <th>31</th>\n",
              "      <td>Mjboz24M9NlBeiOJKLEd_Q</td>\n",
              "      <td>DeSandro on Main</td>\n",
              "      <td>Pizza, Restaurants, Salad, Soup</td>\n",
              "      <td>3.0</td>\n",
              "    </tr>\n",
              "  </tbody>\n",
              "</table>\n",
              "</div>\n",
              "      <button class=\"colab-df-convert\" onclick=\"convertToInteractive('df-4818c51b-f321-4c24-9050-a11f5e32d7bf')\"\n",
              "              title=\"Convert this dataframe to an interactive table.\"\n",
              "              style=\"display:none;\">\n",
              "        \n",
              "  <svg xmlns=\"http://www.w3.org/2000/svg\" height=\"24px\"viewBox=\"0 0 24 24\"\n",
              "       width=\"24px\">\n",
              "    <path d=\"M0 0h24v24H0V0z\" fill=\"none\"/>\n",
              "    <path d=\"M18.56 5.44l.94 2.06.94-2.06 2.06-.94-2.06-.94-.94-2.06-.94 2.06-2.06.94zm-11 1L8.5 8.5l.94-2.06 2.06-.94-2.06-.94L8.5 2.5l-.94 2.06-2.06.94zm10 10l.94 2.06.94-2.06 2.06-.94-2.06-.94-.94-2.06-.94 2.06-2.06.94z\"/><path d=\"M17.41 7.96l-1.37-1.37c-.4-.4-.92-.59-1.43-.59-.52 0-1.04.2-1.43.59L10.3 9.45l-7.72 7.72c-.78.78-.78 2.05 0 2.83L4 21.41c.39.39.9.59 1.41.59.51 0 1.02-.2 1.41-.59l7.78-7.78 2.81-2.81c.8-.78.8-2.07 0-2.86zM5.41 20L4 18.59l7.72-7.72 1.47 1.35L5.41 20z\"/>\n",
              "  </svg>\n",
              "      </button>\n",
              "      \n",
              "  <style>\n",
              "    .colab-df-container {\n",
              "      display:flex;\n",
              "      flex-wrap:wrap;\n",
              "      gap: 12px;\n",
              "    }\n",
              "\n",
              "    .colab-df-convert {\n",
              "      background-color: #E8F0FE;\n",
              "      border: none;\n",
              "      border-radius: 50%;\n",
              "      cursor: pointer;\n",
              "      display: none;\n",
              "      fill: #1967D2;\n",
              "      height: 32px;\n",
              "      padding: 0 0 0 0;\n",
              "      width: 32px;\n",
              "    }\n",
              "\n",
              "    .colab-df-convert:hover {\n",
              "      background-color: #E2EBFA;\n",
              "      box-shadow: 0px 1px 2px rgba(60, 64, 67, 0.3), 0px 1px 3px 1px rgba(60, 64, 67, 0.15);\n",
              "      fill: #174EA6;\n",
              "    }\n",
              "\n",
              "    [theme=dark] .colab-df-convert {\n",
              "      background-color: #3B4455;\n",
              "      fill: #D2E3FC;\n",
              "    }\n",
              "\n",
              "    [theme=dark] .colab-df-convert:hover {\n",
              "      background-color: #434B5C;\n",
              "      box-shadow: 0px 1px 3px 1px rgba(0, 0, 0, 0.15);\n",
              "      filter: drop-shadow(0px 1px 2px rgba(0, 0, 0, 0.3));\n",
              "      fill: #FFFFFF;\n",
              "    }\n",
              "  </style>\n",
              "\n",
              "      <script>\n",
              "        const buttonEl =\n",
              "          document.querySelector('#df-4818c51b-f321-4c24-9050-a11f5e32d7bf button.colab-df-convert');\n",
              "        buttonEl.style.display =\n",
              "          google.colab.kernel.accessAllowed ? 'block' : 'none';\n",
              "\n",
              "        async function convertToInteractive(key) {\n",
              "          const element = document.querySelector('#df-4818c51b-f321-4c24-9050-a11f5e32d7bf');\n",
              "          const dataTable =\n",
              "            await google.colab.kernel.invokeFunction('convertToInteractive',\n",
              "                                                     [key], {});\n",
              "          if (!dataTable) return;\n",
              "\n",
              "          const docLinkHtml = 'Like what you see? Visit the ' +\n",
              "            '<a target=\"_blank\" href=https://colab.research.google.com/notebooks/data_table.ipynb>data table notebook</a>'\n",
              "            + ' to learn more about interactive tables.';\n",
              "          element.innerHTML = '';\n",
              "          dataTable['output_type'] = 'display_data';\n",
              "          await google.colab.output.renderOutput(dataTable, element);\n",
              "          const docLink = document.createElement('div');\n",
              "          docLink.innerHTML = docLinkHtml;\n",
              "          element.appendChild(docLink);\n",
              "        }\n",
              "      </script>\n",
              "    </div>\n",
              "  </div>\n",
              "  "
            ]
          },
          "metadata": {},
          "execution_count": 14
        }
      ]
    },
    {
      "cell_type": "code",
      "source": [
        "\n",
        "df_selected_business.to_csv(\"philadephilla_business.csv\", index=False, encoding=\"utf-8\")"
      ],
      "metadata": {
        "id": "oU812AzoC9ND"
      },
      "execution_count": null,
      "outputs": []
    },
    {
      "cell_type": "code",
      "source": [
        "pd.read_csv(\"philadephilla_business.csv\", encoding=\"utf-8\").head()"
      ],
      "metadata": {
        "colab": {
          "base_uri": "https://localhost:8080/",
          "height": 206
        },
        "id": "BDIuf-h-DGOG",
        "outputId": "7d8a194b-7f1e-4576-8b6f-d776436df65f"
      },
      "execution_count": null,
      "outputs": [
        {
          "output_type": "execute_result",
          "data": {
            "text/plain": [
              "              business_id                name  \\\n",
              "0  MTSW4McQd7CbVtyjqoe9mw  St Honore Pastries   \n",
              "1  MUTTqe8uqyMdBl186RmNeA            Tuna Bar   \n",
              "2  ROeacJQwBeh05Rqg7F6TCg                 BAP   \n",
              "3  QdN72BWoyFypdGJhhI5r7g             Bar One   \n",
              "4  Mjboz24M9NlBeiOJKLEd_Q    DeSandro on Main   \n",
              "\n",
              "                                          categories  avg_stars  \n",
              "0  Restaurants, Food, Bubble Tea, Coffee & Tea, B...        4.0  \n",
              "1                  Sushi Bars, Restaurants, Japanese        4.0  \n",
              "2                                Korean, Restaurants        4.5  \n",
              "3  Cocktail Bars, Bars, Italian, Nightlife, Resta...        4.0  \n",
              "4                    Pizza, Restaurants, Salad, Soup        3.0  "
            ],
            "text/html": [
              "\n",
              "  <div id=\"df-a005daa4-1cf6-434a-ab1b-60feaf1d7c69\">\n",
              "    <div class=\"colab-df-container\">\n",
              "      <div>\n",
              "<style scoped>\n",
              "    .dataframe tbody tr th:only-of-type {\n",
              "        vertical-align: middle;\n",
              "    }\n",
              "\n",
              "    .dataframe tbody tr th {\n",
              "        vertical-align: top;\n",
              "    }\n",
              "\n",
              "    .dataframe thead th {\n",
              "        text-align: right;\n",
              "    }\n",
              "</style>\n",
              "<table border=\"1\" class=\"dataframe\">\n",
              "  <thead>\n",
              "    <tr style=\"text-align: right;\">\n",
              "      <th></th>\n",
              "      <th>business_id</th>\n",
              "      <th>name</th>\n",
              "      <th>categories</th>\n",
              "      <th>avg_stars</th>\n",
              "    </tr>\n",
              "  </thead>\n",
              "  <tbody>\n",
              "    <tr>\n",
              "      <th>0</th>\n",
              "      <td>MTSW4McQd7CbVtyjqoe9mw</td>\n",
              "      <td>St Honore Pastries</td>\n",
              "      <td>Restaurants, Food, Bubble Tea, Coffee &amp; Tea, B...</td>\n",
              "      <td>4.0</td>\n",
              "    </tr>\n",
              "    <tr>\n",
              "      <th>1</th>\n",
              "      <td>MUTTqe8uqyMdBl186RmNeA</td>\n",
              "      <td>Tuna Bar</td>\n",
              "      <td>Sushi Bars, Restaurants, Japanese</td>\n",
              "      <td>4.0</td>\n",
              "    </tr>\n",
              "    <tr>\n",
              "      <th>2</th>\n",
              "      <td>ROeacJQwBeh05Rqg7F6TCg</td>\n",
              "      <td>BAP</td>\n",
              "      <td>Korean, Restaurants</td>\n",
              "      <td>4.5</td>\n",
              "    </tr>\n",
              "    <tr>\n",
              "      <th>3</th>\n",
              "      <td>QdN72BWoyFypdGJhhI5r7g</td>\n",
              "      <td>Bar One</td>\n",
              "      <td>Cocktail Bars, Bars, Italian, Nightlife, Resta...</td>\n",
              "      <td>4.0</td>\n",
              "    </tr>\n",
              "    <tr>\n",
              "      <th>4</th>\n",
              "      <td>Mjboz24M9NlBeiOJKLEd_Q</td>\n",
              "      <td>DeSandro on Main</td>\n",
              "      <td>Pizza, Restaurants, Salad, Soup</td>\n",
              "      <td>3.0</td>\n",
              "    </tr>\n",
              "  </tbody>\n",
              "</table>\n",
              "</div>\n",
              "      <button class=\"colab-df-convert\" onclick=\"convertToInteractive('df-a005daa4-1cf6-434a-ab1b-60feaf1d7c69')\"\n",
              "              title=\"Convert this dataframe to an interactive table.\"\n",
              "              style=\"display:none;\">\n",
              "        \n",
              "  <svg xmlns=\"http://www.w3.org/2000/svg\" height=\"24px\"viewBox=\"0 0 24 24\"\n",
              "       width=\"24px\">\n",
              "    <path d=\"M0 0h24v24H0V0z\" fill=\"none\"/>\n",
              "    <path d=\"M18.56 5.44l.94 2.06.94-2.06 2.06-.94-2.06-.94-.94-2.06-.94 2.06-2.06.94zm-11 1L8.5 8.5l.94-2.06 2.06-.94-2.06-.94L8.5 2.5l-.94 2.06-2.06.94zm10 10l.94 2.06.94-2.06 2.06-.94-2.06-.94-.94-2.06-.94 2.06-2.06.94z\"/><path d=\"M17.41 7.96l-1.37-1.37c-.4-.4-.92-.59-1.43-.59-.52 0-1.04.2-1.43.59L10.3 9.45l-7.72 7.72c-.78.78-.78 2.05 0 2.83L4 21.41c.39.39.9.59 1.41.59.51 0 1.02-.2 1.41-.59l7.78-7.78 2.81-2.81c.8-.78.8-2.07 0-2.86zM5.41 20L4 18.59l7.72-7.72 1.47 1.35L5.41 20z\"/>\n",
              "  </svg>\n",
              "      </button>\n",
              "      \n",
              "  <style>\n",
              "    .colab-df-container {\n",
              "      display:flex;\n",
              "      flex-wrap:wrap;\n",
              "      gap: 12px;\n",
              "    }\n",
              "\n",
              "    .colab-df-convert {\n",
              "      background-color: #E8F0FE;\n",
              "      border: none;\n",
              "      border-radius: 50%;\n",
              "      cursor: pointer;\n",
              "      display: none;\n",
              "      fill: #1967D2;\n",
              "      height: 32px;\n",
              "      padding: 0 0 0 0;\n",
              "      width: 32px;\n",
              "    }\n",
              "\n",
              "    .colab-df-convert:hover {\n",
              "      background-color: #E2EBFA;\n",
              "      box-shadow: 0px 1px 2px rgba(60, 64, 67, 0.3), 0px 1px 3px 1px rgba(60, 64, 67, 0.15);\n",
              "      fill: #174EA6;\n",
              "    }\n",
              "\n",
              "    [theme=dark] .colab-df-convert {\n",
              "      background-color: #3B4455;\n",
              "      fill: #D2E3FC;\n",
              "    }\n",
              "\n",
              "    [theme=dark] .colab-df-convert:hover {\n",
              "      background-color: #434B5C;\n",
              "      box-shadow: 0px 1px 3px 1px rgba(0, 0, 0, 0.15);\n",
              "      filter: drop-shadow(0px 1px 2px rgba(0, 0, 0, 0.3));\n",
              "      fill: #FFFFFF;\n",
              "    }\n",
              "  </style>\n",
              "\n",
              "      <script>\n",
              "        const buttonEl =\n",
              "          document.querySelector('#df-a005daa4-1cf6-434a-ab1b-60feaf1d7c69 button.colab-df-convert');\n",
              "        buttonEl.style.display =\n",
              "          google.colab.kernel.accessAllowed ? 'block' : 'none';\n",
              "\n",
              "        async function convertToInteractive(key) {\n",
              "          const element = document.querySelector('#df-a005daa4-1cf6-434a-ab1b-60feaf1d7c69');\n",
              "          const dataTable =\n",
              "            await google.colab.kernel.invokeFunction('convertToInteractive',\n",
              "                                                     [key], {});\n",
              "          if (!dataTable) return;\n",
              "\n",
              "          const docLinkHtml = 'Like what you see? Visit the ' +\n",
              "            '<a target=\"_blank\" href=https://colab.research.google.com/notebooks/data_table.ipynb>data table notebook</a>'\n",
              "            + ' to learn more about interactive tables.';\n",
              "          element.innerHTML = '';\n",
              "          dataTable['output_type'] = 'display_data';\n",
              "          await google.colab.output.renderOutput(dataTable, element);\n",
              "          const docLink = document.createElement('div');\n",
              "          docLink.innerHTML = docLinkHtml;\n",
              "          element.appendChild(docLink);\n",
              "        }\n",
              "      </script>\n",
              "    </div>\n",
              "  </div>\n",
              "  "
            ]
          },
          "metadata": {},
          "execution_count": 16
        }
      ]
    },
    {
      "cell_type": "code",
      "source": [
        "review=pd.read_csv(\"/content/drive/MyDrive/yelp_review_final.csv\")"
      ],
      "metadata": {
        "id": "oXLL0M75DXiQ"
      },
      "execution_count": null,
      "outputs": []
    },
    {
      "cell_type": "code",
      "source": [
        "review.head()"
      ],
      "metadata": {
        "colab": {
          "base_uri": "https://localhost:8080/",
          "height": 721
        },
        "id": "ezOOU5VnDiqT",
        "outputId": "0abf302c-8ab1-410e-9125-ff1b2bc63a48"
      },
      "execution_count": null,
      "outputs": [
        {
          "output_type": "execute_result",
          "data": {
            "text/plain": [
              "                review_id                 user_id             business_id  \\\n",
              "0  KU_O5udG6zpxOg-VcAEodg  mh_-eMZ6K5RLWhZyISBhwA  XQfwVwDr-v0ZS3_CbbE5Xw   \n",
              "1  saUsX_uimxRlCVr67Z4Jig  8g_iMtfSiwikVnbP2etR0A  YjUWPpI6HXG530lwP-fb2A   \n",
              "2  AqPFMleE6RsU23_auESxiA  _7bHUi9Uuf5__HHc_Q8guQ  kxX2SOes4o-D3ZQBkiMRfA   \n",
              "3  Sx8TMOWLNuJBWer-0pcmoA  bcjbaE6dDog4jkNY91ncLQ  e4Vwtrqf-wpJfwesgvdgxQ   \n",
              "4  JrIxlS1TzJ-iCu79ul40cQ  eUta8W_HdHMXPzLBBZhL1A  04UD14gamNjLY0IDYVhHJg   \n",
              "\n",
              "   stars  useful  funny  cool  \\\n",
              "0      3       0      0     0   \n",
              "1      3       0      0     0   \n",
              "2      5       1      0     1   \n",
              "3      4       1      0     1   \n",
              "4      1       1      2     1   \n",
              "\n",
              "                                                text                 date  \n",
              "0  If you decide to eat here, just be aware it is...  2018-07-07 22:09:11  \n",
              "1  Family diner. Had the buffet. Eclectic assortm...  2014-02-05 20:30:30  \n",
              "2  Wow!  Yummy, different,  delicious.   Our favo...  2015-01-04 00:01:03  \n",
              "3  Cute interior and owner (?) gave us tour of up...  2017-01-14 20:54:15  \n",
              "4  I am a long term frequent customer of this est...  2015-09-23 23:10:31  "
            ],
            "text/html": [
              "\n",
              "  <div id=\"df-b5733304-32c2-498b-a04a-da67e6dd5836\">\n",
              "    <div class=\"colab-df-container\">\n",
              "      <div>\n",
              "<style scoped>\n",
              "    .dataframe tbody tr th:only-of-type {\n",
              "        vertical-align: middle;\n",
              "    }\n",
              "\n",
              "    .dataframe tbody tr th {\n",
              "        vertical-align: top;\n",
              "    }\n",
              "\n",
              "    .dataframe thead th {\n",
              "        text-align: right;\n",
              "    }\n",
              "</style>\n",
              "<table border=\"1\" class=\"dataframe\">\n",
              "  <thead>\n",
              "    <tr style=\"text-align: right;\">\n",
              "      <th></th>\n",
              "      <th>review_id</th>\n",
              "      <th>user_id</th>\n",
              "      <th>business_id</th>\n",
              "      <th>stars</th>\n",
              "      <th>useful</th>\n",
              "      <th>funny</th>\n",
              "      <th>cool</th>\n",
              "      <th>text</th>\n",
              "      <th>date</th>\n",
              "    </tr>\n",
              "  </thead>\n",
              "  <tbody>\n",
              "    <tr>\n",
              "      <th>0</th>\n",
              "      <td>KU_O5udG6zpxOg-VcAEodg</td>\n",
              "      <td>mh_-eMZ6K5RLWhZyISBhwA</td>\n",
              "      <td>XQfwVwDr-v0ZS3_CbbE5Xw</td>\n",
              "      <td>3</td>\n",
              "      <td>0</td>\n",
              "      <td>0</td>\n",
              "      <td>0</td>\n",
              "      <td>If you decide to eat here, just be aware it is...</td>\n",
              "      <td>2018-07-07 22:09:11</td>\n",
              "    </tr>\n",
              "    <tr>\n",
              "      <th>1</th>\n",
              "      <td>saUsX_uimxRlCVr67Z4Jig</td>\n",
              "      <td>8g_iMtfSiwikVnbP2etR0A</td>\n",
              "      <td>YjUWPpI6HXG530lwP-fb2A</td>\n",
              "      <td>3</td>\n",
              "      <td>0</td>\n",
              "      <td>0</td>\n",
              "      <td>0</td>\n",
              "      <td>Family diner. Had the buffet. Eclectic assortm...</td>\n",
              "      <td>2014-02-05 20:30:30</td>\n",
              "    </tr>\n",
              "    <tr>\n",
              "      <th>2</th>\n",
              "      <td>AqPFMleE6RsU23_auESxiA</td>\n",
              "      <td>_7bHUi9Uuf5__HHc_Q8guQ</td>\n",
              "      <td>kxX2SOes4o-D3ZQBkiMRfA</td>\n",
              "      <td>5</td>\n",
              "      <td>1</td>\n",
              "      <td>0</td>\n",
              "      <td>1</td>\n",
              "      <td>Wow!  Yummy, different,  delicious.   Our favo...</td>\n",
              "      <td>2015-01-04 00:01:03</td>\n",
              "    </tr>\n",
              "    <tr>\n",
              "      <th>3</th>\n",
              "      <td>Sx8TMOWLNuJBWer-0pcmoA</td>\n",
              "      <td>bcjbaE6dDog4jkNY91ncLQ</td>\n",
              "      <td>e4Vwtrqf-wpJfwesgvdgxQ</td>\n",
              "      <td>4</td>\n",
              "      <td>1</td>\n",
              "      <td>0</td>\n",
              "      <td>1</td>\n",
              "      <td>Cute interior and owner (?) gave us tour of up...</td>\n",
              "      <td>2017-01-14 20:54:15</td>\n",
              "    </tr>\n",
              "    <tr>\n",
              "      <th>4</th>\n",
              "      <td>JrIxlS1TzJ-iCu79ul40cQ</td>\n",
              "      <td>eUta8W_HdHMXPzLBBZhL1A</td>\n",
              "      <td>04UD14gamNjLY0IDYVhHJg</td>\n",
              "      <td>1</td>\n",
              "      <td>1</td>\n",
              "      <td>2</td>\n",
              "      <td>1</td>\n",
              "      <td>I am a long term frequent customer of this est...</td>\n",
              "      <td>2015-09-23 23:10:31</td>\n",
              "    </tr>\n",
              "  </tbody>\n",
              "</table>\n",
              "</div>\n",
              "      <button class=\"colab-df-convert\" onclick=\"convertToInteractive('df-b5733304-32c2-498b-a04a-da67e6dd5836')\"\n",
              "              title=\"Convert this dataframe to an interactive table.\"\n",
              "              style=\"display:none;\">\n",
              "        \n",
              "  <svg xmlns=\"http://www.w3.org/2000/svg\" height=\"24px\"viewBox=\"0 0 24 24\"\n",
              "       width=\"24px\">\n",
              "    <path d=\"M0 0h24v24H0V0z\" fill=\"none\"/>\n",
              "    <path d=\"M18.56 5.44l.94 2.06.94-2.06 2.06-.94-2.06-.94-.94-2.06-.94 2.06-2.06.94zm-11 1L8.5 8.5l.94-2.06 2.06-.94-2.06-.94L8.5 2.5l-.94 2.06-2.06.94zm10 10l.94 2.06.94-2.06 2.06-.94-2.06-.94-.94-2.06-.94 2.06-2.06.94z\"/><path d=\"M17.41 7.96l-1.37-1.37c-.4-.4-.92-.59-1.43-.59-.52 0-1.04.2-1.43.59L10.3 9.45l-7.72 7.72c-.78.78-.78 2.05 0 2.83L4 21.41c.39.39.9.59 1.41.59.51 0 1.02-.2 1.41-.59l7.78-7.78 2.81-2.81c.8-.78.8-2.07 0-2.86zM5.41 20L4 18.59l7.72-7.72 1.47 1.35L5.41 20z\"/>\n",
              "  </svg>\n",
              "      </button>\n",
              "      \n",
              "  <style>\n",
              "    .colab-df-container {\n",
              "      display:flex;\n",
              "      flex-wrap:wrap;\n",
              "      gap: 12px;\n",
              "    }\n",
              "\n",
              "    .colab-df-convert {\n",
              "      background-color: #E8F0FE;\n",
              "      border: none;\n",
              "      border-radius: 50%;\n",
              "      cursor: pointer;\n",
              "      display: none;\n",
              "      fill: #1967D2;\n",
              "      height: 32px;\n",
              "      padding: 0 0 0 0;\n",
              "      width: 32px;\n",
              "    }\n",
              "\n",
              "    .colab-df-convert:hover {\n",
              "      background-color: #E2EBFA;\n",
              "      box-shadow: 0px 1px 2px rgba(60, 64, 67, 0.3), 0px 1px 3px 1px rgba(60, 64, 67, 0.15);\n",
              "      fill: #174EA6;\n",
              "    }\n",
              "\n",
              "    [theme=dark] .colab-df-convert {\n",
              "      background-color: #3B4455;\n",
              "      fill: #D2E3FC;\n",
              "    }\n",
              "\n",
              "    [theme=dark] .colab-df-convert:hover {\n",
              "      background-color: #434B5C;\n",
              "      box-shadow: 0px 1px 3px 1px rgba(0, 0, 0, 0.15);\n",
              "      filter: drop-shadow(0px 1px 2px rgba(0, 0, 0, 0.3));\n",
              "      fill: #FFFFFF;\n",
              "    }\n",
              "  </style>\n",
              "\n",
              "      <script>\n",
              "        const buttonEl =\n",
              "          document.querySelector('#df-b5733304-32c2-498b-a04a-da67e6dd5836 button.colab-df-convert');\n",
              "        buttonEl.style.display =\n",
              "          google.colab.kernel.accessAllowed ? 'block' : 'none';\n",
              "\n",
              "        async function convertToInteractive(key) {\n",
              "          const element = document.querySelector('#df-b5733304-32c2-498b-a04a-da67e6dd5836');\n",
              "          const dataTable =\n",
              "            await google.colab.kernel.invokeFunction('convertToInteractive',\n",
              "                                                     [key], {});\n",
              "          if (!dataTable) return;\n",
              "\n",
              "          const docLinkHtml = 'Like what you see? Visit the ' +\n",
              "            '<a target=\"_blank\" href=https://colab.research.google.com/notebooks/data_table.ipynb>data table notebook</a>'\n",
              "            + ' to learn more about interactive tables.';\n",
              "          element.innerHTML = '';\n",
              "          dataTable['output_type'] = 'display_data';\n",
              "          await google.colab.output.renderOutput(dataTable, element);\n",
              "          const docLink = document.createElement('div');\n",
              "          docLink.innerHTML = docLinkHtml;\n",
              "          element.appendChild(docLink);\n",
              "        }\n",
              "      </script>\n",
              "    </div>\n",
              "  </div>\n",
              "  "
            ]
          },
          "metadata": {},
          "execution_count": 18
        }
      ]
    },
    {
      "cell_type": "code",
      "source": [
        "review.info()"
      ],
      "metadata": {
        "colab": {
          "base_uri": "https://localhost:8080/"
        },
        "id": "5zEulvX7D763",
        "outputId": "bd6fb171-6d61-4fd6-fc86-83a52c0ae4f1"
      },
      "execution_count": null,
      "outputs": [
        {
          "output_type": "stream",
          "name": "stdout",
          "text": [
            "<class 'pandas.core.frame.DataFrame'>\n",
            "RangeIndex: 283029 entries, 0 to 283028\n",
            "Data columns (total 9 columns):\n",
            " #   Column       Non-Null Count   Dtype \n",
            "---  ------       --------------   ----- \n",
            " 0   review_id    283029 non-null  object\n",
            " 1   user_id      283029 non-null  object\n",
            " 2   business_id  283029 non-null  object\n",
            " 3   stars        283029 non-null  int64 \n",
            " 4   useful       283029 non-null  int64 \n",
            " 5   funny        283029 non-null  int64 \n",
            " 6   cool         283029 non-null  int64 \n",
            " 7   text         283029 non-null  object\n",
            " 8   date         283029 non-null  object\n",
            "dtypes: int64(4), object(5)\n",
            "memory usage: 19.4+ MB\n"
          ]
        }
      ]
    },
    {
      "cell_type": "code",
      "source": [
        "# Prepare the business dataframe and set index to column \"business_id\", and name it as df_left\n",
        "df_left = df_selected_business.set_index('business_id')"
      ],
      "metadata": {
        "id": "3_lU6CrODpC6"
      },
      "execution_count": null,
      "outputs": []
    },
    {
      "cell_type": "code",
      "source": [
        "review[\"date\"].max()"
      ],
      "metadata": {
        "colab": {
          "base_uri": "https://localhost:8080/",
          "height": 35
        },
        "id": "Bru7oq0zDvMY",
        "outputId": "39875625-8598-486f-ac9b-5c3561a521f7"
      },
      "execution_count": null,
      "outputs": [
        {
          "output_type": "execute_result",
          "data": {
            "text/plain": [
              "'2021-09-02 00:11:15'"
            ],
            "application/vnd.google.colaboratory.intrinsic+json": {
              "type": "string"
            }
          },
          "metadata": {},
          "execution_count": 21
        }
      ]
    },
    {
      "cell_type": "code",
      "source": [
        "# Prepare the review dataframe and set index to column \"business_id\", and name it as df_right\n",
        "# Also filter date after '2017-02-01'\n",
        "df_review = review[review['date']>'2017-02-01'].set_index('business_id')"
      ],
      "metadata": {
        "id": "IoVXXvxTE4T0"
      },
      "execution_count": null,
      "outputs": []
    },
    {
      "cell_type": "code",
      "source": [
        "df_review"
      ],
      "metadata": {
        "colab": {
          "base_uri": "https://localhost:8080/",
          "height": 1000
        },
        "id": "ll6_6MjhFdHp",
        "outputId": "102e3258-5849-4a09-fd9d-491e3480dd84"
      },
      "execution_count": null,
      "outputs": [
        {
          "output_type": "execute_result",
          "data": {
            "text/plain": [
              "                                     review_id                 user_id  stars  \\\n",
              "business_id                                                                     \n",
              "XQfwVwDr-v0ZS3_CbbE5Xw  KU_O5udG6zpxOg-VcAEodg  mh_-eMZ6K5RLWhZyISBhwA      3   \n",
              "cPepkJeRMtHapc_b2Oe_dw  lUUhg8ltDsUZ9h0xnwY4Dg  RreNy--tOmXMl1en0wiBOg      4   \n",
              "bMratNjTG5ZFEA6hVyr-xQ  -P5E9BYUaK7s3PwBF5oAyg  Jha0USGDMefGFRLik_xFQg      5   \n",
              "0pMj5xUAecW9o1P35B0AMw  40thYphUgIfvJq17QCfTwA  QzCEzH3R7Z6erOGLr3t55Q      5   \n",
              "kq5Ghhh14r-eCxlVmlyd8w  JBWZmBy69VMggxj3eYn17Q  aFa96pz67TwOFu4Weq5Agg      5   \n",
              "...                                        ...                     ...    ...   \n",
              "ZapDvyE7lJxVxlmeeKyjkg  nlQF10Q_9tzh4PZqv52M7Q  ttn01jq3Agq76xdBiFgPlw      5   \n",
              "5Y_TiS_KJAgJMf9ZiKutEQ  rE84zhHzxGcl-VIEDV7qLA  RqbpeQB4FyNEigv0Dx-XWQ      4   \n",
              "kQRB8RNwd7cEMcURTS-I7A  VcdeItekZswCNUVCUTk3zA  aF56vJ17QYZolYHgsruIIA      5   \n",
              "Wc-c_hQK4vFCl9keeVTUZw  N7NrgpbP1Zm5jIfDmruBfA  Qn80wriTu1qgRnOBLBlT6Q      2   \n",
              "KP5OncF2jhT7_J1phHPPww  NblCT6zH-jpUONDAFiPq9Q  W1MeJas3nFnSzdWrO4uj4A      5   \n",
              "\n",
              "                        useful  funny  cool  \\\n",
              "business_id                                   \n",
              "XQfwVwDr-v0ZS3_CbbE5Xw       0      0     0   \n",
              "cPepkJeRMtHapc_b2Oe_dw       1      0     1   \n",
              "bMratNjTG5ZFEA6hVyr-xQ       0      0     0   \n",
              "0pMj5xUAecW9o1P35B0AMw       1      0     1   \n",
              "kq5Ghhh14r-eCxlVmlyd8w       0      0     0   \n",
              "...                        ...    ...   ...   \n",
              "ZapDvyE7lJxVxlmeeKyjkg       1      0     1   \n",
              "5Y_TiS_KJAgJMf9ZiKutEQ       0      0     0   \n",
              "kQRB8RNwd7cEMcURTS-I7A       1      0     0   \n",
              "Wc-c_hQK4vFCl9keeVTUZw       0      0     0   \n",
              "KP5OncF2jhT7_J1phHPPww       0      0     0   \n",
              "\n",
              "                                                                     text  \\\n",
              "business_id                                                                 \n",
              "XQfwVwDr-v0ZS3_CbbE5Xw  If you decide to eat here, just be aware it is...   \n",
              "cPepkJeRMtHapc_b2Oe_dw  I was really between 3 and 4 stars for this on...   \n",
              "bMratNjTG5ZFEA6hVyr-xQ  First time there and it was excellent!!! It fe...   \n",
              "0pMj5xUAecW9o1P35B0AMw  Great staff always helps and always nice. Alwa...   \n",
              "kq5Ghhh14r-eCxlVmlyd8w  My boyfriend and I tried this deli for the fir...   \n",
              "...                                                                   ...   \n",
              "ZapDvyE7lJxVxlmeeKyjkg  Great food. \\n\\nAnd the service was great by J...   \n",
              "5Y_TiS_KJAgJMf9ZiKutEQ  Steak sandwich and fries steak sandwich and fr...   \n",
              "kQRB8RNwd7cEMcURTS-I7A  Had the vegan tofu scramble and it was so good...   \n",
              "Wc-c_hQK4vFCl9keeVTUZw  Last week after months of hard work --and not ...   \n",
              "KP5OncF2jhT7_J1phHPPww  Very nice food and drinks, tres de leches is m...   \n",
              "\n",
              "                                       date  \n",
              "business_id                                  \n",
              "XQfwVwDr-v0ZS3_CbbE5Xw  2018-07-07 22:09:11  \n",
              "cPepkJeRMtHapc_b2Oe_dw  2018-07-17 03:30:07  \n",
              "bMratNjTG5ZFEA6hVyr-xQ  2017-02-19 13:32:05  \n",
              "0pMj5xUAecW9o1P35B0AMw  2017-05-26 13:10:24  \n",
              "kq5Ghhh14r-eCxlVmlyd8w  2018-08-23 21:39:38  \n",
              "...                                     ...  \n",
              "ZapDvyE7lJxVxlmeeKyjkg  2019-02-25 03:36:16  \n",
              "5Y_TiS_KJAgJMf9ZiKutEQ  2018-10-04 20:50:27  \n",
              "kQRB8RNwd7cEMcURTS-I7A  2018-03-30 22:48:42  \n",
              "Wc-c_hQK4vFCl9keeVTUZw  2018-10-19 05:10:58  \n",
              "KP5OncF2jhT7_J1phHPPww  2019-04-25 01:50:40  \n",
              "\n",
              "[103336 rows x 8 columns]"
            ],
            "text/html": [
              "\n",
              "  <div id=\"df-d04503b3-ac9d-4f2b-8a5d-53848185645d\">\n",
              "    <div class=\"colab-df-container\">\n",
              "      <div>\n",
              "<style scoped>\n",
              "    .dataframe tbody tr th:only-of-type {\n",
              "        vertical-align: middle;\n",
              "    }\n",
              "\n",
              "    .dataframe tbody tr th {\n",
              "        vertical-align: top;\n",
              "    }\n",
              "\n",
              "    .dataframe thead th {\n",
              "        text-align: right;\n",
              "    }\n",
              "</style>\n",
              "<table border=\"1\" class=\"dataframe\">\n",
              "  <thead>\n",
              "    <tr style=\"text-align: right;\">\n",
              "      <th></th>\n",
              "      <th>review_id</th>\n",
              "      <th>user_id</th>\n",
              "      <th>stars</th>\n",
              "      <th>useful</th>\n",
              "      <th>funny</th>\n",
              "      <th>cool</th>\n",
              "      <th>text</th>\n",
              "      <th>date</th>\n",
              "    </tr>\n",
              "    <tr>\n",
              "      <th>business_id</th>\n",
              "      <th></th>\n",
              "      <th></th>\n",
              "      <th></th>\n",
              "      <th></th>\n",
              "      <th></th>\n",
              "      <th></th>\n",
              "      <th></th>\n",
              "      <th></th>\n",
              "    </tr>\n",
              "  </thead>\n",
              "  <tbody>\n",
              "    <tr>\n",
              "      <th>XQfwVwDr-v0ZS3_CbbE5Xw</th>\n",
              "      <td>KU_O5udG6zpxOg-VcAEodg</td>\n",
              "      <td>mh_-eMZ6K5RLWhZyISBhwA</td>\n",
              "      <td>3</td>\n",
              "      <td>0</td>\n",
              "      <td>0</td>\n",
              "      <td>0</td>\n",
              "      <td>If you decide to eat here, just be aware it is...</td>\n",
              "      <td>2018-07-07 22:09:11</td>\n",
              "    </tr>\n",
              "    <tr>\n",
              "      <th>cPepkJeRMtHapc_b2Oe_dw</th>\n",
              "      <td>lUUhg8ltDsUZ9h0xnwY4Dg</td>\n",
              "      <td>RreNy--tOmXMl1en0wiBOg</td>\n",
              "      <td>4</td>\n",
              "      <td>1</td>\n",
              "      <td>0</td>\n",
              "      <td>1</td>\n",
              "      <td>I was really between 3 and 4 stars for this on...</td>\n",
              "      <td>2018-07-17 03:30:07</td>\n",
              "    </tr>\n",
              "    <tr>\n",
              "      <th>bMratNjTG5ZFEA6hVyr-xQ</th>\n",
              "      <td>-P5E9BYUaK7s3PwBF5oAyg</td>\n",
              "      <td>Jha0USGDMefGFRLik_xFQg</td>\n",
              "      <td>5</td>\n",
              "      <td>0</td>\n",
              "      <td>0</td>\n",
              "      <td>0</td>\n",
              "      <td>First time there and it was excellent!!! It fe...</td>\n",
              "      <td>2017-02-19 13:32:05</td>\n",
              "    </tr>\n",
              "    <tr>\n",
              "      <th>0pMj5xUAecW9o1P35B0AMw</th>\n",
              "      <td>40thYphUgIfvJq17QCfTwA</td>\n",
              "      <td>QzCEzH3R7Z6erOGLr3t55Q</td>\n",
              "      <td>5</td>\n",
              "      <td>1</td>\n",
              "      <td>0</td>\n",
              "      <td>1</td>\n",
              "      <td>Great staff always helps and always nice. Alwa...</td>\n",
              "      <td>2017-05-26 13:10:24</td>\n",
              "    </tr>\n",
              "    <tr>\n",
              "      <th>kq5Ghhh14r-eCxlVmlyd8w</th>\n",
              "      <td>JBWZmBy69VMggxj3eYn17Q</td>\n",
              "      <td>aFa96pz67TwOFu4Weq5Agg</td>\n",
              "      <td>5</td>\n",
              "      <td>0</td>\n",
              "      <td>0</td>\n",
              "      <td>0</td>\n",
              "      <td>My boyfriend and I tried this deli for the fir...</td>\n",
              "      <td>2018-08-23 21:39:38</td>\n",
              "    </tr>\n",
              "    <tr>\n",
              "      <th>...</th>\n",
              "      <td>...</td>\n",
              "      <td>...</td>\n",
              "      <td>...</td>\n",
              "      <td>...</td>\n",
              "      <td>...</td>\n",
              "      <td>...</td>\n",
              "      <td>...</td>\n",
              "      <td>...</td>\n",
              "    </tr>\n",
              "    <tr>\n",
              "      <th>ZapDvyE7lJxVxlmeeKyjkg</th>\n",
              "      <td>nlQF10Q_9tzh4PZqv52M7Q</td>\n",
              "      <td>ttn01jq3Agq76xdBiFgPlw</td>\n",
              "      <td>5</td>\n",
              "      <td>1</td>\n",
              "      <td>0</td>\n",
              "      <td>1</td>\n",
              "      <td>Great food. \\n\\nAnd the service was great by J...</td>\n",
              "      <td>2019-02-25 03:36:16</td>\n",
              "    </tr>\n",
              "    <tr>\n",
              "      <th>5Y_TiS_KJAgJMf9ZiKutEQ</th>\n",
              "      <td>rE84zhHzxGcl-VIEDV7qLA</td>\n",
              "      <td>RqbpeQB4FyNEigv0Dx-XWQ</td>\n",
              "      <td>4</td>\n",
              "      <td>0</td>\n",
              "      <td>0</td>\n",
              "      <td>0</td>\n",
              "      <td>Steak sandwich and fries steak sandwich and fr...</td>\n",
              "      <td>2018-10-04 20:50:27</td>\n",
              "    </tr>\n",
              "    <tr>\n",
              "      <th>kQRB8RNwd7cEMcURTS-I7A</th>\n",
              "      <td>VcdeItekZswCNUVCUTk3zA</td>\n",
              "      <td>aF56vJ17QYZolYHgsruIIA</td>\n",
              "      <td>5</td>\n",
              "      <td>1</td>\n",
              "      <td>0</td>\n",
              "      <td>0</td>\n",
              "      <td>Had the vegan tofu scramble and it was so good...</td>\n",
              "      <td>2018-03-30 22:48:42</td>\n",
              "    </tr>\n",
              "    <tr>\n",
              "      <th>Wc-c_hQK4vFCl9keeVTUZw</th>\n",
              "      <td>N7NrgpbP1Zm5jIfDmruBfA</td>\n",
              "      <td>Qn80wriTu1qgRnOBLBlT6Q</td>\n",
              "      <td>2</td>\n",
              "      <td>0</td>\n",
              "      <td>0</td>\n",
              "      <td>0</td>\n",
              "      <td>Last week after months of hard work --and not ...</td>\n",
              "      <td>2018-10-19 05:10:58</td>\n",
              "    </tr>\n",
              "    <tr>\n",
              "      <th>KP5OncF2jhT7_J1phHPPww</th>\n",
              "      <td>NblCT6zH-jpUONDAFiPq9Q</td>\n",
              "      <td>W1MeJas3nFnSzdWrO4uj4A</td>\n",
              "      <td>5</td>\n",
              "      <td>0</td>\n",
              "      <td>0</td>\n",
              "      <td>0</td>\n",
              "      <td>Very nice food and drinks, tres de leches is m...</td>\n",
              "      <td>2019-04-25 01:50:40</td>\n",
              "    </tr>\n",
              "  </tbody>\n",
              "</table>\n",
              "<p>103336 rows × 8 columns</p>\n",
              "</div>\n",
              "      <button class=\"colab-df-convert\" onclick=\"convertToInteractive('df-d04503b3-ac9d-4f2b-8a5d-53848185645d')\"\n",
              "              title=\"Convert this dataframe to an interactive table.\"\n",
              "              style=\"display:none;\">\n",
              "        \n",
              "  <svg xmlns=\"http://www.w3.org/2000/svg\" height=\"24px\"viewBox=\"0 0 24 24\"\n",
              "       width=\"24px\">\n",
              "    <path d=\"M0 0h24v24H0V0z\" fill=\"none\"/>\n",
              "    <path d=\"M18.56 5.44l.94 2.06.94-2.06 2.06-.94-2.06-.94-.94-2.06-.94 2.06-2.06.94zm-11 1L8.5 8.5l.94-2.06 2.06-.94-2.06-.94L8.5 2.5l-.94 2.06-2.06.94zm10 10l.94 2.06.94-2.06 2.06-.94-2.06-.94-.94-2.06-.94 2.06-2.06.94z\"/><path d=\"M17.41 7.96l-1.37-1.37c-.4-.4-.92-.59-1.43-.59-.52 0-1.04.2-1.43.59L10.3 9.45l-7.72 7.72c-.78.78-.78 2.05 0 2.83L4 21.41c.39.39.9.59 1.41.59.51 0 1.02-.2 1.41-.59l7.78-7.78 2.81-2.81c.8-.78.8-2.07 0-2.86zM5.41 20L4 18.59l7.72-7.72 1.47 1.35L5.41 20z\"/>\n",
              "  </svg>\n",
              "      </button>\n",
              "      \n",
              "  <style>\n",
              "    .colab-df-container {\n",
              "      display:flex;\n",
              "      flex-wrap:wrap;\n",
              "      gap: 12px;\n",
              "    }\n",
              "\n",
              "    .colab-df-convert {\n",
              "      background-color: #E8F0FE;\n",
              "      border: none;\n",
              "      border-radius: 50%;\n",
              "      cursor: pointer;\n",
              "      display: none;\n",
              "      fill: #1967D2;\n",
              "      height: 32px;\n",
              "      padding: 0 0 0 0;\n",
              "      width: 32px;\n",
              "    }\n",
              "\n",
              "    .colab-df-convert:hover {\n",
              "      background-color: #E2EBFA;\n",
              "      box-shadow: 0px 1px 2px rgba(60, 64, 67, 0.3), 0px 1px 3px 1px rgba(60, 64, 67, 0.15);\n",
              "      fill: #174EA6;\n",
              "    }\n",
              "\n",
              "    [theme=dark] .colab-df-convert {\n",
              "      background-color: #3B4455;\n",
              "      fill: #D2E3FC;\n",
              "    }\n",
              "\n",
              "    [theme=dark] .colab-df-convert:hover {\n",
              "      background-color: #434B5C;\n",
              "      box-shadow: 0px 1px 3px 1px rgba(0, 0, 0, 0.15);\n",
              "      filter: drop-shadow(0px 1px 2px rgba(0, 0, 0, 0.3));\n",
              "      fill: #FFFFFF;\n",
              "    }\n",
              "  </style>\n",
              "\n",
              "      <script>\n",
              "        const buttonEl =\n",
              "          document.querySelector('#df-d04503b3-ac9d-4f2b-8a5d-53848185645d button.colab-df-convert');\n",
              "        buttonEl.style.display =\n",
              "          google.colab.kernel.accessAllowed ? 'block' : 'none';\n",
              "\n",
              "        async function convertToInteractive(key) {\n",
              "          const element = document.querySelector('#df-d04503b3-ac9d-4f2b-8a5d-53848185645d');\n",
              "          const dataTable =\n",
              "            await google.colab.kernel.invokeFunction('convertToInteractive',\n",
              "                                                     [key], {});\n",
              "          if (!dataTable) return;\n",
              "\n",
              "          const docLinkHtml = 'Like what you see? Visit the ' +\n",
              "            '<a target=\"_blank\" href=https://colab.research.google.com/notebooks/data_table.ipynb>data table notebook</a>'\n",
              "            + ' to learn more about interactive tables.';\n",
              "          element.innerHTML = '';\n",
              "          dataTable['output_type'] = 'display_data';\n",
              "          await google.colab.output.renderOutput(dataTable, element);\n",
              "          const docLink = document.createElement('div');\n",
              "          docLink.innerHTML = docLinkHtml;\n",
              "          element.appendChild(docLink);\n",
              "        }\n",
              "      </script>\n",
              "    </div>\n",
              "  </div>\n",
              "  "
            ]
          },
          "metadata": {},
          "execution_count": 23
        }
      ]
    },
    {
      "cell_type": "code",
      "source": [
        "# Join df_left and df_right. What type of join?\n",
        "df_final = df_left.join(df_review,how='inner')"
      ],
      "metadata": {
        "id": "xePrVJYoFkua"
      },
      "execution_count": null,
      "outputs": []
    },
    {
      "cell_type": "code",
      "source": [
        "# You may want to reset the index \n",
        "df_final = df_final.reset_index()"
      ],
      "metadata": {
        "id": "WDXyE2PlFogR"
      },
      "execution_count": null,
      "outputs": []
    },
    {
      "cell_type": "code",
      "source": [
        "df_final.shape"
      ],
      "metadata": {
        "colab": {
          "base_uri": "https://localhost:8080/"
        },
        "id": "kGgRSSZYFs-w",
        "outputId": "3081099a-cda6-48c1-849d-d10463c17a97"
      },
      "execution_count": null,
      "outputs": [
        {
          "output_type": "execute_result",
          "data": {
            "text/plain": [
              "(12282, 12)"
            ]
          },
          "metadata": {},
          "execution_count": 26
        }
      ]
    },
    {
      "cell_type": "code",
      "source": [
        "plt.hist(df_final['stars'], bins = 5)\n",
        "# The histogram of the stars distribution. "
      ],
      "metadata": {
        "colab": {
          "base_uri": "https://localhost:8080/",
          "height": 482
        },
        "id": "zq_zZTpfFxR2",
        "outputId": "c11e588a-02f2-4dce-ea24-5c735d98dc8a"
      },
      "execution_count": null,
      "outputs": [
        {
          "output_type": "execute_result",
          "data": {
            "text/plain": [
              "(array([1290.,  885., 1342., 2856., 5909.]),\n",
              " array([1. , 1.8, 2.6, 3.4, 4.2, 5. ]),\n",
              " <BarContainer object of 5 artists>)"
            ]
          },
          "metadata": {},
          "execution_count": 27
        },
        {
          "output_type": "display_data",
          "data": {
            "text/plain": [
              "<Figure size 640x480 with 1 Axes>"
            ],
            "image/png": "[encoded data removed]"
          },
          "metadata": {}
        }
      ]
    },
    {
      "cell_type": "code",
      "source": [
        "df_final[\"categories\"].value_counts()"
      ],
      "metadata": {
        "colab": {
          "base_uri": "https://localhost:8080/"
        },
        "id": "SMbMfCJwGCHZ",
        "outputId": "258f272c-fe8b-41a8-8d75-f03bd6da5ee2"
      },
      "execution_count": null,
      "outputs": [
        {
          "output_type": "execute_result",
          "data": {
            "text/plain": [
              "Active Life, Beer Gardens, Grocery, Middle Eastern, Specialty Food, American (New), Parks, Cafes, Food, Nightlife, Restaurants, Coffee & Tea, Lebanese    364\n",
              "Malaysian, Asian Fusion, Cambodian, Chinese, Restaurants, Thai                                                                                            235\n",
              "Restaurants, American (New), Breakfast & Brunch, Burgers                                                                                                  218\n",
              "American (New), Restaurants, Southern, Diners, American (Traditional)                                                                                     183\n",
              "Restaurants, Italian                                                                                                                                      178\n",
              "                                                                                                                                                         ... \n",
              "Restaurants, Delis                                                                                                                                          1\n",
              "American (New), Restaurants                                                                                                                                 1\n",
              "Latin American, Restaurants                                                                                                                                 1\n",
              "Southern, Tapas/Small Plates, Restaurants                                                                                                                   1\n",
              "Food, Do-It-Yourself Food, Restaurants, Italian                                                                                                             1\n",
              "Name: categories, Length: 395, dtype: int64"
            ]
          },
          "metadata": {},
          "execution_count": 28
        }
      ]
    },
    {
      "cell_type": "code",
      "source": [
        "df_final[\"Mexican\"] = df_final[\"categories\"].apply(lambda x: \"Mexic\" in x)"
      ],
      "metadata": {
        "id": "iq_S1_uBGURo"
      },
      "execution_count": null,
      "outputs": []
    },
    {
      "cell_type": "code",
      "source": [
        "\n",
        "df_final['count'] = df_final.groupby('business_id')['business_id'].transform('count')\n",
        "\n",
        "\n"
      ],
      "metadata": {
        "id": "dwq6v-9qSqFS"
      },
      "execution_count": null,
      "outputs": []
    },
    {
      "cell_type": "code",
      "source": [
        "df_final"
      ],
      "metadata": {
        "colab": {
          "base_uri": "https://localhost:8080/",
          "height": 1000
        },
        "id": "h-iawZgxUyKN",
        "outputId": "939a055d-163a-4074-8242-65478c34a737"
      },
      "execution_count": null,
      "outputs": [
        {
          "output_type": "execute_result",
          "data": {
            "text/plain": [
              "                  business_id           name  \\\n",
              "0      -ATiAtTikuGuqvaW2O6tNA       Marathon   \n",
              "1      -ATiAtTikuGuqvaW2O6tNA       Marathon   \n",
              "2      -ATiAtTikuGuqvaW2O6tNA       Marathon   \n",
              "3      -ATiAtTikuGuqvaW2O6tNA       Marathon   \n",
              "4      -ATiAtTikuGuqvaW2O6tNA       Marathon   \n",
              "...                       ...            ...   \n",
              "12277  zwTmOj4B_OVPMTMYijQiKg    Queen Sheba   \n",
              "12278  zwTmOj4B_OVPMTMYijQiKg    Queen Sheba   \n",
              "12279  zwTmOj4B_OVPMTMYijQiKg    Queen Sheba   \n",
              "12280  zwTmOj4B_OVPMTMYijQiKg    Queen Sheba   \n",
              "12281  zxY4DgtXsVHihSUpsmwamg  P & S Ravioli   \n",
              "\n",
              "                                              categories  avg_stars  \\\n",
              "0      Sandwiches, American (New), Lounges, Nightlife...        3.5   \n",
              "1      Sandwiches, American (New), Lounges, Nightlife...        3.5   \n",
              "2      Sandwiches, American (New), Lounges, Nightlife...        3.5   \n",
              "3      Sandwiches, American (New), Lounges, Nightlife...        3.5   \n",
              "4      Sandwiches, American (New), Lounges, Nightlife...        3.5   \n",
              "...                                                  ...        ...   \n",
              "12277  Nightlife, Restaurants, Sports Bars, Bars, Eth...        4.0   \n",
              "12278  Nightlife, Restaurants, Sports Bars, Bars, Eth...        4.0   \n",
              "12279  Nightlife, Restaurants, Sports Bars, Bars, Eth...        4.0   \n",
              "12280  Nightlife, Restaurants, Sports Bars, Bars, Eth...        4.0   \n",
              "12281    Food, Do-It-Yourself Food, Restaurants, Italian        4.5   \n",
              "\n",
              "                    review_id                 user_id  stars  useful  funny  \\\n",
              "0      7FLXp3VCE1RHOqsGBk2JNg  OBoeuSW39_uwUXGtN4vdOA      4       0      0   \n",
              "1      DGkj-4PdsCtzQUtN5A42tA  mhwNRi3mBekFM-9zN2aRxw      5       0      0   \n",
              "2      ulLwjsg4vc-tjsLI3lx6QQ  PWjXfHHm5LQhyPgZcedLzA      3       0      0   \n",
              "3      29pECaECmT2iHVDK_gY8bA  s2apTe1qD9Bytunpj4enMw      4       0      0   \n",
              "4      jS-Se0swmLUwYsFjeNoLTg  QZy2N84_45OkPU_oUxy6Dw      4       0      0   \n",
              "...                       ...                     ...    ...     ...    ...   \n",
              "12277  vTN_VHaE8oTdGyucLmk6Sw  S6qCyr_IdFjgHoAjVCh5IA      3       1      0   \n",
              "12278  hd6aC9cshutPdG5q3L4foA  UE6e9sCOFW5qSzginRxmHw      2       1      0   \n",
              "12279  B5eX8Igw9vDCd48gxaIVCw  pwPeYSSXBixpsCn6l1meOA      4       1      0   \n",
              "12280  siqVMKtZWoprj4yJhkIfwg  PyTZL_WXo8anb4Bju5-xFA      5       2      1   \n",
              "12281  DPbSB1heWhFl6y6yXDAHbg  -WdMmmWVU5TZ9bfy0Cg3Ng      5       0      0   \n",
              "\n",
              "       cool                                               text  \\\n",
              "0         0  Straight to the point: the service, the one di...   \n",
              "1         0  Great turkey burger. I would've taken a photo ...   \n",
              "2         0  I ordered the turkey chilli and it was sold ou...   \n",
              "3         0  Went here with friends on a Thursday evening a...   \n",
              "4         0  Great place. We had excellent 4 star vegetaria...   \n",
              "...     ...                                                ...   \n",
              "12277     0  Great neighborhood spot for cheap drinks along...   \n",
              "12278     0  I went here on a Friday night with some friend...   \n",
              "12279     0  I adore Ethiopian food, and this place did not...   \n",
              "12280     2  I am new to Ethiopian Food, but this place is ...   \n",
              "12281     0  Every time I'm in Philly I make a point to sto...   \n",
              "\n",
              "                      date  Mexican  count  \n",
              "0      2017-09-09 12:33:12    False    113  \n",
              "1      2017-11-10 18:48:06    False    113  \n",
              "2      2018-03-19 11:13:32    False    113  \n",
              "3      2018-07-18 00:49:32    False    113  \n",
              "4      2017-02-20 01:11:49    False    113  \n",
              "...                    ...      ...    ...  \n",
              "12277  2018-02-13 03:09:38    False      4  \n",
              "12278  2017-09-03 23:39:08    False      4  \n",
              "12279  2017-04-25 15:22:28    False      4  \n",
              "12280  2019-07-15 00:28:43    False      4  \n",
              "12281  2018-03-04 23:38:56    False      1  \n",
              "\n",
              "[12282 rows x 14 columns]"
            ],
            "text/html": [
              "\n",
              "  <div id=\"df-c85e8717-6104-46da-a51d-ea1ca1447b73\">\n",
              "    <div class=\"colab-df-container\">\n",
              "      <div>\n",
              "<style scoped>\n",
              "    .dataframe tbody tr th:only-of-type {\n",
              "        vertical-align: middle;\n",
              "    }\n",
              "\n",
              "    .dataframe tbody tr th {\n",
              "        vertical-align: top;\n",
              "    }\n",
              "\n",
              "    .dataframe thead th {\n",
              "        text-align: right;\n",
              "    }\n",
              "</style>\n",
              "<table border=\"1\" class=\"dataframe\">\n",
              "  <thead>\n",
              "    <tr style=\"text-align: right;\">\n",
              "      <th></th>\n",
              "      <th>business_id</th>\n",
              "      <th>name</th>\n",
              "      <th>categories</th>\n",
              "      <th>avg_stars</th>\n",
              "      <th>review_id</th>\n",
              "      <th>user_id</th>\n",
              "      <th>stars</th>\n",
              "      <th>useful</th>\n",
              "      <th>funny</th>\n",
              "      <th>cool</th>\n",
              "      <th>text</th>\n",
              "      <th>date</th>\n",
              "      <th>Mexican</th>\n",
              "      <th>count</th>\n",
              "    </tr>\n",
              "  </thead>\n",
              "  <tbody>\n",
              "    <tr>\n",
              "      <th>0</th>\n",
              "      <td>-ATiAtTikuGuqvaW2O6tNA</td>\n",
              "      <td>Marathon</td>\n",
              "      <td>Sandwiches, American (New), Lounges, Nightlife...</td>\n",
              "      <td>3.5</td>\n",
              "      <td>7FLXp3VCE1RHOqsGBk2JNg</td>\n",
              "      <td>OBoeuSW39_uwUXGtN4vdOA</td>\n",
              "      <td>4</td>\n",
              "      <td>0</td>\n",
              "      <td>0</td>\n",
              "      <td>0</td>\n",
              "      <td>Straight to the point: the service, the one di...</td>\n",
              "      <td>2017-09-09 12:33:12</td>\n",
              "      <td>False</td>\n",
              "      <td>113</td>\n",
              "    </tr>\n",
              "    <tr>\n",
              "      <th>1</th>\n",
              "      <td>-ATiAtTikuGuqvaW2O6tNA</td>\n",
              "      <td>Marathon</td>\n",
              "      <td>Sandwiches, American (New), Lounges, Nightlife...</td>\n",
              "      <td>3.5</td>\n",
              "      <td>DGkj-4PdsCtzQUtN5A42tA</td>\n",
              "      <td>mhwNRi3mBekFM-9zN2aRxw</td>\n",
              "      <td>5</td>\n",
              "      <td>0</td>\n",
              "      <td>0</td>\n",
              "      <td>0</td>\n",
              "      <td>Great turkey burger. I would've taken a photo ...</td>\n",
              "      <td>2017-11-10 18:48:06</td>\n",
              "      <td>False</td>\n",
              "      <td>113</td>\n",
              "    </tr>\n",
              "    <tr>\n",
              "      <th>2</th>\n",
              "      <td>-ATiAtTikuGuqvaW2O6tNA</td>\n",
              "      <td>Marathon</td>\n",
              "      <td>Sandwiches, American (New), Lounges, Nightlife...</td>\n",
              "      <td>3.5</td>\n",
              "      <td>ulLwjsg4vc-tjsLI3lx6QQ</td>\n",
              "      <td>PWjXfHHm5LQhyPgZcedLzA</td>\n",
              "      <td>3</td>\n",
              "      <td>0</td>\n",
              "      <td>0</td>\n",
              "      <td>0</td>\n",
              "      <td>I ordered the turkey chilli and it was sold ou...</td>\n",
              "      <td>2018-03-19 11:13:32</td>\n",
              "      <td>False</td>\n",
              "      <td>113</td>\n",
              "    </tr>\n",
              "    <tr>\n",
              "      <th>3</th>\n",
              "      <td>-ATiAtTikuGuqvaW2O6tNA</td>\n",
              "      <td>Marathon</td>\n",
              "      <td>Sandwiches, American (New), Lounges, Nightlife...</td>\n",
              "      <td>3.5</td>\n",
              "      <td>29pECaECmT2iHVDK_gY8bA</td>\n",
              "      <td>s2apTe1qD9Bytunpj4enMw</td>\n",
              "      <td>4</td>\n",
              "      <td>0</td>\n",
              "      <td>0</td>\n",
              "      <td>0</td>\n",
              "      <td>Went here with friends on a Thursday evening a...</td>\n",
              "      <td>2018-07-18 00:49:32</td>\n",
              "      <td>False</td>\n",
              "      <td>113</td>\n",
              "    </tr>\n",
              "    <tr>\n",
              "      <th>4</th>\n",
              "      <td>-ATiAtTikuGuqvaW2O6tNA</td>\n",
              "      <td>Marathon</td>\n",
              "      <td>Sandwiches, American (New), Lounges, Nightlife...</td>\n",
              "      <td>3.5</td>\n",
              "      <td>jS-Se0swmLUwYsFjeNoLTg</td>\n",
              "      <td>QZy2N84_45OkPU_oUxy6Dw</td>\n",
              "      <td>4</td>\n",
              "      <td>0</td>\n",
              "      <td>0</td>\n",
              "      <td>0</td>\n",
              "      <td>Great place. We had excellent 4 star vegetaria...</td>\n",
              "      <td>2017-02-20 01:11:49</td>\n",
              "      <td>False</td>\n",
              "      <td>113</td>\n",
              "    </tr>\n",
              "    <tr>\n",
              "      <th>...</th>\n",
              "      <td>...</td>\n",
              "      <td>...</td>\n",
              "      <td>...</td>\n",
              "      <td>...</td>\n",
              "      <td>...</td>\n",
              "      <td>...</td>\n",
              "      <td>...</td>\n",
              "      <td>...</td>\n",
              "      <td>...</td>\n",
              "      <td>...</td>\n",
              "      <td>...</td>\n",
              "      <td>...</td>\n",
              "      <td>...</td>\n",
              "      <td>...</td>\n",
              "    </tr>\n",
              "    <tr>\n",
              "      <th>12277</th>\n",
              "      <td>zwTmOj4B_OVPMTMYijQiKg</td>\n",
              "      <td>Queen Sheba</td>\n",
              "      <td>Nightlife, Restaurants, Sports Bars, Bars, Eth...</td>\n",
              "      <td>4.0</td>\n",
              "      <td>vTN_VHaE8oTdGyucLmk6Sw</td>\n",
              "      <td>S6qCyr_IdFjgHoAjVCh5IA</td>\n",
              "      <td>3</td>\n",
              "      <td>1</td>\n",
              "      <td>0</td>\n",
              "      <td>0</td>\n",
              "      <td>Great neighborhood spot for cheap drinks along...</td>\n",
              "      <td>2018-02-13 03:09:38</td>\n",
              "      <td>False</td>\n",
              "      <td>4</td>\n",
              "    </tr>\n",
              "    <tr>\n",
              "      <th>12278</th>\n",
              "      <td>zwTmOj4B_OVPMTMYijQiKg</td>\n",
              "      <td>Queen Sheba</td>\n",
              "      <td>Nightlife, Restaurants, Sports Bars, Bars, Eth...</td>\n",
              "      <td>4.0</td>\n",
              "      <td>hd6aC9cshutPdG5q3L4foA</td>\n",
              "      <td>UE6e9sCOFW5qSzginRxmHw</td>\n",
              "      <td>2</td>\n",
              "      <td>1</td>\n",
              "      <td>0</td>\n",
              "      <td>0</td>\n",
              "      <td>I went here on a Friday night with some friend...</td>\n",
              "      <td>2017-09-03 23:39:08</td>\n",
              "      <td>False</td>\n",
              "      <td>4</td>\n",
              "    </tr>\n",
              "    <tr>\n",
              "      <th>12279</th>\n",
              "      <td>zwTmOj4B_OVPMTMYijQiKg</td>\n",
              "      <td>Queen Sheba</td>\n",
              "      <td>Nightlife, Restaurants, Sports Bars, Bars, Eth...</td>\n",
              "      <td>4.0</td>\n",
              "      <td>B5eX8Igw9vDCd48gxaIVCw</td>\n",
              "      <td>pwPeYSSXBixpsCn6l1meOA</td>\n",
              "      <td>4</td>\n",
              "      <td>1</td>\n",
              "      <td>0</td>\n",
              "      <td>0</td>\n",
              "      <td>I adore Ethiopian food, and this place did not...</td>\n",
              "      <td>2017-04-25 15:22:28</td>\n",
              "      <td>False</td>\n",
              "      <td>4</td>\n",
              "    </tr>\n",
              "    <tr>\n",
              "      <th>12280</th>\n",
              "      <td>zwTmOj4B_OVPMTMYijQiKg</td>\n",
              "      <td>Queen Sheba</td>\n",
              "      <td>Nightlife, Restaurants, Sports Bars, Bars, Eth...</td>\n",
              "      <td>4.0</td>\n",
              "      <td>siqVMKtZWoprj4yJhkIfwg</td>\n",
              "      <td>PyTZL_WXo8anb4Bju5-xFA</td>\n",
              "      <td>5</td>\n",
              "      <td>2</td>\n",
              "      <td>1</td>\n",
              "      <td>2</td>\n",
              "      <td>I am new to Ethiopian Food, but this place is ...</td>\n",
              "      <td>2019-07-15 00:28:43</td>\n",
              "      <td>False</td>\n",
              "      <td>4</td>\n",
              "    </tr>\n",
              "    <tr>\n",
              "      <th>12281</th>\n",
              "      <td>zxY4DgtXsVHihSUpsmwamg</td>\n",
              "      <td>P &amp; S Ravioli</td>\n",
              "      <td>Food, Do-It-Yourself Food, Restaurants, Italian</td>\n",
              "      <td>4.5</td>\n",
              "      <td>DPbSB1heWhFl6y6yXDAHbg</td>\n",
              "      <td>-WdMmmWVU5TZ9bfy0Cg3Ng</td>\n",
              "      <td>5</td>\n",
              "      <td>0</td>\n",
              "      <td>0</td>\n",
              "      <td>0</td>\n",
              "      <td>Every time I'm in Philly I make a point to sto...</td>\n",
              "      <td>2018-03-04 23:38:56</td>\n",
              "      <td>False</td>\n",
              "      <td>1</td>\n",
              "    </tr>\n",
              "  </tbody>\n",
              "</table>\n",
              "<p>12282 rows × 14 columns</p>\n",
              "</div>\n",
              "      <button class=\"colab-df-convert\" onclick=\"convertToInteractive('df-c85e8717-6104-46da-a51d-ea1ca1447b73')\"\n",
              "              title=\"Convert this dataframe to an interactive table.\"\n",
              "              style=\"display:none;\">\n",
              "        \n",
              "  <svg xmlns=\"http://www.w3.org/2000/svg\" height=\"24px\"viewBox=\"0 0 24 24\"\n",
              "       width=\"24px\">\n",
              "    <path d=\"M0 0h24v24H0V0z\" fill=\"none\"/>\n",
              "    <path d=\"M18.56 5.44l.94 2.06.94-2.06 2.06-.94-2.06-.94-.94-2.06-.94 2.06-2.06.94zm-11 1L8.5 8.5l.94-2.06 2.06-.94-2.06-.94L8.5 2.5l-.94 2.06-2.06.94zm10 10l.94 2.06.94-2.06 2.06-.94-2.06-.94-.94-2.06-.94 2.06-2.06.94z\"/><path d=\"M17.41 7.96l-1.37-1.37c-.4-.4-.92-.59-1.43-.59-.52 0-1.04.2-1.43.59L10.3 9.45l-7.72 7.72c-.78.78-.78 2.05 0 2.83L4 21.41c.39.39.9.59 1.41.59.51 0 1.02-.2 1.41-.59l7.78-7.78 2.81-2.81c.8-.78.8-2.07 0-2.86zM5.41 20L4 18.59l7.72-7.72 1.47 1.35L5.41 20z\"/>\n",
              "  </svg>\n",
              "      </button>\n",
              "      \n",
              "  <style>\n",
              "    .colab-df-container {\n",
              "      display:flex;\n",
              "      flex-wrap:wrap;\n",
              "      gap: 12px;\n",
              "    }\n",
              "\n",
              "    .colab-df-convert {\n",
              "      background-color: #E8F0FE;\n",
              "      border: none;\n",
              "      border-radius: 50%;\n",
              "      cursor: pointer;\n",
              "      display: none;\n",
              "      fill: #1967D2;\n",
              "      height: 32px;\n",
              "      padding: 0 0 0 0;\n",
              "      width: 32px;\n",
              "    }\n",
              "\n",
              "    .colab-df-convert:hover {\n",
              "      background-color: #E2EBFA;\n",
              "      box-shadow: 0px 1px 2px rgba(60, 64, 67, 0.3), 0px 1px 3px 1px rgba(60, 64, 67, 0.15);\n",
              "      fill: #174EA6;\n",
              "    }\n",
              "\n",
              "    [theme=dark] .colab-df-convert {\n",
              "      background-color: #3B4455;\n",
              "      fill: #D2E3FC;\n",
              "    }\n",
              "\n",
              "    [theme=dark] .colab-df-convert:hover {\n",
              "      background-color: #434B5C;\n",
              "      box-shadow: 0px 1px 3px 1px rgba(0, 0, 0, 0.15);\n",
              "      filter: drop-shadow(0px 1px 2px rgba(0, 0, 0, 0.3));\n",
              "      fill: #FFFFFF;\n",
              "    }\n",
              "  </style>\n",
              "\n",
              "      <script>\n",
              "        const buttonEl =\n",
              "          document.querySelector('#df-c85e8717-6104-46da-a51d-ea1ca1447b73 button.colab-df-convert');\n",
              "        buttonEl.style.display =\n",
              "          google.colab.kernel.accessAllowed ? 'block' : 'none';\n",
              "\n",
              "        async function convertToInteractive(key) {\n",
              "          const element = document.querySelector('#df-c85e8717-6104-46da-a51d-ea1ca1447b73');\n",
              "          const dataTable =\n",
              "            await google.colab.kernel.invokeFunction('convertToInteractive',\n",
              "                                                     [key], {});\n",
              "          if (!dataTable) return;\n",
              "\n",
              "          const docLinkHtml = 'Like what you see? Visit the ' +\n",
              "            '<a target=\"_blank\" href=https://colab.research.google.com/notebooks/data_table.ipynb>data table notebook</a>'\n",
              "            + ' to learn more about interactive tables.';\n",
              "          element.innerHTML = '';\n",
              "          dataTable['output_type'] = 'display_data';\n",
              "          await google.colab.output.renderOutput(dataTable, element);\n",
              "          const docLink = document.createElement('div');\n",
              "          docLink.innerHTML = docLinkHtml;\n",
              "          element.appendChild(docLink);\n",
              "        }\n",
              "      </script>\n",
              "    </div>\n",
              "  </div>\n",
              "  "
            ]
          },
          "metadata": {},
          "execution_count": 39
        }
      ]
    },
    {
      "cell_type": "code",
      "source": [
        "df_final[df_final[\"Mexican\"] == True][\"stars\"].value_counts()"
      ],
      "metadata": {
        "colab": {
          "base_uri": "https://localhost:8080/"
        },
        "id": "nrQezf5oGZyA",
        "outputId": "d24cc2d4-6e7f-4cf7-ef0a-dceaf5f0165a"
      },
      "execution_count": null,
      "outputs": [
        {
          "output_type": "execute_result",
          "data": {
            "text/plain": [
              "5    354\n",
              "4    193\n",
              "1    118\n",
              "2     84\n",
              "3     77\n",
              "Name: stars, dtype: int64"
            ]
          },
          "metadata": {},
          "execution_count": 40
        }
      ]
    },
    {
      "cell_type": "code",
      "source": [
        "#pick mexican restrunt as an example \n",
        "plt.hist(df_final[df_final[\"Mexican\"] == True][\"stars\"], bins = 5)"
      ],
      "metadata": {
        "colab": {
          "base_uri": "https://localhost:8080/",
          "height": 482
        },
        "id": "928JRfB7HBbu",
        "outputId": "521d03e1-8245-4d87-9ddb-89e38bcd337e"
      },
      "execution_count": null,
      "outputs": [
        {
          "output_type": "execute_result",
          "data": {
            "text/plain": [
              "(array([118.,  84.,  77., 193., 354.]),\n",
              " array([1. , 1.8, 2.6, 3.4, 4.2, 5. ]),\n",
              " <BarContainer object of 5 artists>)"
            ]
          },
          "metadata": {},
          "execution_count": 36
        },
        {
          "output_type": "display_data",
          "data": {
            "text/plain": [
              "<Figure size 640x480 with 1 Axes>"
            ],
            "image/png": "[encoded data removed]"
          },
          "metadata": {}
        }
      ]
    },
    {
      "cell_type": "code",
      "source": [
        "import numpy as np"
      ],
      "metadata": {
        "id": "lkUQxobUHPfn"
      },
      "execution_count": null,
      "outputs": []
    },
    {
      "cell_type": "code",
      "source": [
        "business_id = list(df_final.groupby(['business_id'])['review_id'].count().index)\n",
        "resturant_name = [pd.unique(df_final[df_final['business_id'] == res]['name'])[0] for res in business_id]\n",
        "popularity = list(df_final.groupby(['business_id'])['review_id'].count())"
      ],
      "metadata": {
        "id": "HMvtuatbHTC0"
      },
      "execution_count": null,
      "outputs": []
    },
    {
      "cell_type": "code",
      "source": [
        "plt.figure(figsize=(10,10))\n",
        "objects = [resturant_name[i] for i in np.argsort(popularity)[::-1][:20]]\n",
        "y_pos = np.arange(len(objects))\n",
        "plt.barh(y_pos, np.sort(popularity)[::-1][:20], align='center', alpha = 0.5)\n",
        "plt.yticks(y_pos, objects)\n",
        "plt.xlabel('Number of reviews')\n",
        "plt.title('Top 20 resturants with most reviews in PHILAPHILEA 2017-21')\n",
        "plt.gca().invert_yaxis()"
      ],
      "metadata": {
        "colab": {
          "base_uri": "https://localhost:8080/",
          "height": 746
        },
        "id": "CGjvIndyHYGA",
        "outputId": "49304cc9-5bee-4e53-b8a9-d2ca00082bc5"
      },
      "execution_count": null,
      "outputs": [
        {
          "output_type": "display_data",
          "data": {
            "text/plain": [
              "<Figure size 1000x1000 with 1 Axes>"
            ],
            "image/png": "[encoded data removed]"
          },
          "metadata": {}
        }
      ]
    },
    {
      "cell_type": "code",
      "source": [
        "df_final.to_csv('2017-2021_restaurant(2)_reviews.csv',index=False)"
      ],
      "metadata": {
        "id": "8XKc2q3fHdCI"
      },
      "execution_count": null,
      "outputs": []
    }
  ]
}