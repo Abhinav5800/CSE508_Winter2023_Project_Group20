{
  "nbformat": 4,
  "nbformat_minor": 0,
  "metadata": {
    "colab": {
      "private_outputs": true,
      "provenance": []
    },
    "kernelspec": {
      "name": "python3",
      "display_name": "Python 3"
    },
    "language_info": {
      "name": "python"
    }
  },
  "cells": [
    {
      "cell_type": "code",
      "source": [
        "import tarfile"
      ],
      "metadata": {
        "id": "OQNDuVJSJ3u7"
      },
      "execution_count": null,
      "outputs": []
    },
    {
      "cell_type": "code",
      "source": [
        "my_tar = tarfile.open('/content/drive/MyDrive/yelp_dataset.tar')\n"
      ],
      "metadata": {
        "id": "iTyspoNvJ745"
      },
      "execution_count": null,
      "outputs": []
    },
    {
      "cell_type": "code",
      "source": [
        "my_tar.extractall('./yelp_dataset')"
      ],
      "metadata": {
        "id": "RJDq2n2TKNw5"
      },
      "execution_count": null,
      "outputs": []
    },
    {
      "cell_type": "code",
      "source": [
        "my_tar.close()"
      ],
      "metadata": {
        "id": "45_d1Sd8K2Dd"
      },
      "execution_count": null,
      "outputs": []
    },
    {
      "cell_type": "code",
      "source": [
        "# import libraries\n",
        "import numpy as np\n",
        "import matplotlib.pyplot as plt\n",
        "import pandas as pd\n",
        "import seaborn as sns\n",
        "from pathlib import Path\n",
        "import json\n",
        "from time import time\n",
        "from IPython.display import clear_output\n",
        "import warnings\n",
        "warnings.filterwarnings('ignore')\n",
        "\n"
      ],
      "metadata": {
        "id": "xbFypfBeLJ5P"
      },
      "execution_count": null,
      "outputs": []
    },
    {
      "cell_type": "markdown",
      "source": [
        "# **CONVERTING JSON TO CSV (USERS,BUSINESS,REVIEWS)FOR BETTER ANALYSIS** "
      ],
      "metadata": {
        "id": "_7B45nB28e6q"
      }
    },
    {
      "cell_type": "code",
      "source": [
        "data_business = pd.read_json('/content/yelp_dataset/yelp_academic_dataset_business.json', lines=True)\n",
        "data_business.fillna('NA', inplace=True)\n",
        "print('Final Shape: ',data_business.shape)"
      ],
      "metadata": {
        "id": "3ggbmpcVN1VE"
      },
      "execution_count": null,
      "outputs": []
    },
    {
      "cell_type": "markdown",
      "source": [
        "we only need restaurants data in business so we can remove other data . But we can consider above left data for sentiment analysis later."
      ],
      "metadata": {
        "id": "RROP-JVX9i0n"
      }
    },
    {
      "cell_type": "code",
      "source": [
        "data_business = data_business[data_business['categories'].str.contains('Restaurants')] \n",
        "print('Final Shape: ',data_business.shape)"
      ],
      "metadata": {
        "id": "lsTFVT4HO8hA"
      },
      "execution_count": null,
      "outputs": []
    },
    {
      "cell_type": "code",
      "source": [
        "data_review_one = pd.read_json('/content/yelp_dataset/yelp_academic_dataset_review.json', chunksize=100000, lines=True)\n",
        "\n",
        "data_review = pd.DataFrame() \n",
        "i=0\n",
        "for df in data_review_one: \n",
        "  df = df[df['business_id'].isin(data_business['business_id'])] \n",
        "  data_review = pd.concat([data_review, df])\n",
        "  i=i+1 \n",
        "  print(i) \n",
        "  if i==4: \n",
        "    break"
      ],
      "metadata": {
        "id": "Q8P_2KOtPUme"
      },
      "execution_count": null,
      "outputs": []
    },
    {
      "cell_type": "code",
      "source": [
        "data_business = data_business[data_business['business_id'].isin(data_review['business_id'])]"
      ],
      "metadata": {
        "id": "XkrhBkHjQtIE"
      },
      "execution_count": null,
      "outputs": []
    },
    {
      "cell_type": "code",
      "source": [
        "print('Final businesses shape: ', data_business.shape)\n",
        "print('Final review shape: ', data_review.shape)"
      ],
      "metadata": {
        "id": "qdsingTnQ180"
      },
      "execution_count": null,
      "outputs": []
    },
    {
      "cell_type": "code",
      "source": [
        "csv_name = \"yelp_business_final.csv\"\n",
        "data_business.to_csv(csv_name, index=False)"
      ],
      "metadata": {
        "id": "J0blxMZjQ9_f"
      },
      "execution_count": null,
      "outputs": []
    },
    {
      "cell_type": "code",
      "source": [
        "csv_name = \"yelp_review_final.csv\"\n",
        "data_review.to_csv(csv_name, index=False)"
      ],
      "metadata": {
        "id": "PfQx7lJNRETA"
      },
      "execution_count": null,
      "outputs": []
    },
    {
      "cell_type": "code",
      "source": [
        "df = pd.read_csv(\"/content/yelp_business_final.csv\")\n",
        "df.head()"
      ],
      "metadata": {
        "id": "ez2AI4pTR5oA"
      },
      "execution_count": null,
      "outputs": []
    },
    {
      "cell_type": "code",
      "source": [
        "df.info()"
      ],
      "metadata": {
        "id": "vmAfD9tdSyQv"
      },
      "execution_count": null,
      "outputs": []
    },
    {
      "cell_type": "code",
      "source": [
        "df.shape"
      ],
      "metadata": {
        "id": "BrVtVU_LEQRM"
      },
      "execution_count": null,
      "outputs": []
    },
    {
      "cell_type": "code",
      "source": [
        "df.columns"
      ],
      "metadata": {
        "id": "jnSheyrcEV4d"
      },
      "execution_count": null,
      "outputs": []
    },
    {
      "cell_type": "code",
      "source": [
        "df.describe()"
      ],
      "metadata": {
        "id": "j5xmWc6uEqKv"
      },
      "execution_count": null,
      "outputs": []
    },
    {
      "cell_type": "code",
      "source": [],
      "metadata": {
        "id": "M7hy1iLg0Rgk"
      },
      "execution_count": null,
      "outputs": []
    },
    {
      "cell_type": "code",
      "source": [
        "#loading reviews final dataset\n",
        "df2=pd.read_csv(\"/content/yelp_review_final.csv\")"
      ],
      "metadata": {
        "id": "w_e0YctrFAFC"
      },
      "execution_count": null,
      "outputs": []
    },
    {
      "cell_type": "code",
      "source": [
        "df2.shape"
      ],
      "metadata": {
        "id": "JVWKgsMo0oxV"
      },
      "execution_count": null,
      "outputs": []
    },
    {
      "cell_type": "code",
      "source": [
        "df2.columns"
      ],
      "metadata": {
        "id": "J0V1YEsG0rjq"
      },
      "execution_count": null,
      "outputs": []
    },
    {
      "cell_type": "code",
      "source": [
        "df2.info()"
      ],
      "metadata": {
        "id": "ncYdGBSr0zb5"
      },
      "execution_count": null,
      "outputs": []
    },
    {
      "cell_type": "code",
      "source": [
        "df2.head()"
      ],
      "metadata": {
        "id": "bDBpQLdS052h"
      },
      "execution_count": null,
      "outputs": []
    },
    {
      "cell_type": "code",
      "source": [
        "#FINDINGS MISSING VALUES IN DATA 1 AND DATA 2\n",
        "mis_value1=df.isnull().sum()\n",
        "mis_val1_percent = 100 * df.isnull().sum() / len(df)\n",
        "mis_val_table = pd.concat([mis_value1, mis_val1_percent], axis=1)\n",
        "mis_val_table_ren_columns = mis_val_table.rename(columns = {0 : 'Missing Values', 1 : '% of Total Values'})\n",
        "mis_val_table_ren_columns = mis_val_table_ren_columns[mis_val_table_ren_columns.iloc[:,1] != 0].sort_values('% of Total Values', ascending=False).round(1)\n",
        "mis_val_table_ren_columns"
      ],
      "metadata": {
        "id": "XawMfXUp0-zU"
      },
      "execution_count": null,
      "outputs": []
    },
    {
      "cell_type": "code",
      "source": [
        "# Dropping columns that aren't useful\n",
        "df.drop('attributes',axis=1,inplace=True)\n",
        "#data.drop('address',axis=1,inplace=True)\n",
        "df.drop('postal_code',axis=1,inplace=True)"
      ],
      "metadata": {
        "id": "bDwFMrxL3Uki"
      },
      "execution_count": null,
      "outputs": []
    },
    {
      "cell_type": "code",
      "source": [
        "df.shape"
      ],
      "metadata": {
        "id": "OsmvdDyt3cFt"
      },
      "execution_count": null,
      "outputs": []
    },
    {
      "cell_type": "code",
      "source": [
        "df.head()"
      ],
      "metadata": {
        "id": "ukBog-U03jlN"
      },
      "execution_count": null,
      "outputs": []
    },
    {
      "cell_type": "code",
      "source": [
        "# now check missing values in reviews dataset and remove unneccesary columns\n",
        "mis_value2=df2.isnull().sum()\n",
        "mis_val2_percent = 100 * df2.isnull().sum() / len(df)\n",
        "print(mis_val2_percent)\n",
        "mis_val_table = pd.concat([mis_value1, mis_val2_percent], axis=1)\n",
        "mis_val_table_ren_columns = mis_val_table.rename(columns = {0 : 'Missing Values', 1 : '% of Total Values'})\n",
        "mis_val_table_ren_columns = mis_val_table_ren_columns[mis_val_table_ren_columns.iloc[:,1] != 0].sort_values('% of Total Values', ascending=False).round(1)\n",
        "mis_val_table_ren_columns"
      ],
      "metadata": {
        "id": "bT1uTJi13rlZ"
      },
      "execution_count": null,
      "outputs": []
    },
    {
      "cell_type": "markdown",
      "source": [
        "so there is no missing values in review dataset so no need to remove columns"
      ],
      "metadata": {
        "id": "s41EkTMj4V7H"
      }
    },
    {
      "cell_type": "code",
      "source": [
        "# Merging both datasets\n",
        "merge_data = pd.merge(df,df2,on='business_id',how='inner')\n",
        "merge_data"
      ],
      "metadata": {
        "id": "jGIqhOAw4ewY"
      },
      "execution_count": null,
      "outputs": []
    },
    {
      "cell_type": "code",
      "source": [
        "merge_data.shape"
      ],
      "metadata": {
        "id": "dOtTdBLeO5Uw"
      },
      "execution_count": null,
      "outputs": []
    },
    {
      "cell_type": "code",
      "source": [
        "dffinal = df.merge(df2, on=\"business_id\", how = 'inner')\n",
        "dffinal.head()"
      ],
      "metadata": {
        "id": "HG7hhi_wPDee"
      },
      "execution_count": null,
      "outputs": []
    },
    {
      "cell_type": "code",
      "source": [
        "dffinal.shape"
      ],
      "metadata": {
        "id": "pNWz8MBPPLq0"
      },
      "execution_count": null,
      "outputs": []
    },
    {
      "cell_type": "markdown",
      "source": [
        "# **EXPLORATORY DATA ANALYSIS**"
      ],
      "metadata": {
        "id": "2LULznloPcyO"
      }
    },
    {
      "cell_type": "code",
      "source": [
        "res_count = df.name.value_counts()\n",
        "res_count = res_count.sort_values(ascending = False)\n",
        "res_count = res_count.iloc[0:15]\n",
        "\n",
        "# plot\n",
        "fig = plt.figure(figsize=(8, 6))\n",
        "ax = sns.barplot(res_count.index, res_count.values)\n",
        "plt.title(\"Restaurants with High Occurences\",fontsize = 20)\n",
        "x_locs,x_labels = plt.xticks()\n",
        "plt.setp(x_labels, rotation = 60)\n",
        "plt.ylabel('Number of Restaurants', fontsize = 12)\n",
        "plt.xlabel('Restaurant', fontsize = 12)\n"
      ],
      "metadata": {
        "id": "xbkGj-3fPpCM"
      },
      "execution_count": null,
      "outputs": []
    },
    {
      "cell_type": "code",
      "source": [
        "# top 10 cities having restaurants\n",
        "top_cities = df['city'].value_counts().head(10)\n",
        "top_city_df = pd.DataFrame(data=top_cities)\n",
        "top_city_df.reset_index(level=0, inplace=True)\n",
        "top_city_df.rename(columns = {'index':'City','city':'Count'}, inplace = True)\n",
        "fig,ax= plt.subplots(figsize=(8,6))\n",
        "sns.barplot(x=\"City\",y='Count',hue='City',data=top_city_df,ax=ax,dodge=False)"
      ],
      "metadata": {
        "id": "LBxFO6-0RRFf"
      },
      "execution_count": null,
      "outputs": []
    },
    {
      "cell_type": "code",
      "source": [
        "sns.jointplot(data=df, x='latitude', y='longitude')"
      ],
      "metadata": {
        "id": "mDOw1UBSVCWL"
      },
      "execution_count": null,
      "outputs": []
    },
    {
      "cell_type": "markdown",
      "source": [
        "We see that locations of businesses are concentrated in clusters. These clusters must be big cities. "
      ],
      "metadata": {
        "id": "Q0kGUYASCI2b"
      }
    },
    {
      "cell_type": "code",
      "source": [
        "# Top 10 business categories\n",
        "! pip install basemap\n",
        "from mpl_toolkits.basemap import Basemap\n",
        "fig = plt.figure(figsize=(10, 6))\n",
        "plt.title(\"Geographic View of Restaurant Locations\",fontsize = 20)\n",
        "m=Basemap(projection='cyl', lon_0 = 0, lat_0=0, resolution='c')\n",
        "m.fillcontinents(color='#FAFFCA',lake_color='#003875')\n",
        "m.drawmapboundary(fill_color='#003875') \n",
        "m.drawcountries(linewidth=0.2, color=\"black\")\n",
        "m_coords = m(df[\"longitude\"].tolist(), df[\"latitude\"].tolist())\n",
        "m.scatter(m_coords[0], m_coords[1], s=5, c='red', lw=3, zorder=5)"
      ],
      "metadata": {
        "id": "R2oEZV3DCM5B"
      },
      "execution_count": null,
      "outputs": []
    },
    {
      "cell_type": "markdown",
      "source": [
        "We see our data has businesses from certain cities of U.S. and not all over U.S."
      ],
      "metadata": {
        "id": "eIHAzarhF_At"
      }
    },
    {
      "cell_type": "code",
      "source": [
        "ax = sns.catplot(x=\"review_count\", y=\"name\",data= df.nlargest(20,'review_count'), \n",
        "                 kind=\"bar\",hue= \"categories\", dodge= False, height= 10 )\n",
        "\n",
        "plt.subplots_adjust(top=0.9)\n",
        "ax.fig.suptitle('Top 20 Most Reviewed Businesses And Categories Lables Used')\n",
        "\n",
        "\n"
      ],
      "metadata": {
        "id": "qh5mSO9oGB9D"
      },
      "execution_count": null,
      "outputs": []
    },
    {
      "cell_type": "code",
      "source": [
        "# to check how rating and reviews are related to each other as these are important factors for restaurant recommendation\n",
        "fig = plt.figure(figsize=(8, 6))\n",
        "sns.scatterplot(x = 'stars', y = 'review_count', data = df)\n",
        "plt.title(\"Reviews vs Rating\",fontsize = 20)\n",
        "plt.ylabel('Number of Reviews', fontsize = 12)\n",
        "plt.xlabel('Rating', fontsize = 12);\n"
      ],
      "metadata": {
        "id": "OpCXgMxrKc23"
      },
      "execution_count": null,
      "outputs": []
    },
    {
      "cell_type": "code",
      "source": [
        "#  top 10 5 star restaurants sorted by review count\n",
        "toprating_df = df[df[\"stars\"]==5]\n",
        "toprating_df = toprating_df.sort_values('review_count', ascending=False).head(10)\n",
        "\n",
        "plt.figure(figsize=(15,7))\n",
        "p = sns.barplot(x='name', y=\"review_count\", data=toprating_df,color=\"r\")\n",
        "p.set_xticklabels(p.get_xticklabels(), rotation = 90, fontsize = 8)\n",
        "p.set_title(\"Top 5 star-rated Restuarants sorted by review count\")\n",
        "p.set(xlabel=\"Restaurant\", ylabel=\"Review Count\")"
      ],
      "metadata": {
        "id": "Jt_Bmrz6MF_j"
      },
      "execution_count": null,
      "outputs": []
    },
    {
      "cell_type": "code",
      "source": [],
      "metadata": {
        "id": "NjJjRUWKNSoF"
      },
      "execution_count": null,
      "outputs": []
    },
    {
      "cell_type": "code",
      "source": [
        "df2.date = pd.to_datetime(df2.date)\n",
        "df2['day'] = df2.date.dt.day\n",
        "df2['month'] = df2.date.dt.month\n",
        "df2['year'] = df2.date.dt.year\n",
        "df2['hour'] = df2.date.dt.hour\n",
        "df2['minute'] = df2.date.dt.minute\n",
        "df2['second'] = df2.date.dt.second\n",
        "\n",
        "df2.head()\n"
      ],
      "metadata": {
        "id": "NJmHeHYmN-JP"
      },
      "execution_count": null,
      "outputs": []
    },
    {
      "cell_type": "code",
      "source": [
        "g = sns.catplot(data=df2, x='year', kind='count', aspect=2)\n",
        "ax = plt.gca()\n",
        "ax.set_title('Number of reviews by Year')"
      ],
      "metadata": {
        "id": "7kQeETWnU6lO"
      },
      "execution_count": null,
      "outputs": []
    },
    {
      "cell_type": "markdown",
      "source": [
        "We see number of reviews increased exponentially over the years. "
      ],
      "metadata": {
        "id": "bJyJ2OkEVgcm"
      }
    },
    {
      "cell_type": "code",
      "source": [
        "sns.catplot(data=df2, x='hour', aspect=2, kind='count')\n",
        "ax = plt.gca()\n",
        "ax.set_title('Review Time')"
      ],
      "metadata": {
        "id": "aofKHgMTVZ2p"
      },
      "execution_count": null,
      "outputs": []
    },
    {
      "cell_type": "markdown",
      "source": [
        "minimum no of reviews are given in morning ."
      ],
      "metadata": {
        "id": "rlEC_JHeWC8X"
      }
    },
    {
      "cell_type": "code",
      "source": [
        "m_df=dffinal[['user_id', 'business_id', 'stars_y']]\n",
        "m_df.head()\n"
      ],
      "metadata": {
        "id": "gwKSzpRNWrRT"
      },
      "execution_count": null,
      "outputs": []
    },
    {
      "cell_type": "markdown",
      "source": [
        "dataset on thebasis of business categories"
      ],
      "metadata": {
        "id": "YPOTCBHO9a6P"
      }
    },
    {
      "cell_type": "code",
      "source": [
        "city = df[df['categories'].str.contains('Rest.*')==True]\n",
        "\n",
        "# Creating dummies dataframe from series for 'categories' \n",
        "d_rest= pd.Series(city['categories']).str.get_dummies(',')\n",
        "\n",
        "# Dropping Restaurants and Food columns as this analysis is for Resturants and these words are common to all entries\n",
        "d_rest.drop([\"Restaurants\", \" Restaurants\", \"Food\", \" Food\"], axis=1, inplace=True)\n",
        "\n",
        "# Removing the whitespaces from the column names\n",
        "d_rest.columns = d_rest.columns.str.lstrip()\n",
        "\n",
        "# Adding up all the rows to get the sum of columns and merging the columns with same names\n",
        "ff_rest = d_rest.groupby(by=d_rest.columns, axis=1).sum()\n",
        "     "
      ],
      "metadata": {
        "id": "G1HGQ_oKxVrT"
      },
      "execution_count": null,
      "outputs": []
    },
    {
      "cell_type": "markdown",
      "source": [
        "indian restaurants plot"
      ],
      "metadata": {
        "id": "bRryMQ9Q-E8E"
      }
    },
    {
      "cell_type": "code",
      "source": [
        "plt.figure(figsize=(15,6))\n",
        "ff_rest.join(df).groupby('city').sum()['Indian'].sort_values(ascending=True).tail(10)\\\n",
        "                .plot(kind='barh',color='b')\n",
        "plt.title('Top Cities in which  Indian Restaurants are peresnt',fontsize=18, pad=25.0) \n",
        "plt.xlabel('Counts', fontsize=15)\n",
        "plt.ylabel('City', fontsize=15)\n",
        "plt.show()"
      ],
      "metadata": {
        "id": "-N9lbrlY-EH9"
      },
      "execution_count": null,
      "outputs": []
    },
    {
      "cell_type": "code",
      "source": [
        "# drop text useful cool date funny from df2\n",
        "df2_reduced = df2.drop(['text','useful','cool', 'date', 'funny','day','month','year','hour','minute','second'], axis = 1)\n",
        "df2_reduced.head()\n",
        "     "
      ],
      "metadata": {
        "id": "zYmqSfdl-9a-"
      },
      "execution_count": null,
      "outputs": []
    },
    {
      "cell_type": "code",
      "source": [
        "# merging some columns of business and reviews column\n",
        "merged_df_df2 = df2_reduced.merge(df[['city','categories', 'business_id']], how = 'outer', on= 'business_id')\n",
        "merged_df_df2.head()"
      ],
      "metadata": {
        "id": "GciRyeeXwuEm"
      },
      "execution_count": null,
      "outputs": []
    },
    {
      "cell_type": "code",
      "source": [
        "\n",
        "merged_df_df2.to_csv(\"merged.csv\",index=False)"
      ],
      "metadata": {
        "id": "uMeu3aYoAP8V"
      },
      "execution_count": null,
      "outputs": []
    },
    {
      "cell_type": "code",
      "source": [
        "merged_df_df2.shape"
      ],
      "metadata": {
        "id": "npNS8OC5AUyH"
      },
      "execution_count": null,
      "outputs": []
    },
    {
      "cell_type": "code",
      "source": [
        "n_users = merged_df_df2.user_id.unique().shape[0]\n",
        "n_items = merged_df_df2.business_id.unique().shape[0]\n",
        "\n",
        "print('Number of users: {}'.format(n_users))\n",
        "print('Number of items: {}'.format(n_items))\n",
        "print('Sparsity: {:4.3f}%'.format(float(merged_df_df2.shape[0]) / float(n_users*n_items) * 100))"
      ],
      "metadata": {
        "id": "NMRToue8AZsg"
      },
      "execution_count": null,
      "outputs": []
    },
    {
      "cell_type": "code",
      "source": [
        "# checking if there are duplicate reviews\n",
        "data_dup = df2.groupby(['business_id','user_id']).agg(['count']).reset_index()\n",
        "\n",
        "# computing users with more than one review\n",
        "\n",
        "duplicates = data_dup.useful.sort_values(by = 'count',ascending = False).reset_index()\n",
        "duplicates[duplicates['count'] >1].shape"
      ],
      "metadata": {
        "id": "7PSqIKjIBn_3"
      },
      "execution_count": null,
      "outputs": []
    },
    {
      "cell_type": "markdown",
      "source": [
        "Review share"
      ],
      "metadata": {
        "id": "XOxLpVXGC-Jn"
      }
    },
    {
      "cell_type": "code",
      "source": [
        "labels = '5-Stars', '4-Stars', '1-Star', '3-Stars', '2-Stars'\n",
        "sizes = merged_df_df2[\"stars\"].value_counts()\n",
        "colors = ['b', 'r', 'g', 'lightpink','y']\n",
        "# Plot\n",
        "plt.pie(sizes, labels=labels, colors =colors, autopct='%1.1f%%')\n",
        "plt.axis('equal')\n",
        "plt.show()"
      ],
      "metadata": {
        "id": "mPgqS9_YB6E9"
      },
      "execution_count": null,
      "outputs": []
    },
    {
      "cell_type": "code",
      "source": [
        "# baseline item based collaborative filtering\n",
        "from sklearn.neighbors import NearestNeighbors\n",
        "from scipy.sparse import csr_matrix"
      ],
      "metadata": {
        "id": "ylLcLNgODjhp"
      },
      "execution_count": null,
      "outputs": []
    },
    {
      "cell_type": "code",
      "source": [
        "df.head()"
      ],
      "metadata": {
        "id": "bc8nMdEOD_p6"
      },
      "execution_count": null,
      "outputs": []
    },
    {
      "cell_type": "code",
      "source": [
        "\n",
        "\n",
        "bus_df = df[df['categories'].str.contains(\"Food|Coffee|Tea|Restaurants|Bakeries|Bars|Sports Bar|Pubs|Nighlife\")]\n",
        "bus_df.head()"
      ],
      "metadata": {
        "id": "P8au2IIfEaYB"
      },
      "execution_count": null,
      "outputs": []
    },
    {
      "cell_type": "code",
      "source": [
        "bus_df.drop(['address','hours','is_open','latitude','longitude','state'],axis=1,inplace=True)\n",
        "bus_df.head()"
      ],
      "metadata": {
        "id": "iXF3rgSFEphg"
      },
      "execution_count": null,
      "outputs": []
    },
    {
      "cell_type": "code",
      "source": [
        "review_df = df2_reduced.drop('review_id',axis=1)\n",
        "review_df.head()\n"
      ],
      "metadata": {
        "id": "MKDJjcG8E1ZN"
      },
      "execution_count": null,
      "outputs": []
    },
    {
      "cell_type": "code",
      "source": [
        "restaurant_rating = pd.merge(bus_df, review_df, on='business_id')"
      ],
      "metadata": {
        "id": "y6JVflv8FXtu"
      },
      "execution_count": null,
      "outputs": []
    },
    {
      "cell_type": "code",
      "source": [
        "restaurant_rating.head()"
      ],
      "metadata": {
        "id": "KxogXxT4Fhov"
      },
      "execution_count": null,
      "outputs": []
    },
    {
      "cell_type": "code",
      "source": [
        "Restaurant_rating = pd.merge(bus_df, review_df, on='business_id')\n",
        "restaurant_ratingCount = (restaurant_rating.\n",
        "     groupby(by = ['name'])['stars_x'].\n",
        "     count().\n",
        "     reset_index().\n",
        "     rename(columns = {'stars_x': 'totalRatingCount'})\n",
        "     [['name', 'totalRatingCount']]\n",
        "    )\n",
        "restaurant_ratingCount.head()"
      ],
      "metadata": {
        "id": "Jt7CrcfGGDHz"
      },
      "execution_count": null,
      "outputs": []
    },
    {
      "cell_type": "code",
      "source": [
        "#joining above two tables\n",
        "rating_with_totalRatingCount = restaurant_rating.merge(restaurant_ratingCount, left_on = 'name', right_on = 'name', how = 'left')\n",
        "rating_with_totalRatingCount.head()"
      ],
      "metadata": {
        "id": "6h2EaOfFLDtA"
      },
      "execution_count": null,
      "outputs": []
    },
    {
      "cell_type": "code",
      "source": [
        "populatity_threshold = rating_with_totalRatingCount['totalRatingCount'].quantile(0.90)"
      ],
      "metadata": {
        "id": "b9h_s_GALYuV"
      },
      "execution_count": null,
      "outputs": []
    },
    {
      "cell_type": "code",
      "source": [
        "rating_popular_rest = rating_with_totalRatingCount.query('totalRatingCount >= @populatity_threshold')\n",
        "rating_popular_rest.shape\n",
        "     "
      ],
      "metadata": {
        "id": "5u8OrNasLkFx"
      },
      "execution_count": null,
      "outputs": []
    },
    {
      "cell_type": "code",
      "source": [
        "rating_popular_rest['city'].value_counts()"
      ],
      "metadata": {
        "id": "adc20e_nLp0H"
      },
      "execution_count": null,
      "outputs": []
    },
    {
      "cell_type": "code",
      "source": [
        "us_city_user_rating = rating_popular_rest[rating_popular_rest['city'].str.contains(\"New Orleans|Philadelphia|Nashville|Santa Barbara|Tucson|Columbus|Saint Louis|Saint Petersburg|Indianapolis|Cherry Hill\")]"
      ],
      "metadata": {
        "id": "dKSYS_UnLuvY"
      },
      "execution_count": null,
      "outputs": []
    },
    {
      "cell_type": "code",
      "source": [],
      "metadata": {
        "id": "FJlCqEvaPnS5"
      },
      "execution_count": null,
      "outputs": []
    },
    {
      "cell_type": "code",
      "source": [
        "us_city_user_rating"
      ],
      "metadata": {
        "id": "888tMsQNOe6A"
      },
      "execution_count": null,
      "outputs": []
    },
    {
      "cell_type": "code",
      "source": [
        "us_city_user_rating = us_city_user_rating.drop_duplicates(['user_id', 'name'])\n",
        "restaurant_features = us_city_user_rating.pivot(index = 'name', columns = 'user_id', values = 'stars_x').fillna(0)"
      ],
      "metadata": {
        "id": "KulnhwOLM4nG"
      },
      "execution_count": null,
      "outputs": []
    },
    {
      "cell_type": "code",
      "source": [
        "restaurant_features"
      ],
      "metadata": {
        "id": "MvSQ0gCFNell"
      },
      "execution_count": null,
      "outputs": []
    },
    {
      "cell_type": "code",
      "source": [
        "\n",
        "restaurant_features_matrix = csr_matrix(restaurant_features.values)"
      ],
      "metadata": {
        "id": "szBb5iktM78R"
      },
      "execution_count": null,
      "outputs": []
    },
    {
      "cell_type": "code",
      "source": [
        "restaurant_features_matrix"
      ],
      "metadata": {
        "id": "jC0XfMr2NXFb"
      },
      "execution_count": null,
      "outputs": []
    },
    {
      "cell_type": "markdown",
      "source": [
        "**FITTING THE BASELINE KNN MODEL**\n",
        "\n",
        "\n"
      ],
      "metadata": {
        "id": "2rrM4mBQNBvd"
      }
    },
    {
      "cell_type": "code",
      "source": [
        "knn_recomm = NearestNeighbors(metric = 'cosine', algorithm = 'brute')\n",
        "knn_recomm.fit(restaurant_features_matrix)"
      ],
      "metadata": {
        "id": "FdabkJp-M-qC"
      },
      "execution_count": null,
      "outputs": []
    },
    {
      "cell_type": "code",
      "source": [
        "randomChoice = np.random.choice(restaurant_features.shape[0])\n",
        "distances, indices = knn_recomm.kneighbors(restaurant_features.iloc[randomChoice].values.reshape(1, -1), n_neighbors = 11)\n",
        "\n",
        "for i in range(0, len(distances.flatten())):\n",
        "    if i == 0:\n",
        "        print('Recommendations for Restaurant {0} on priority basis:\\n'.format(restaurant_features.index[randomChoice]))\n",
        "    else:\n",
        "        print('{0}: {1}'.format(i, restaurant_features.index[indices.flatten()[i]]))"
      ],
      "metadata": {
        "id": "LAq1KzYKQPcv"
      },
      "execution_count": null,
      "outputs": []
    },
    {
      "cell_type": "code",
      "source": [
        "rating_df = df2[['user_id','business_id','stars']].copy()"
      ],
      "metadata": {
        "id": "TLyHmSEWQeg9"
      },
      "execution_count": null,
      "outputs": []
    },
    {
      "cell_type": "code",
      "source": [
        "rating_df.head()"
      ],
      "metadata": {
        "id": "fHWMwDnzEdpE"
      },
      "execution_count": null,
      "outputs": []
    },
    {
      "cell_type": "code",
      "source": [
        "rating_df.shape"
      ],
      "metadata": {
        "id": "Ahm8yMjAEmxz"
      },
      "execution_count": null,
      "outputs": []
    },
    {
      "cell_type": "markdown",
      "source": [
        "# **Recommendation using Collaborative Filtering with Matrix Factorization**"
      ],
      "metadata": {
        "id": "iZ2v7Q-ZE3mB"
      }
    },
    {
      "cell_type": "code",
      "source": [
        "#splitting data\n",
        "from sklearn.model_selection import train_test_split\n",
        "X_train, X, y_train, y = train_test_split(rating_df.drop('stars', axis=1), rating_df.stars, train_size=.8)\n",
        "X_test, X_val, y_test, y_val = train_test_split(X, y, train_size=.5)\n",
        "del X, y\n",
        "\n",
        "print(f\"Train Size: {round(X_train.shape[0]/rating_df.shape[0]*100)}%\")\n",
        "print(\"X train shape: \", X_train.shape)\n",
        "print(\"y train shape: \", y_train.shape)\n",
        "\n",
        "print(f\"\\nValidation Size: {round(X_val.shape[0]/rating_df.shape[0]*100)}%\")\n",
        "print(\"X val   shape: \", X_val.shape)\n",
        "print(\"y val   shape: \", y_val.shape)\n",
        "\n",
        "print(f\"\\nTest Size: {round(X_test.shape[0]/rating_df.shape[0]*100)}%\")\n",
        "print(\"X test  shape: \", X_test.shape)\n",
        "print(\"y test  shape: \", y_test.shape)"
      ],
      "metadata": {
        "id": "kHKEQmOCFG8S"
      },
      "execution_count": null,
      "outputs": []
    },
    {
      "cell_type": "markdown",
      "source": [
        "**Average Baseline Accuracy**\n",
        "Average model always predict average of all the ratings."
      ],
      "metadata": {
        "id": "CL6FdGERGa1_"
      }
    },
    {
      "cell_type": "code",
      "source": [
        "#Baseline accuracy\n",
        "from sklearn.metrics import mean_squared_error as mse\n",
        "mean_rating = y_train.mean()\n",
        "\n",
        "train_baseline = mse(y_train, [mean_rating]*y_train.shape[0])\n",
        "val_baseline = mse(y_val, [mean_rating]*y_val.shape[0])\n",
        "test_baseline = mse(y_test, [mean_rating]*y_test.shape[0])\n",
        "\n",
        "\n",
        "print(f\"\"\"Baseline MSE using mean rating:\\n\n",
        "          Train Data: {train_baseline:.4f},\n",
        "          Val   Data: {val_baseline:.4f},\n",
        "          Test  Data: {test_baseline:.4f}\"\"\")"
      ],
      "metadata": {
        "id": "6wQkH922F-iM"
      },
      "execution_count": null,
      "outputs": []
    }
  ]
}