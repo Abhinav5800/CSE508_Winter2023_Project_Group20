{
  "nbformat": 4,
  "nbformat_minor": 0,
  "metadata": {
    "colab": {
      "provenance": []
    },
    "kernelspec": {
      "name": "python3",
      "display_name": "Python 3"
    },
    "language_info": {
      "name": "python"
    },
    "accelerator": "TPU",
    "gpuClass": "standard"
  },
  "cells": [
    {
      "cell_type": "code",
      "source": [
        "import numpy as np\n",
        "import pandas as pd\n"
      ],
      "metadata": {
        "id": "RpX2zO7R4bXV"
      },
      "execution_count": null,
      "outputs": []
    },
    {
      "cell_type": "code",
      "source": [
        "from google.colab import drive\n",
        "drive.mount('/content/drive')"
      ],
      "metadata": {
        "colab": {
          "base_uri": "https://localhost:8080/"
        },
        "id": "diR98Hqvf1gD",
        "outputId": "a34932aa-511a-43de-b15a-142ef6b72bb6"
      },
      "execution_count": null,
      "outputs": [
        {
          "output_type": "stream",
          "name": "stdout",
          "text": [
            "Drive already mounted at /content/drive; to attempt to forcibly remount, call drive.mount(\"/content/drive\", force_remount=True).\n"
          ]
        }
      ]
    },
    {
      "cell_type": "code",
      "source": [
        "import warnings\n",
        "warnings.filterwarnings('ignore')\n",
        "\n",
        "import pandas as pd\n",
        "import numpy as np\n",
        "\n",
        "import pickle\n",
        "from tqdm import tqdm\n",
        "\n",
        "%matplotlib inline\n",
        "import matplotlib.pyplot as plt\n",
        "\n",
        "business = pd.read_csv('/content/drive/MyDrive/business_final.csv')  # contains business data including location data, attributes and categories\n",
        "review = pd.read_csv('/content/drive/MyDrive/yelp_review_final.csv') # contains full review text data including the user_id that wrote the review and the business_id the review i"
      ],
      "metadata": {
        "id": "nZNuipZN-bZX"
      },
      "execution_count": null,
      "outputs": []
    },
    {
      "cell_type": "code",
      "source": [
        "print(\"# of restaurants in the business dataset: \", business.business_id.nunique())\n",
        "print(\"# of businesses in the review dataset: \", review.business_id.nunique())"
      ],
      "metadata": {
        "id": "WEGrCnE3A7PS",
        "colab": {
          "base_uri": "https://localhost:8080/"
        },
        "outputId": "9f7e1d0c-700d-4de7-b38c-b8f20eb2fc8c"
      },
      "execution_count": null,
      "outputs": [
        {
          "output_type": "stream",
          "name": "stdout",
          "text": [
            "# of restaurants in the business dataset:  150346\n",
            "# of businesses in the review dataset:  4937\n"
          ]
        }
      ]
    },
    {
      "cell_type": "code",
      "source": [
        "b_bid = set(business.business_id.values) # set of unique business_id in the 'business' dataset\n",
        "r_bid = set(review.business_id.values) # set of unique business_id in the 'review' dataset\n",
        "len(b_bid) == len(b_bid.intersection(r_bid))"
      ],
      "metadata": {
        "id": "fF6g_WSKC3fH",
        "colab": {
          "base_uri": "https://localhost:8080/"
        },
        "outputId": "cd8de715-edd8-4837-8694-dd7177ad6ae0"
      },
      "execution_count": null,
      "outputs": [
        {
          "output_type": "execute_result",
          "data": {
            "text/plain": [
              "False"
            ]
          },
          "metadata": {},
          "execution_count": 16
        }
      ]
    },
    {
      "cell_type": "code",
      "source": [
        "# subset of 'review' containing only restaurant-related reviews\n",
        "review_s = review[review.business_id.isin(list(business.business_id.unique()))].reset_index(drop=True)\n",
        "print(\"Number of reviews in 'review' dataset vs. 'review_s' dataset:\\n\", len(review), len(review_s))\n",
        "print(\"Number of unique users in 'review' dataset vs. 'review_s' dataset:\\n\", review.user_id.nunique(),review_s.user_id.nunique())"
      ],
      "metadata": {
        "id": "5cVeKb7LD4XI",
        "colab": {
          "base_uri": "https://localhost:8080/"
        },
        "outputId": "3be62fd3-d4a0-4811-f7fb-ef48416ff54d"
      },
      "execution_count": null,
      "outputs": [
        {
          "output_type": "stream",
          "name": "stdout",
          "text": [
            "Number of reviews in 'review' dataset vs. 'review_s' dataset:\n",
            " 283029 283029\n",
            "Number of unique users in 'review' dataset vs. 'review_s' dataset:\n",
            " 193656 193656\n"
          ]
        }
      ]
    },
    {
      "cell_type": "code",
      "source": [
        "# doublecheck that there is only one review for each user_id, business_id combinations before pivoting to user x restaurant matrix\n",
        "review[review.duplicated(['user_id','business_id'], keep=False)]"
      ],
      "metadata": {
        "id": "-EvZTu4uD9Xv",
        "colab": {
          "base_uri": "https://localhost:8080/",
          "height": 991
        },
        "outputId": "eb37d983-8764-4e1d-f1e5-47371c5d605c"
      },
      "execution_count": null,
      "outputs": [
        {
          "output_type": "execute_result",
          "data": {
            "text/plain": [
              "                     review_id                 user_id  \\\n",
              "3       Sx8TMOWLNuJBWer-0pcmoA  bcjbaE6dDog4jkNY91ncLQ   \n",
              "46      Ti6y48ya3syOndm7teSjcg  NGTzj_44YDnPDmsD45HWeg   \n",
              "50      Lk21QNbrI_e3nf0GvWSPww  bCla27ma_6i_QFrGkILKrQ   \n",
              "75      9IG9eB3K-RdIonPBuZ0psw  t2IL-HIXQKd6iZ6cIY8kcg   \n",
              "115     0-lnwfRh1GA1Lvu5RRC9Cg  xXYNgEWnjaim2byFGLex-w   \n",
              "...                        ...                     ...   \n",
              "282943  cdQHoEF-T_4kHk4yG4ggDA  xEMe_zrFr8vQB0-hY-syaw   \n",
              "282946  tcHNHDgu8SaVK-MF6Vh7Jg  aznvTEpT_672wmW7U7QYzQ   \n",
              "282991  ITR8fSMerR5vTewTIteTog  tiXg6Ne6oQGvC19s6r-UcQ   \n",
              "283007  R1V7fsohKbj3FsJjmyGnTw  yfys8p-TbxKsAarSkK0bSw   \n",
              "283023  VcdeItekZswCNUVCUTk3zA  aF56vJ17QYZolYHgsruIIA   \n",
              "\n",
              "                   business_id  stars  useful  funny  cool  \\\n",
              "3       e4Vwtrqf-wpJfwesgvdgxQ      4       1      0     1   \n",
              "46      O8BBn8lry8lLoIFmChceGg      5       0      0     0   \n",
              "50      sLgnx_WFCjEoPsS6NwU70Q      5       0      0     0   \n",
              "75      jOOOrH5n2ijnsZKxzPSAiw      5       0      0     0   \n",
              "115     7WZ5EGb-Xk_uxQTWc52P4w      5       2      0     0   \n",
              "...                        ...    ...     ...    ...   ...   \n",
              "282943  -yu4koRugjxrnsey25oIuw      2       3      0     0   \n",
              "282946  ZXt0zo8liURaAEKD47zDRQ      5       1      0     1   \n",
              "282991  jjK2eJS43eMBQEBddYldnA      5       0      0     0   \n",
              "283007  Y3ZCO17N1_T_Ms1JmswwzA      4       0      0     0   \n",
              "283023  kQRB8RNwd7cEMcURTS-I7A      5       1      0     0   \n",
              "\n",
              "                                                     text                 date  \n",
              "3       Cute interior and owner (?) gave us tour of up...  2017-01-14 20:54:15  \n",
              "46      I stopped here because it was by the hotel I w...  2014-08-10 23:56:17  \n",
              "50      Our family returned for breakfast again this w...  2014-10-27 16:31:37  \n",
              "75      This is one of the busiest Chick fil A's I've ...  2016-04-23 15:13:10  \n",
              "115     Back to Tom Jones and time to update my review...  2012-06-26 02:49:39  \n",
              "...                                                   ...                  ...  \n",
              "282943  Well, I tried. . .I really really did.  This s...  2017-08-21 13:14:54  \n",
              "282946  Great staff energetic! Amazing atmosphere! The...  2019-03-09 01:35:11  \n",
              "282991  Hats off, because the difference between our f...  2017-08-06 20:57:04  \n",
              "283007   their tortillas make their fish tacos....amazing  2012-01-28 06:01:21  \n",
              "283023  Had the vegan tofu scramble and it was so good...  2018-03-30 22:48:42  \n",
              "\n",
              "[13149 rows x 9 columns]"
            ],
            "text/html": [
              "\n",
              "  <div id=\"df-288f7efa-4a50-4ece-8e1d-b8ae56f16460\">\n",
              "    <div class=\"colab-df-container\">\n",
              "      <div>\n",
              "<style scoped>\n",
              "    .dataframe tbody tr th:only-of-type {\n",
              "        vertical-align: middle;\n",
              "    }\n",
              "\n",
              "    .dataframe tbody tr th {\n",
              "        vertical-align: top;\n",
              "    }\n",
              "\n",
              "    .dataframe thead th {\n",
              "        text-align: right;\n",
              "    }\n",
              "</style>\n",
              "<table border=\"1\" class=\"dataframe\">\n",
              "  <thead>\n",
              "    <tr style=\"text-align: right;\">\n",
              "      <th></th>\n",
              "      <th>review_id</th>\n",
              "      <th>user_id</th>\n",
              "      <th>business_id</th>\n",
              "      <th>stars</th>\n",
              "      <th>useful</th>\n",
              "      <th>funny</th>\n",
              "      <th>cool</th>\n",
              "      <th>text</th>\n",
              "      <th>date</th>\n",
              "    </tr>\n",
              "  </thead>\n",
              "  <tbody>\n",
              "    <tr>\n",
              "      <th>3</th>\n",
              "      <td>Sx8TMOWLNuJBWer-0pcmoA</td>\n",
              "      <td>bcjbaE6dDog4jkNY91ncLQ</td>\n",
              "      <td>e4Vwtrqf-wpJfwesgvdgxQ</td>\n",
              "      <td>4</td>\n",
              "      <td>1</td>\n",
              "      <td>0</td>\n",
              "      <td>1</td>\n",
              "      <td>Cute interior and owner (?) gave us tour of up...</td>\n",
              "      <td>2017-01-14 20:54:15</td>\n",
              "    </tr>\n",
              "    <tr>\n",
              "      <th>46</th>\n",
              "      <td>Ti6y48ya3syOndm7teSjcg</td>\n",
              "      <td>NGTzj_44YDnPDmsD45HWeg</td>\n",
              "      <td>O8BBn8lry8lLoIFmChceGg</td>\n",
              "      <td>5</td>\n",
              "      <td>0</td>\n",
              "      <td>0</td>\n",
              "      <td>0</td>\n",
              "      <td>I stopped here because it was by the hotel I w...</td>\n",
              "      <td>2014-08-10 23:56:17</td>\n",
              "    </tr>\n",
              "    <tr>\n",
              "      <th>50</th>\n",
              "      <td>Lk21QNbrI_e3nf0GvWSPww</td>\n",
              "      <td>bCla27ma_6i_QFrGkILKrQ</td>\n",
              "      <td>sLgnx_WFCjEoPsS6NwU70Q</td>\n",
              "      <td>5</td>\n",
              "      <td>0</td>\n",
              "      <td>0</td>\n",
              "      <td>0</td>\n",
              "      <td>Our family returned for breakfast again this w...</td>\n",
              "      <td>2014-10-27 16:31:37</td>\n",
              "    </tr>\n",
              "    <tr>\n",
              "      <th>75</th>\n",
              "      <td>9IG9eB3K-RdIonPBuZ0psw</td>\n",
              "      <td>t2IL-HIXQKd6iZ6cIY8kcg</td>\n",
              "      <td>jOOOrH5n2ijnsZKxzPSAiw</td>\n",
              "      <td>5</td>\n",
              "      <td>0</td>\n",
              "      <td>0</td>\n",
              "      <td>0</td>\n",
              "      <td>This is one of the busiest Chick fil A's I've ...</td>\n",
              "      <td>2016-04-23 15:13:10</td>\n",
              "    </tr>\n",
              "    <tr>\n",
              "      <th>115</th>\n",
              "      <td>0-lnwfRh1GA1Lvu5RRC9Cg</td>\n",
              "      <td>xXYNgEWnjaim2byFGLex-w</td>\n",
              "      <td>7WZ5EGb-Xk_uxQTWc52P4w</td>\n",
              "      <td>5</td>\n",
              "      <td>2</td>\n",
              "      <td>0</td>\n",
              "      <td>0</td>\n",
              "      <td>Back to Tom Jones and time to update my review...</td>\n",
              "      <td>2012-06-26 02:49:39</td>\n",
              "    </tr>\n",
              "    <tr>\n",
              "      <th>...</th>\n",
              "      <td>...</td>\n",
              "      <td>...</td>\n",
              "      <td>...</td>\n",
              "      <td>...</td>\n",
              "      <td>...</td>\n",
              "      <td>...</td>\n",
              "      <td>...</td>\n",
              "      <td>...</td>\n",
              "      <td>...</td>\n",
              "    </tr>\n",
              "    <tr>\n",
              "      <th>282943</th>\n",
              "      <td>cdQHoEF-T_4kHk4yG4ggDA</td>\n",
              "      <td>xEMe_zrFr8vQB0-hY-syaw</td>\n",
              "      <td>-yu4koRugjxrnsey25oIuw</td>\n",
              "      <td>2</td>\n",
              "      <td>3</td>\n",
              "      <td>0</td>\n",
              "      <td>0</td>\n",
              "      <td>Well, I tried. . .I really really did.  This s...</td>\n",
              "      <td>2017-08-21 13:14:54</td>\n",
              "    </tr>\n",
              "    <tr>\n",
              "      <th>282946</th>\n",
              "      <td>tcHNHDgu8SaVK-MF6Vh7Jg</td>\n",
              "      <td>aznvTEpT_672wmW7U7QYzQ</td>\n",
              "      <td>ZXt0zo8liURaAEKD47zDRQ</td>\n",
              "      <td>5</td>\n",
              "      <td>1</td>\n",
              "      <td>0</td>\n",
              "      <td>1</td>\n",
              "      <td>Great staff energetic! Amazing atmosphere! The...</td>\n",
              "      <td>2019-03-09 01:35:11</td>\n",
              "    </tr>\n",
              "    <tr>\n",
              "      <th>282991</th>\n",
              "      <td>ITR8fSMerR5vTewTIteTog</td>\n",
              "      <td>tiXg6Ne6oQGvC19s6r-UcQ</td>\n",
              "      <td>jjK2eJS43eMBQEBddYldnA</td>\n",
              "      <td>5</td>\n",
              "      <td>0</td>\n",
              "      <td>0</td>\n",
              "      <td>0</td>\n",
              "      <td>Hats off, because the difference between our f...</td>\n",
              "      <td>2017-08-06 20:57:04</td>\n",
              "    </tr>\n",
              "    <tr>\n",
              "      <th>283007</th>\n",
              "      <td>R1V7fsohKbj3FsJjmyGnTw</td>\n",
              "      <td>yfys8p-TbxKsAarSkK0bSw</td>\n",
              "      <td>Y3ZCO17N1_T_Ms1JmswwzA</td>\n",
              "      <td>4</td>\n",
              "      <td>0</td>\n",
              "      <td>0</td>\n",
              "      <td>0</td>\n",
              "      <td>their tortillas make their fish tacos....amazing</td>\n",
              "      <td>2012-01-28 06:01:21</td>\n",
              "    </tr>\n",
              "    <tr>\n",
              "      <th>283023</th>\n",
              "      <td>VcdeItekZswCNUVCUTk3zA</td>\n",
              "      <td>aF56vJ17QYZolYHgsruIIA</td>\n",
              "      <td>kQRB8RNwd7cEMcURTS-I7A</td>\n",
              "      <td>5</td>\n",
              "      <td>1</td>\n",
              "      <td>0</td>\n",
              "      <td>0</td>\n",
              "      <td>Had the vegan tofu scramble and it was so good...</td>\n",
              "      <td>2018-03-30 22:48:42</td>\n",
              "    </tr>\n",
              "  </tbody>\n",
              "</table>\n",
              "<p>13149 rows × 9 columns</p>\n",
              "</div>\n",
              "      <button class=\"colab-df-convert\" onclick=\"convertToInteractive('df-288f7efa-4a50-4ece-8e1d-b8ae56f16460')\"\n",
              "              title=\"Convert this dataframe to an interactive table.\"\n",
              "              style=\"display:none;\">\n",
              "        \n",
              "  <svg xmlns=\"http://www.w3.org/2000/svg\" height=\"24px\"viewBox=\"0 0 24 24\"\n",
              "       width=\"24px\">\n",
              "    <path d=\"M0 0h24v24H0V0z\" fill=\"none\"/>\n",
              "    <path d=\"M18.56 5.44l.94 2.06.94-2.06 2.06-.94-2.06-.94-.94-2.06-.94 2.06-2.06.94zm-11 1L8.5 8.5l.94-2.06 2.06-.94-2.06-.94L8.5 2.5l-.94 2.06-2.06.94zm10 10l.94 2.06.94-2.06 2.06-.94-2.06-.94-.94-2.06-.94 2.06-2.06.94z\"/><path d=\"M17.41 7.96l-1.37-1.37c-.4-.4-.92-.59-1.43-.59-.52 0-1.04.2-1.43.59L10.3 9.45l-7.72 7.72c-.78.78-.78 2.05 0 2.83L4 21.41c.39.39.9.59 1.41.59.51 0 1.02-.2 1.41-.59l7.78-7.78 2.81-2.81c.8-.78.8-2.07 0-2.86zM5.41 20L4 18.59l7.72-7.72 1.47 1.35L5.41 20z\"/>\n",
              "  </svg>\n",
              "      </button>\n",
              "      \n",
              "  <style>\n",
              "    .colab-df-container {\n",
              "      display:flex;\n",
              "      flex-wrap:wrap;\n",
              "      gap: 12px;\n",
              "    }\n",
              "\n",
              "    .colab-df-convert {\n",
              "      background-color: #E8F0FE;\n",
              "      border: none;\n",
              "      border-radius: 50%;\n",
              "      cursor: pointer;\n",
              "      display: none;\n",
              "      fill: #1967D2;\n",
              "      height: 32px;\n",
              "      padding: 0 0 0 0;\n",
              "      width: 32px;\n",
              "    }\n",
              "\n",
              "    .colab-df-convert:hover {\n",
              "      background-color: #E2EBFA;\n",
              "      box-shadow: 0px 1px 2px rgba(60, 64, 67, 0.3), 0px 1px 3px 1px rgba(60, 64, 67, 0.15);\n",
              "      fill: #174EA6;\n",
              "    }\n",
              "\n",
              "    [theme=dark] .colab-df-convert {\n",
              "      background-color: #3B4455;\n",
              "      fill: #D2E3FC;\n",
              "    }\n",
              "\n",
              "    [theme=dark] .colab-df-convert:hover {\n",
              "      background-color: #434B5C;\n",
              "      box-shadow: 0px 1px 3px 1px rgba(0, 0, 0, 0.15);\n",
              "      filter: drop-shadow(0px 1px 2px rgba(0, 0, 0, 0.3));\n",
              "      fill: #FFFFFF;\n",
              "    }\n",
              "  </style>\n",
              "\n",
              "      <script>\n",
              "        const buttonEl =\n",
              "          document.querySelector('#df-288f7efa-4a50-4ece-8e1d-b8ae56f16460 button.colab-df-convert');\n",
              "        buttonEl.style.display =\n",
              "          google.colab.kernel.accessAllowed ? 'block' : 'none';\n",
              "\n",
              "        async function convertToInteractive(key) {\n",
              "          const element = document.querySelector('#df-288f7efa-4a50-4ece-8e1d-b8ae56f16460');\n",
              "          const dataTable =\n",
              "            await google.colab.kernel.invokeFunction('convertToInteractive',\n",
              "                                                     [key], {});\n",
              "          if (!dataTable) return;\n",
              "\n",
              "          const docLinkHtml = 'Like what you see? Visit the ' +\n",
              "            '<a target=\"_blank\" href=https://colab.research.google.com/notebooks/data_table.ipynb>data table notebook</a>'\n",
              "            + ' to learn more about interactive tables.';\n",
              "          element.innerHTML = '';\n",
              "          dataTable['output_type'] = 'display_data';\n",
              "          await google.colab.output.renderOutput(dataTable, element);\n",
              "          const docLink = document.createElement('div');\n",
              "          docLink.innerHTML = docLinkHtml;\n",
              "          element.appendChild(docLink);\n",
              "        }\n",
              "      </script>\n",
              "    </div>\n",
              "  </div>\n",
              "  "
            ]
          },
          "metadata": {},
          "execution_count": 18
        }
      ]
    },
    {
      "cell_type": "code",
      "source": [
        "# create a reduced copy by removing the duplicated user, restaurant rating combinations\n",
        "review_r = review[~review.duplicated(['user_id','business_id'], keep='first')]\n",
        "review_r.reset_index(inplace=True, drop=True)\n",
        "print(len(review), len(review_r))"
      ],
      "metadata": {
        "id": "-WngECVpEFmM",
        "colab": {
          "base_uri": "https://localhost:8080/"
        },
        "outputId": "1ad10df2-24a4-49db-f524-fdcfd266660e"
      },
      "execution_count": null,
      "outputs": [
        {
          "output_type": "stream",
          "name": "stdout",
          "text": [
            "283029 276130\n"
          ]
        }
      ]
    },
    {
      "cell_type": "code",
      "source": [
        "# free up temporary variables to save memory\n",
        "review, review_s, b_bid, r_bid = 0,0,0,0"
      ],
      "metadata": {
        "id": "gmFUg-BKEInA"
      },
      "execution_count": null,
      "outputs": []
    },
    {
      "cell_type": "code",
      "source": [
        "# train-test split by randomly split on 'review_r' dataset (random split on user-restaurant rating combination)\n",
        "idx = list(review_r.index)\n",
        "np.random.seed(42)\n",
        "np.random.shuffle(idx) # shuffle the list of index\n",
        "\n",
        "# 90% trainset, 10% testset\n",
        "threshold = int(0.9 * len(review_r))                                    \n",
        "trainset = review_r.loc[idx[:threshold],['user_id','business_id','stars']]                             \n",
        "testset = review_r.loc[idx[threshold:],['user_id','business_id','stars']]\n",
        "\n",
        "print(\"# of users in total:\" , review_r.user_id.nunique())\n",
        "print(\"# of users in the training set: \", trainset.user_id.nunique())\n",
        "print(\"# of restaurants in total:\" , review_r.business_id.nunique())\n",
        "print(\"# of restaurants in the training set: \", trainset.business_id.nunique())"
      ],
      "metadata": {
        "id": "9Q77p3PQEL0T",
        "colab": {
          "base_uri": "https://localhost:8080/"
        },
        "outputId": "a438e1e5-8cee-4653-86a2-e2e5d7b2e57c"
      },
      "execution_count": null,
      "outputs": [
        {
          "output_type": "stream",
          "name": "stdout",
          "text": [
            "# of users in total: 193656\n",
            "# of users in the training set:  177878\n",
            "# of restaurants in total: 4937\n",
            "# of restaurants in the training set:  4921\n"
          ]
        }
      ]
    },
    {
      "cell_type": "code",
      "source": [
        "testset"
      ],
      "metadata": {
        "colab": {
          "base_uri": "https://localhost:8080/",
          "height": 423
        },
        "id": "qFKBf7R465gU",
        "outputId": "ad3b2e79-e6e1-48d4-9f42-56d49bbc8d6a"
      },
      "execution_count": null,
      "outputs": [
        {
          "output_type": "execute_result",
          "data": {
            "text/plain": [
              "                       user_id             business_id  stars\n",
              "204028  pxLnrhcaY0wiCck0pxLkjg  10JlCiyViBpUqRf58XlbZg      5\n",
              "125022  SyWv_nCgIoxctfVf6_u2Jw  jlgi2sLx5i6_t4mcODJW7A      3\n",
              "202021  Vz0idd4CDsCYhzDsnNdWvQ  I2CxrvM0BGH1svfxqGGD2g      2\n",
              "101266  vS8H4lgp0AvtPSjrmKOQkg  dChRGpit9fM_kZK5pafNyA      4\n",
              "214633  2PrDYlo8377F-z1A5XMcGg  gfPDLZimZu1NtBIDbeXetg      5\n",
              "...                        ...                     ...    ...\n",
              "119879  KLgnSUl7vdGdL707kcpMNw  jVJH1KfitQi87MYMh6vyMg      4\n",
              "259178  3CzOdJ6Zts28my7FupPJvw  wzE61ThXOdrSegvwSOzf5w      3\n",
              "131932  ylOUE7z502p-mpmT5bMWiw  TghRoAMx43V-9l7mH-SENg      3\n",
              "146867  9WuP-4jfndovEFJ4bpt5vA  kpK6SmxIiNoGPNhlEGiL4w      5\n",
              "121958  4bdffuUiz7XRYcqbDO11fQ  CLt1k_vtdU962GZGl5U48g      2\n",
              "\n",
              "[27613 rows x 3 columns]"
            ],
            "text/html": [
              "\n",
              "  <div id=\"df-6c848c3b-146a-4101-b966-25b2b3bf39c9\">\n",
              "    <div class=\"colab-df-container\">\n",
              "      <div>\n",
              "<style scoped>\n",
              "    .dataframe tbody tr th:only-of-type {\n",
              "        vertical-align: middle;\n",
              "    }\n",
              "\n",
              "    .dataframe tbody tr th {\n",
              "        vertical-align: top;\n",
              "    }\n",
              "\n",
              "    .dataframe thead th {\n",
              "        text-align: right;\n",
              "    }\n",
              "</style>\n",
              "<table border=\"1\" class=\"dataframe\">\n",
              "  <thead>\n",
              "    <tr style=\"text-align: right;\">\n",
              "      <th></th>\n",
              "      <th>user_id</th>\n",
              "      <th>business_id</th>\n",
              "      <th>stars</th>\n",
              "    </tr>\n",
              "  </thead>\n",
              "  <tbody>\n",
              "    <tr>\n",
              "      <th>204028</th>\n",
              "      <td>pxLnrhcaY0wiCck0pxLkjg</td>\n",
              "      <td>10JlCiyViBpUqRf58XlbZg</td>\n",
              "      <td>5</td>\n",
              "    </tr>\n",
              "    <tr>\n",
              "      <th>125022</th>\n",
              "      <td>SyWv_nCgIoxctfVf6_u2Jw</td>\n",
              "      <td>jlgi2sLx5i6_t4mcODJW7A</td>\n",
              "      <td>3</td>\n",
              "    </tr>\n",
              "    <tr>\n",
              "      <th>202021</th>\n",
              "      <td>Vz0idd4CDsCYhzDsnNdWvQ</td>\n",
              "      <td>I2CxrvM0BGH1svfxqGGD2g</td>\n",
              "      <td>2</td>\n",
              "    </tr>\n",
              "    <tr>\n",
              "      <th>101266</th>\n",
              "      <td>vS8H4lgp0AvtPSjrmKOQkg</td>\n",
              "      <td>dChRGpit9fM_kZK5pafNyA</td>\n",
              "      <td>4</td>\n",
              "    </tr>\n",
              "    <tr>\n",
              "      <th>214633</th>\n",
              "      <td>2PrDYlo8377F-z1A5XMcGg</td>\n",
              "      <td>gfPDLZimZu1NtBIDbeXetg</td>\n",
              "      <td>5</td>\n",
              "    </tr>\n",
              "    <tr>\n",
              "      <th>...</th>\n",
              "      <td>...</td>\n",
              "      <td>...</td>\n",
              "      <td>...</td>\n",
              "    </tr>\n",
              "    <tr>\n",
              "      <th>119879</th>\n",
              "      <td>KLgnSUl7vdGdL707kcpMNw</td>\n",
              "      <td>jVJH1KfitQi87MYMh6vyMg</td>\n",
              "      <td>4</td>\n",
              "    </tr>\n",
              "    <tr>\n",
              "      <th>259178</th>\n",
              "      <td>3CzOdJ6Zts28my7FupPJvw</td>\n",
              "      <td>wzE61ThXOdrSegvwSOzf5w</td>\n",
              "      <td>3</td>\n",
              "    </tr>\n",
              "    <tr>\n",
              "      <th>131932</th>\n",
              "      <td>ylOUE7z502p-mpmT5bMWiw</td>\n",
              "      <td>TghRoAMx43V-9l7mH-SENg</td>\n",
              "      <td>3</td>\n",
              "    </tr>\n",
              "    <tr>\n",
              "      <th>146867</th>\n",
              "      <td>9WuP-4jfndovEFJ4bpt5vA</td>\n",
              "      <td>kpK6SmxIiNoGPNhlEGiL4w</td>\n",
              "      <td>5</td>\n",
              "    </tr>\n",
              "    <tr>\n",
              "      <th>121958</th>\n",
              "      <td>4bdffuUiz7XRYcqbDO11fQ</td>\n",
              "      <td>CLt1k_vtdU962GZGl5U48g</td>\n",
              "      <td>2</td>\n",
              "    </tr>\n",
              "  </tbody>\n",
              "</table>\n",
              "<p>27613 rows × 3 columns</p>\n",
              "</div>\n",
              "      <button class=\"colab-df-convert\" onclick=\"convertToInteractive('df-6c848c3b-146a-4101-b966-25b2b3bf39c9')\"\n",
              "              title=\"Convert this dataframe to an interactive table.\"\n",
              "              style=\"display:none;\">\n",
              "        \n",
              "  <svg xmlns=\"http://www.w3.org/2000/svg\" height=\"24px\"viewBox=\"0 0 24 24\"\n",
              "       width=\"24px\">\n",
              "    <path d=\"M0 0h24v24H0V0z\" fill=\"none\"/>\n",
              "    <path d=\"M18.56 5.44l.94 2.06.94-2.06 2.06-.94-2.06-.94-.94-2.06-.94 2.06-2.06.94zm-11 1L8.5 8.5l.94-2.06 2.06-.94-2.06-.94L8.5 2.5l-.94 2.06-2.06.94zm10 10l.94 2.06.94-2.06 2.06-.94-2.06-.94-.94-2.06-.94 2.06-2.06.94z\"/><path d=\"M17.41 7.96l-1.37-1.37c-.4-.4-.92-.59-1.43-.59-.52 0-1.04.2-1.43.59L10.3 9.45l-7.72 7.72c-.78.78-.78 2.05 0 2.83L4 21.41c.39.39.9.59 1.41.59.51 0 1.02-.2 1.41-.59l7.78-7.78 2.81-2.81c.8-.78.8-2.07 0-2.86zM5.41 20L4 18.59l7.72-7.72 1.47 1.35L5.41 20z\"/>\n",
              "  </svg>\n",
              "      </button>\n",
              "      \n",
              "  <style>\n",
              "    .colab-df-container {\n",
              "      display:flex;\n",
              "      flex-wrap:wrap;\n",
              "      gap: 12px;\n",
              "    }\n",
              "\n",
              "    .colab-df-convert {\n",
              "      background-color: #E8F0FE;\n",
              "      border: none;\n",
              "      border-radius: 50%;\n",
              "      cursor: pointer;\n",
              "      display: none;\n",
              "      fill: #1967D2;\n",
              "      height: 32px;\n",
              "      padding: 0 0 0 0;\n",
              "      width: 32px;\n",
              "    }\n",
              "\n",
              "    .colab-df-convert:hover {\n",
              "      background-color: #E2EBFA;\n",
              "      box-shadow: 0px 1px 2px rgba(60, 64, 67, 0.3), 0px 1px 3px 1px rgba(60, 64, 67, 0.15);\n",
              "      fill: #174EA6;\n",
              "    }\n",
              "\n",
              "    [theme=dark] .colab-df-convert {\n",
              "      background-color: #3B4455;\n",
              "      fill: #D2E3FC;\n",
              "    }\n",
              "\n",
              "    [theme=dark] .colab-df-convert:hover {\n",
              "      background-color: #434B5C;\n",
              "      box-shadow: 0px 1px 3px 1px rgba(0, 0, 0, 0.15);\n",
              "      filter: drop-shadow(0px 1px 2px rgba(0, 0, 0, 0.3));\n",
              "      fill: #FFFFFF;\n",
              "    }\n",
              "  </style>\n",
              "\n",
              "      <script>\n",
              "        const buttonEl =\n",
              "          document.querySelector('#df-6c848c3b-146a-4101-b966-25b2b3bf39c9 button.colab-df-convert');\n",
              "        buttonEl.style.display =\n",
              "          google.colab.kernel.accessAllowed ? 'block' : 'none';\n",
              "\n",
              "        async function convertToInteractive(key) {\n",
              "          const element = document.querySelector('#df-6c848c3b-146a-4101-b966-25b2b3bf39c9');\n",
              "          const dataTable =\n",
              "            await google.colab.kernel.invokeFunction('convertToInteractive',\n",
              "                                                     [key], {});\n",
              "          if (!dataTable) return;\n",
              "\n",
              "          const docLinkHtml = 'Like what you see? Visit the ' +\n",
              "            '<a target=\"_blank\" href=https://colab.research.google.com/notebooks/data_table.ipynb>data table notebook</a>'\n",
              "            + ' to learn more about interactive tables.';\n",
              "          element.innerHTML = '';\n",
              "          dataTable['output_type'] = 'display_data';\n",
              "          await google.colab.output.renderOutput(dataTable, element);\n",
              "          const docLink = document.createElement('div');\n",
              "          docLink.innerHTML = docLinkHtml;\n",
              "          element.appendChild(docLink);\n",
              "        }\n",
              "      </script>\n",
              "    </div>\n",
              "  </div>\n",
              "  "
            ]
          },
          "metadata": {},
          "execution_count": 86
        }
      ]
    },
    {
      "cell_type": "code",
      "source": [
        "!pip install scikit-surprise"
      ],
      "metadata": {
        "id": "M7V2IydHEQLb",
        "colab": {
          "base_uri": "https://localhost:8080/"
        },
        "outputId": "1d97af36-2a44-436d-f124-5330d0f852f3"
      },
      "execution_count": null,
      "outputs": [
        {
          "output_type": "stream",
          "name": "stdout",
          "text": [
            "Looking in indexes: https://pypi.org/simple, https://us-python.pkg.dev/colab-wheels/public/simple/\n",
            "Collecting scikit-surprise\n",
            "  Downloading scikit-surprise-1.1.3.tar.gz (771 kB)\n",
            "\u001b[2K     \u001b[90m━━━━━━━━━━━━━━━━━━━━━━━━━━━━━━━━━━━━━━\u001b[0m \u001b[32m772.0/772.0 KB\u001b[0m \u001b[31m12.7 MB/s\u001b[0m eta \u001b[36m0:00:00\u001b[0m\n",
            "\u001b[?25h  Preparing metadata (setup.py) ... \u001b[?25l\u001b[?25hdone\n",
            "Requirement already satisfied: joblib>=1.0.0 in /usr/local/lib/python3.9/dist-packages (from scikit-surprise) (1.1.1)\n",
            "Requirement already satisfied: numpy>=1.17.3 in /usr/local/lib/python3.9/dist-packages (from scikit-surprise) (1.24.2)\n",
            "Requirement already satisfied: scipy>=1.3.2 in /usr/local/lib/python3.9/dist-packages (from scikit-surprise) (1.10.1)\n",
            "Building wheels for collected packages: scikit-surprise\n",
            "  Building wheel for scikit-surprise (setup.py) ... \u001b[?25l\u001b[?25hdone\n",
            "  Created wheel for scikit-surprise: filename=scikit_surprise-1.1.3-cp39-cp39-linux_x86_64.whl size=3193717 sha256=c0b8f57db926bd2b002e5ad3708691ca11128070d9e86959c7f2a994b47b1027\n",
            "  Stored in directory: /root/.cache/pip/wheels/c6/3a/46/9b17b3512bdf283c6cb84f59929cdd5199d4e754d596d22784\n",
            "Successfully built scikit-surprise\n",
            "Installing collected packages: scikit-surprise\n",
            "Successfully installed scikit-surprise-1.1.3\n"
          ]
        }
      ]
    },
    {
      "cell_type": "code",
      "source": [
        "from surprise import Dataset, Reader\n",
        "from surprise import NMF, SVD\n",
        "from surprise.model_selection import cross_validate, GridSearchCV, KFold\n",
        "from surprise import accuracy"
      ],
      "metadata": {
        "id": "oaIGbWmCEUXe"
      },
      "execution_count": null,
      "outputs": []
    },
    {
      "cell_type": "code",
      "source": [
        "# load trainset and testset into Surprise\n",
        "\n",
        "# create a Reader object with the rating_scale from 1 to 5\n",
        "reader = Reader(rating_scale=(1, 5))\n",
        "\n",
        "# load trainset, note: the columns must correspond to user id, item id and ratings in the exact order\n",
        "data_train = Dataset.load_from_df(trainset, reader)\n",
        "training = data_train.build_full_trainset() # prepare a trainset object out of the training data to feed to .fit() method\n",
        "\n",
        "# load testset\n",
        "data_test = Dataset.load_from_df(testset, reader)\n",
        "testing = data_test.construct_testset(data_test.raw_ratings) # prepare a testset object out of the test data to feed to .test() method"
      ],
      "metadata": {
        "id": "UZyhouRKI9cj"
      },
      "execution_count": null,
      "outputs": []
    },
    {
      "cell_type": "code",
      "source": [
        "%%time\n",
        "# simple SVD model\n",
        "svd = SVD(n_factors=20, n_epochs = 30, biased=False) # initiate a SVD algorithm object\n",
        "svd.fit(training) # training on the trainset\n",
        "pred_svd = svd.test(testing) # predict ratings for the testset\n",
        "accuracy.rmse(pred_svd) # compute RMSE score\n",
        "\n",
        "# user and item matrix with latent features\n",
        "mean = svd.trainset.global_mean # global mean rating of the trainset\n",
        "user_latent, item_latent = svd.pu, svd.qi\n",
        "print(user_latent.shape, item_latent.shape)"
      ],
      "metadata": {
        "id": "b16Z3q1HJjKL",
        "colab": {
          "base_uri": "https://localhost:8080/"
        },
        "outputId": "c03e3137-6d1c-4bdb-e1e5-ee9bbd9a7cf7"
      },
      "execution_count": null,
      "outputs": [
        {
          "output_type": "stream",
          "name": "stdout",
          "text": [
            "RMSE: 2.0039\n",
            "(177878, 20) (4921, 20)\n",
            "CPU times: user 7.78 s, sys: 60 ms, total: 7.84 s\n",
            "Wall time: 14.7 s\n"
          ]
        }
      ]
    },
    {
      "cell_type": "code",
      "source": [
        "%%time\n",
        "# SVD bias model with defaults\n",
        "svd_bias = SVD(n_factors=20, n_epochs = 30, biased=True) # initiate a SVD algorithm object with the bias terms\n",
        "svd_bias.fit(training) # training on the trainset\n",
        "pred_svd_bias = svd_bias.test(testing) # predict ratings for the testset\n",
        "accuracy.rmse(pred_svd_bias) # compute RMSE score\n",
        "\n",
        "# extract useful information from the fitted model\n",
        "mean = svd_bias.trainset.global_mean # global mean rating of the trainset\n",
        "# user and item matrix with latent features\n",
        "user_latent, item_latent = svd_bias.pu, svd_bias.qi\n",
        "print(user_latent.shape, item_latent.shape)\n",
        "# user and item bias vector\n",
        "user_bias, item_bias = svd_bias.bu, svd_bias.bi\n",
        "print(user_bias.shape, item_bias.shape)"
      ],
      "metadata": {
        "id": "IlgTvQv7sJTv",
        "colab": {
          "base_uri": "https://localhost:8080/"
        },
        "outputId": "52f5c019-16c0-4236-b400-a3354a7d94bc"
      },
      "execution_count": null,
      "outputs": [
        {
          "output_type": "stream",
          "name": "stdout",
          "text": [
            "RMSE: 1.2305\n",
            "(177878, 20) (4921, 20)\n",
            "(177878,) (4921,)\n",
            "CPU times: user 4.16 s, sys: 33 ms, total: 4.2 s\n",
            "Wall time: 4.2 s\n"
          ]
        }
      ]
    },
    {
      "cell_type": "markdown",
      "source": [
        "NMF"
      ],
      "metadata": {
        "id": "_YdvVrjyt9Zb"
      }
    },
    {
      "cell_type": "markdown",
      "source": [
        "NMF WITHOUT BIAS"
      ],
      "metadata": {
        "id": "EjCvZ3eAvcdQ"
      }
    },
    {
      "cell_type": "code",
      "source": [
        "from surprise import NMF\n",
        "\n",
        "n_factors = 20\n",
        "model = NMF(n_factors=n_factors, biased=False)\n",
        "\n",
        "\n"
      ],
      "metadata": {
        "id": "eXG6hPLBuA_1"
      },
      "execution_count": null,
      "outputs": []
    },
    {
      "cell_type": "code",
      "source": [
        "model.fit(training) # training on the trainset\n",
        "pred_nmf = model.test(testing) # predict ratings for the testset\n",
        "accuracy.rmse(pred_nmf)\n",
        "\n",
        "# user and item matrix with latent features\n",
        "mean = model.trainset.global_mean # global mean rating of the trainset\n",
        "user_latent, item_latent = model.pu, model.qi\n",
        "print(user_latent.shape, item_latent.shape)"
      ],
      "metadata": {
        "id": "7sxfxVUduBml",
        "colab": {
          "base_uri": "https://localhost:8080/"
        },
        "outputId": "cfde3134-8ed2-450d-d419-0af9c7c48949"
      },
      "execution_count": null,
      "outputs": [
        {
          "output_type": "stream",
          "name": "stdout",
          "text": [
            "RMSE: 1.4150\n",
            "(177878, 20) (4921, 20)\n"
          ]
        }
      ]
    },
    {
      "cell_type": "markdown",
      "source": [
        "NMF WITH BIAS"
      ],
      "metadata": {
        "id": "qvs-5gkuvhd4"
      }
    },
    {
      "cell_type": "code",
      "source": [
        "n_factors = 20\n",
        "nmf_b = NMF(n_factors=n_factors, biased=True)"
      ],
      "metadata": {
        "id": "QdkuyR3euE0y"
      },
      "execution_count": null,
      "outputs": []
    },
    {
      "cell_type": "code",
      "source": [
        "nmf_b.fit(training) # training on the trainset\n",
        "pred_nmf_bias = nmf_b.test(testing) # predict ratings for the testset\n",
        "accuracy.rmse(pred_nmf_bias) # compute RMSE score\n",
        "\n",
        "# extract useful information from the fitted model\n",
        "mean = nmf_b.trainset.global_mean # global mean rating of the trainset\n",
        "# user and item matrix with latent features\n",
        "user_latent, item_latent = nmf_b.pu, nmf_b.qi\n",
        "print(user_latent.shape, item_latent.shape)\n",
        "# user and item bias vector\n",
        "user_bias, item_bias = nmf_b.bu, nmf_b.bi\n",
        "print(user_bias.shape, item_bias.shape)"
      ],
      "metadata": {
        "id": "r9h5rb-HuHxm",
        "colab": {
          "base_uri": "https://localhost:8080/"
        },
        "outputId": "e31291e3-5b1a-4fb1-9208-8dfc440e250a"
      },
      "execution_count": null,
      "outputs": [
        {
          "output_type": "stream",
          "name": "stdout",
          "text": [
            "RMSE: 1.5593\n",
            "(177878, 20) (4921, 20)\n",
            "(177878,) (4921,)\n"
          ]
        }
      ]
    },
    {
      "cell_type": "markdown",
      "source": [
        "NMF using scikit-learn"
      ],
      "metadata": {
        "id": "Lkb1pbhhwesI"
      }
    },
    {
      "cell_type": "code",
      "source": [
        "from sklearn.decomposition import NMF\n",
        "from sklearn.metrics import mean_squared_error\n",
        "from sklearn.model_selection import train_test_split"
      ],
      "metadata": {
        "id": "6lomxewyuLQX"
      },
      "execution_count": null,
      "outputs": []
    },
    {
      "cell_type": "code",
      "source": [
        "\n",
        "from scipy.sparse import csr_matrix\n",
        "from pandas.api.types import CategoricalDtype\n",
        "\n",
        "# return the resulting sparse matrix along with the mapping dictionaries of matrix indices to the orignial values in the corresponding columns of df\n",
        "def df_pivot_sparse_matrix(df, idx, col, val):\n",
        "   \n",
        "    idx_c = CategoricalDtype(sorted(df[idx].unique()),ordered=True) # find unique values in the idx column and define as a categorical type\n",
        "    col_c = CategoricalDtype(sorted(df[col].unique()),ordered=True) # find unique values in the col column and define as a categorical type\n",
        "\n",
        "    x = df[idx].astype(idx_c).cat.codes # cast columns to the newly created categorical type and access the underlying integer codes (corresponding numbering of the categories)\n",
        "    y = df[col].astype(col_c).cat.codes \n",
        "    sparse_matrix = csr_matrix((df[val].values, (x, y)), \\\n",
        "                           shape=(len(idx_c.categories), len(col_c.categories))) # map to the sparse matrix\n",
        "    \n",
        "    map_idx = dict(zip(list(idx_c.categories),np.arange(len(idx_c.categories)))) # create the mapping dictionaries\n",
        "    map_col = dict(zip(list(col_c.categories),np.arange(len(col_c.categories))))\n",
        "                               \n",
        "    return sparse_matrix, map_idx, map_col\n",
        "# convert trainset to sparse matrix\n",
        "   \n",
        "  "
      ],
      "metadata": {
        "id": "Jaik2hr2uOCq"
      },
      "execution_count": null,
      "outputs": []
    },
    {
      "cell_type": "code",
      "source": [
        "# convert trainset to sparse matrix\n",
        "trainset_m, train_map_user, train_map_business = df_pivot_sparse_matrix(trainset, 'user_id', 'business_id', 'stars')\n",
        "\n",
        "# inspect the returned sparse matrix\n",
        "print(\"matrix shape:\", trainset_m.shape)\n",
        "print(\"memory use: {} Mb\".format((trainset_m.data.nbytes + trainset_m.indptr.nbytes + trainset_m.indices.nbytes)*0.125*1e-6))\n",
        "print(trainset_m.dtype)\n",
        "\n",
        "# inspect the returned mapping dictionaries\n",
        "print(list(train_map_user.items())[:3])\n",
        "print(list(train_map_business.items())[:5])"
      ],
      "metadata": {
        "id": "xd-Sr2ltuRBH",
        "colab": {
          "base_uri": "https://localhost:8080/"
        },
        "outputId": "87c47525-c558-4315-a71a-b10ff2c21879"
      },
      "execution_count": null,
      "outputs": [
        {
          "output_type": "stream",
          "name": "stdout",
          "text": [
            "matrix shape: (177878, 4921)\n",
            "memory use: 0.461715 Mb\n",
            "int64\n",
            "[('---2PmXbF47D870stH1jqA', 0), ('---UgP94gokyCDuB5zUssA', 1), ('---r61b7EpVPkb4UVme5tA', 2)]\n",
            "[('--ZVrH2X2QXBFdCilbirsw', 0), ('-1MhPXk1FglglUAmuPLIGg', 1), ('-2Axhv9AZ_n7qjQefECpVw', 2), ('-2ke_JDOpgTZWqirMFjZcw', 3), ('-3AooxIkg38UyUdlz5oXdw', 4)]\n"
          ]
        }
      ]
    },
    {
      "cell_type": "code",
      "source": [
        "# compute global mean of ratings based on the trainset\n",
        "global_mean_train = trainset.stars.mean()\n",
        "global_mean_train"
      ],
      "metadata": {
        "colab": {
          "base_uri": "https://localhost:8080/"
        },
        "id": "DbZr7oE4xVCU",
        "outputId": "c9a17d5c-7710-4406-e737-de2efd656200"
      },
      "execution_count": null,
      "outputs": [
        {
          "output_type": "execute_result",
          "data": {
            "text/plain": [
              "3.8062828699847495"
            ]
          },
          "metadata": {},
          "execution_count": 71
        }
      ]
    },
    {
      "cell_type": "code",
      "source": [
        "def compute_performance(testset, user_matrix, item_matrix, user_mapper, item_mapper):\n",
        "    \"\"\" Predict and compute the RMSE(root mean squared error) of the predicted ratings vs true ratings on the testset\n",
        "    Return the RMSE and the list of predicted ratings\n",
        "    \"\"\"\n",
        "    y_true = list(testset.stars.values)\n",
        "    y_pred = list()\n",
        "    \n",
        "    for idx in testset.index:\n",
        "        u, b, r = testset.loc[idx, ['user_id','business_id','stars']]\n",
        "        if (u in user_mapper) and (b in item_mapper):\n",
        "            u_i, b_i = user_mapper[u], item_mapper[b]\n",
        "            r_pred = np.dot(user_matrix[u_i,:], item_matrix[:,b_i])\n",
        "        else: \n",
        "            r_pred = global_mean_train  # return global mean rating for unseen user or restaurant\n",
        "        y_pred.append(r_pred)\n",
        "    \n",
        "    assert len(y_true) == len(y_pred)\n",
        "    mse = mean_squared_error(y_true, y_pred)\n",
        "    return np.sqrt(mse), y_pred"
      ],
      "metadata": {
        "id": "v6He6FV_xaZy"
      },
      "execution_count": null,
      "outputs": []
    },
    {
      "cell_type": "code",
      "source": [
        "# initiate a NMF algorithm and fit to the trainset\n",
        "model = NMF(n_components=20, tol=5e-5)\n",
        "W = model.fit_transform(trainset_m) # W is the user x latent feature matrix\n",
        "H = model.components_ # H is the latent feature x item matrix\n",
        "print(W.shape, H.shape)\n",
        "\n",
        "# test on the testset\n",
        "rmse, pred = compute_performance(testset, W, H, train_map_user, train_map_business)\n",
        "print(rmse) # RMSE on the testset"
      ],
      "metadata": {
        "colab": {
          "base_uri": "https://localhost:8080/"
        },
        "id": "6JmpFqmAxmMn",
        "outputId": "d4153564-e9bc-4425-c650-465a005f7711"
      },
      "execution_count": null,
      "outputs": [
        {
          "output_type": "stream",
          "name": "stdout",
          "text": [
            "(177878, 20) (20, 4921)\n",
            "2.795163711923066\n"
          ]
        }
      ]
    },
    {
      "cell_type": "code",
      "source": [
        "# look at the predicted ratings vs actual ratings in the testset\n",
        "comparison = pd.concat([pd.Series(pred), pd.Series(testset.stars.values)], axis=1)\n",
        "comparison.columns = ['rating_predict','rating_actual']\n",
        "comparison.plot(kind='hist', subplots=True);"
      ],
      "metadata": {
        "colab": {
          "base_uri": "https://localhost:8080/",
          "height": 265
        },
        "id": "7qa1RkPJxpXA",
        "outputId": "b82df57d-7c9f-48ea-a376-4a212b584d31"
      },
      "execution_count": null,
      "outputs": [
        {
          "output_type": "display_data",
          "data": {
            "text/plain": [
              "<Figure size 432x288 with 2 Axes>"
            ],
            "image/png": "[encoded data removed]"
          },
          "metadata": {
            "needs_background": "light"
          }
        }
      ]
    },
    {
      "cell_type": "markdown",
      "source": [
        "The NMF from sklearn gives much worse rating predictions, with RMSE on the testset being 2.79\n",
        "Actual rating and predicted rating are far from each other. rating predicted is between 0-0.5 and 3.5-4 which is wrong analysis. SO WE DON'T USE NMF USING SCIKIT LEARN"
      ],
      "metadata": {
        "id": "W4slXk8jyKcv"
      }
    },
    {
      "cell_type": "markdown",
      "source": [
        " **Optimization and evaluation of matrix factorization algorithms OF SVD AND NMF MODELS FROM SURPRISE MODULE**"
      ],
      "metadata": {
        "id": "CU6-AXJRyynC"
      }
    },
    {
      "cell_type": "markdown",
      "source": [
        "**Gridsearch optimization of SVD bias model**"
      ],
      "metadata": {
        "id": "AxiYC2ZwzI_1"
      }
    },
    {
      "cell_type": "code",
      "source": [
        "# parameter optimization with scikit-surprise SVD algorithm with bias\n",
        "\n",
        "# cross validation to optimize parameters of SVD with bias\n",
        "param_grid = {'n_factors': [10,20,30,50], 'n_epochs': [50,100,200], 'lr_all': [0.005],'reg_all': [0.05], 'biased': [True]}\n",
        "svd_gs = GridSearchCV(SVD, param_grid, measures=['rmse'], cv=KFold(3, random_state=42), joblib_verbose=2)\n",
        "svd_gs.fit(data_train) # gridsesarch optimization on the trainset\n",
        "\n",
        "# best RMSE score\n",
        "print(svd_gs.best_score)\n",
        "# combination of parameters that gave the best RMSE score\n",
        "print(svd_gs.best_params)\n",
        "\n",
        "# update SVD bias model with optimized parameters\n",
        "svd_gs_best = svd_gs.best_estimator['rmse']  # algorithm with the optimized parameters\n",
        "svd_gs_best.fit(training)\n",
        "pred_svd_gs_best = svd_gs_best.test(testing) \n",
        "accuracy.rmse(pred_svd_gs_best)"
      ],
      "metadata": {
        "colab": {
          "base_uri": "https://localhost:8080/"
        },
        "id": "ds0kFXYbywjs",
        "outputId": "e687caa8-c350-4e59-9819-53f48336d348"
      },
      "execution_count": null,
      "outputs": [
        {
          "output_type": "stream",
          "name": "stderr",
          "text": [
            "[Parallel(n_jobs=1)]: Using backend SequentialBackend with 1 concurrent workers.\n",
            "[Parallel(n_jobs=1)]: Done   1 out of   1 | elapsed:    7.8s remaining:    0.0s\n",
            "[Parallel(n_jobs=1)]: Done  36 out of  36 | elapsed:  9.7min finished\n"
          ]
        },
        {
          "output_type": "stream",
          "name": "stdout",
          "text": [
            "{'rmse': 1.2357453835714054}\n",
            "{'rmse': {'n_factors': 10, 'n_epochs': 50, 'lr_all': 0.005, 'reg_all': 0.05, 'biased': True}}\n",
            "RMSE: 1.2307\n"
          ]
        },
        {
          "output_type": "execute_result",
          "data": {
            "text/plain": [
              "1.2307258921111344"
            ]
          },
          "metadata": {},
          "execution_count": 75
        }
      ]
    },
    {
      "cell_type": "markdown",
      "source": [
        "** Gridsearch optimization of simple NMF model**"
      ],
      "metadata": {
        "id": "INLmLNAP1u_5"
      }
    },
    {
      "cell_type": "code",
      "source": [
        "# parameter optimization with scikit-surprise NMF algorithm with no bias\n",
        "\n",
        "from surprise import NMF\n",
        "# cross validation to optimize parameters of NMF with no bias\n",
        "param_grid = {'n_factors': [10,20,30,50], 'n_epochs': [50],'biased': [False]}\n",
        "nmf_gs = GridSearchCV(NMF, param_grid, measures=['rmse'], cv=KFold(3, random_state=42), joblib_verbose=2)\n",
        "nmf_gs.fit(data_train) # gridsesarch optimization on the trainset, need to feed in a Dataset object not a trainset object\n",
        "\n",
        "# best RMSE score\n",
        "print(nmf_gs.best_score)\n",
        "# combination of parameters that gave the best RMSE score\n",
        "print(nmf_gs.best_params)\n",
        "\n",
        "# update simple NMF model with optimized parameters\n",
        "nmf_gs_best = nmf_gs.best_estimator['rmse']  # algorithm with the optimized parameters\n",
        "nmf_gs_best.fit(training)\n",
        "pred_nmf_gs_best = nmf_gs_best.test(testing)\n",
        "accuracy.rmse(pred_nmf_gs_best)"
      ],
      "metadata": {
        "colab": {
          "base_uri": "https://localhost:8080/"
        },
        "id": "QfmaGcRTzRox",
        "outputId": "090151a8-04a1-4ccd-fd47-68614e17f711"
      },
      "execution_count": null,
      "outputs": [
        {
          "output_type": "stream",
          "name": "stderr",
          "text": [
            "[Parallel(n_jobs=1)]: Using backend SequentialBackend with 1 concurrent workers.\n",
            "[Parallel(n_jobs=1)]: Done   1 out of   1 | elapsed:   14.0s remaining:    0.0s\n",
            "[Parallel(n_jobs=1)]: Done  12 out of  12 | elapsed:  4.9min finished\n"
          ]
        },
        {
          "output_type": "stream",
          "name": "stdout",
          "text": [
            "{'rmse': 1.3957781145688253}\n",
            "{'rmse': {'n_factors': 30, 'n_epochs': 50, 'biased': False}}\n",
            "RMSE: 1.4057\n"
          ]
        },
        {
          "output_type": "execute_result",
          "data": {
            "text/plain": [
              "1.4056699544742501"
            ]
          },
          "metadata": {},
          "execution_count": 76
        }
      ]
    },
    {
      "cell_type": "markdown",
      "source": [
        "# **RMSE of the best model**"
      ],
      "metadata": {
        "id": "zKAi4SXa3Xn_"
      }
    },
    {
      "cell_type": "markdown",
      "source": [
        "** Testset with the presence of new users and new businesses**"
      ],
      "metadata": {
        "id": "xEtuR6y13gNT"
      }
    },
    {
      "cell_type": "code",
      "source": [
        "pred_1 = svd_gs_best.test(testing) # predict ratings for the testset with unseen users and businesses\n",
        "accuracy.rmse(pred_1) # compute RMSE score"
      ],
      "metadata": {
        "colab": {
          "base_uri": "https://localhost:8080/"
        },
        "id": "xjYVEZ0K2KkY",
        "outputId": "f060d2f5-fd9d-4639-b9ed-ab1e3abd3a18"
      },
      "execution_count": null,
      "outputs": [
        {
          "output_type": "stream",
          "name": "stdout",
          "text": [
            "RMSE: 1.2307\n"
          ]
        },
        {
          "output_type": "execute_result",
          "data": {
            "text/plain": [
              "1.2307258921111344"
            ]
          },
          "metadata": {},
          "execution_count": 77
        }
      ]
    },
    {
      "cell_type": "markdown",
      "source": [
        "# Testset with no new user or business"
      ],
      "metadata": {
        "id": "pmbPEMEF3yL2"
      }
    },
    {
      "cell_type": "code",
      "source": [
        "# prepare a reduced testset, 'testset_2', by removing the unseen users and businesses\n",
        "testset_2 = testset[testset.user_id.isin(trainset.user_id.unique())] # remove unseen users\n",
        "testset_2 = testset_2[testset_2.business_id.isin(trainset.business_id.unique())] # remove unseen businesses\n",
        "print(len(testset),len(testset_2))\n",
        "\n",
        "# load testset_2 without unseen users and businesses into scikit-surpise \n",
        "data_test_2 = Dataset.load_from_df(testset_2, reader)\n",
        "testing_2 = data_test_2.construct_testset(data_test_2.raw_ratings) # prepare a testset object out of the test data to feed to .test() method\n",
        "\n",
        "pred_2 = svd_gs_best.test(testing_2) # predict ratings\n",
        "accuracy.rmse(pred_2) # compute RMSE score"
      ],
      "metadata": {
        "colab": {
          "base_uri": "https://localhost:8080/"
        },
        "id": "qRAaPdk_3sl5",
        "outputId": "e3e07fc3-bfda-490d-9b11-8e99fa960bcc"
      },
      "execution_count": null,
      "outputs": [
        {
          "output_type": "stream",
          "name": "stdout",
          "text": [
            "27613 11585\n",
            "RMSE: 1.1071\n"
          ]
        },
        {
          "output_type": "execute_result",
          "data": {
            "text/plain": [
              "1.1071047399801237"
            ]
          },
          "metadata": {},
          "execution_count": 78
        }
      ]
    },
    {
      "cell_type": "markdown",
      "source": [
        "***3) Testset containing only users and businesses with more than 5 historical ratings (more than 5 ratings in trainset)***"
      ],
      "metadata": {
        "id": "7fzQ4Njd4APd"
      }
    },
    {
      "cell_type": "code",
      "source": [
        "\n",
        "# compute user review counts and business review counts from the trainset\n",
        "user_rev_cnt = trainset.groupby('user_id').count().stars\n",
        "busi_rev_cnt = trainset.groupby('business_id').count().stars\n",
        "\n",
        "# prepare a reduced testset,'testset_3', by removing users and businesses with less than 5 historical ratings in the trainset\n",
        "testset_3 = testset[testset.user_id.isin(user_rev_cnt[user_rev_cnt>=5].index)] # remove users with less than 5 ratings for training\n",
        "testset_3 = testset_3[testset_3.business_id.isin(busi_rev_cnt[busi_rev_cnt>=5].index)] # remove businesses with less than 5 ratings for training\n",
        "print(len(testset),len(testset_3))\n",
        "\n",
        "# load testset_3 containing only users and businesses with at least 5 historical ratings\n",
        "data_test_3 = Dataset.load_from_df(testset_3, reader)\n",
        "testing_3 = data_test_3.construct_testset(data_test_3.raw_ratings) # prepare a testset object out of the test data to feed to .test() method\n",
        "\n",
        "pred_3 = svd_gs_best.test(testing_3) # predict ratings\n",
        "accuracy.rmse(pred_3) # compute RMSE score"
      ],
      "metadata": {
        "colab": {
          "base_uri": "https://localhost:8080/"
        },
        "id": "gSvBnv2O37HN",
        "outputId": "b0be4d19-e16c-4706-910a-50f085b5c422"
      },
      "execution_count": null,
      "outputs": [
        {
          "output_type": "stream",
          "name": "stdout",
          "text": [
            "27613 2989\n",
            "RMSE: 1.0019\n"
          ]
        },
        {
          "output_type": "execute_result",
          "data": {
            "text/plain": [
              "1.0019364081579878"
            ]
          },
          "metadata": {},
          "execution_count": 79
        }
      ]
    },
    {
      "cell_type": "markdown",
      "source": [
        "# **NDCG of recommendation ranking by the predicted ratings from the best model**"
      ],
      "metadata": {
        "id": "fzBavsmy41N_"
      }
    },
    {
      "cell_type": "markdown",
      "source": [
        "\n",
        "NDCG (Normalized Discounted Cumulative Gain), which works well in this case with review ratings of 1 to 5, is chosen over MAP (Mean average precision), which only assumes binary relevance (interesting or not, click or not).\n",
        "\n",
        "DCG(Discounted Cumulative Gain) is calculated as the sum of the gain (relevance score) of item at each position in the ranking list, discounted by their position i.\n",
        "\n",
        "Here, ratings are predicted both for testset with new user and business and for testset with no new users or business ('testset_2') using the best model concluded above.\n",
        "The remmendation ranking is generated for each user in the testset based on the predicted ratings in the descending order, and then NDCG@top10 and NDCG@5 are computed."
      ],
      "metadata": {
        "id": "So8DcukB5COb"
      }
    },
    {
      "cell_type": "code",
      "source": [
        "# function for computing normalized Discounted Cumulative Gain as the ranking metric\n",
        "# inspired by https://gist.github.com/bwhite/3726239\n",
        "\n",
        "def dcg_at_k(r, k):\n",
        "\n",
        "   \n",
        "    r = np.asfarray(r)[:min(len(r),k)]  # convert to float-type numpy array and extract only top-k\n",
        "    if r.size:\n",
        "        return np.sum(r / np.log2(np.arange(2, r.size + 2)))\n",
        "    return None"
      ],
      "metadata": {
        "id": "Wh1PELZM4JYm"
      },
      "execution_count": null,
      "outputs": []
    },
    {
      "cell_type": "code",
      "source": [
        "def ndcg_at_k(r, k):\n",
        "   \n",
        "   \n",
        "    dcg_max = dcg_at_k(sorted(r, reverse=True), k) # compute the maximum achievable DCG based on the perfect ranking\n",
        "    dcg = dcg_at_k(r, k) # compute the actual DCG based on the actual ranking\n",
        "    if dcg_max == None or dcg == None:\n",
        "        return None\n",
        "    return dcg/dcg_max"
      ],
      "metadata": {
        "id": "dyO2duE55YfS"
      },
      "execution_count": null,
      "outputs": []
    },
    {
      "cell_type": "markdown",
      "source": [
        "***1) Testset with the presence of new users and new businesses***"
      ],
      "metadata": {
        "id": "fGl5ICtM5k-C"
      }
    },
    {
      "cell_type": "code",
      "source": [
        "pred_1 = svd_gs_best.test(testing) # predict on testset with new users and businesses\n",
        "\n",
        "rating_predict_1 = pd.DataFrame(index=np.arange(len(pred_1)),columns=['user_id','business_id','stars','rating_predict'])\n",
        "\n",
        "i=0\n",
        "for entry in tqdm(pred_1):\n",
        "    rating_predict_1.iloc[i,:] = entry.uid, entry.iid, entry.r_ui, entry.est\n",
        "    i += 1    \n",
        "assert i == len(pred_1)"
      ],
      "metadata": {
        "colab": {
          "base_uri": "https://localhost:8080/"
        },
        "id": "chNNJeEp5oxB",
        "outputId": "fb4faaa7-c68c-42a8-b82f-4b2d6bf0d2d5"
      },
      "execution_count": null,
      "outputs": [
        {
          "output_type": "stream",
          "name": "stderr",
          "text": [
            "100%|██████████| 27613/27613 [00:03<00:00, 9098.75it/s]\n"
          ]
        }
      ]
    },
    {
      "cell_type": "code",
      "source": [
        "# save the predicted ratings to file\n",
        "with open('rating_predict_collaborative_testset_1.pkl','wb') as f:\n",
        "    pickle.dump(rating_predict_1, f)"
      ],
      "metadata": {
        "id": "4EQXtSnu5zMr"
      },
      "execution_count": null,
      "outputs": []
    },
    {
      "cell_type": "code",
      "source": [
        "%%time\n",
        "# look at a particular user_id as an example\n",
        "\n",
        "user_id = 'SyWv_nCgIoxctfVf6_u2Jw' \n",
        "\n",
        "# rank the 'rating_predict' dataframe by the predicted ratings in descending order\n",
        "rating_predict_1 = rating_predict_1.sort_values('rating_predict', ascending=False)\n",
        "\n",
        "# filter to the user_id of interest only\n",
        "rec = rating_predict_1[rating_predict_1.user_id == user_id].set_index('business_id')[['rating_predict','stars']]\n",
        "print('Ranking by predicted ratings:\\n', rec)\n",
        "ndcg = ndcg_at_k(r=rec.stars.values, k=10) # look at the NDCG score@top10\n",
        "print('\\nNormalized discounted cumulative gain achieved at top-10 based on testset:\\n', ndcg)"
      ],
      "metadata": {
        "colab": {
          "base_uri": "https://localhost:8080/"
        },
        "id": "-HktwLyZ53kh",
        "outputId": "bf60822e-06d0-4222-b4bc-e666cbd308a4"
      },
      "execution_count": null,
      "outputs": [
        {
          "output_type": "stream",
          "name": "stdout",
          "text": [
            "Ranking by predicted ratings:\n",
            "                        rating_predict stars\n",
            "business_id                                \n",
            "jlgi2sLx5i6_t4mcODJW7A        3.24518   3.0\n",
            "\n",
            "Normalized discounted cumulative gain achieved at top-10 based on testset:\n",
            " 1.0\n",
            "CPU times: user 55.2 ms, sys: 54 µs, total: 55.3 ms\n",
            "Wall time: 141 ms\n"
          ]
        }
      ]
    },
    {
      "cell_type": "code",
      "source": [
        "# evaluate NDCG@top10 on the entire testset\n",
        "\n",
        "# only look at NDCG scores for users with at least 10 ratings available in the testset in order to evaluate NDCG@top10\n",
        "rev_count_by_user = rating_predict_1.groupby('user_id').business_id.count()\n",
        "user_id_of_interest = rev_count_by_user[rev_count_by_user >= 10].index\n",
        "\n",
        "# rank the 'rating_predict' dataframe by the predicted ratings in descending order\n",
        "rating_predict_1 = rating_predict_1.sort_values('rating_predict', ascending=False)\n",
        "\n",
        "ndcg_scores_1_10 = []\n",
        "# compute NDCG score for each user in the testset\n",
        "for user_id in tqdm(user_id_of_interest):\n",
        "    \n",
        "    # filter to the user_id of interest only\n",
        "    rec = rating_predict_1[rating_predict_1.user_id == user_id].set_index('business_id')[['rating_predict','stars']]\n",
        "    assert len(rec) >= 10\n",
        "    ndcg = ndcg_at_k(r=rec.stars.values, k=10) # compute NDCG score@top10\n",
        "    ndcg_scores_1_10.append(ndcg)"
      ],
      "metadata": {
        "colab": {
          "base_uri": "https://localhost:8080/"
        },
        "id": "ku0k0oza7J1R",
        "outputId": "a4c7e64c-d09d-49ba-a947-677c0e67632e"
      },
      "execution_count": null,
      "outputs": [
        {
          "output_type": "stream",
          "name": "stderr",
          "text": [
            "100%|██████████| 1/1 [00:00<00:00, 84.73it/s]\n"
          ]
        }
      ]
    },
    {
      "cell_type": "code",
      "source": [
        "# evaluate NDCG@top5 on the entire testset\n",
        "\n",
        "# only look at NDCG scores for users with at least 5 ratings available in the testset in order to evaluate NDCG@top5\n",
        "rev_count_by_user = rating_predict_1.groupby('user_id').business_id.count()\n",
        "user_id_of_interest = rev_count_by_user[rev_count_by_user >= 5].index\n",
        "\n",
        "# rank the 'rating_predict' dataframe by the predicted ratings in descending order\n",
        "rating_predict_1 = rating_predict_1.sort_values('rating_predict', ascending=False)\n",
        "\n",
        "ndcg_scores_1_5 = []\n",
        "# compute NDCG score for each user in the testset\n",
        "for user_id in tqdm(user_id_of_interest):\n",
        "    \n",
        "    # filter to the user_id of interest only\n",
        "    rec = rating_predict_1[rating_predict_1.user_id == user_id].set_index('business_id')[['rating_predict','stars']]\n",
        "    assert len(rec) >= 5\n",
        "    ndcg = ndcg_at_k(r=rec.stars.values, k=5) # compute NDCG score@top5\n",
        "    ndcg_scores_1_5.append(ndcg)"
      ],
      "metadata": {
        "colab": {
          "base_uri": "https://localhost:8080/"
        },
        "id": "LT1Wipes7ROa",
        "outputId": "d5256988-3e10-4b1e-f93f-b15f86393b3f"
      },
      "execution_count": null,
      "outputs": [
        {
          "output_type": "stream",
          "name": "stderr",
          "text": [
            "100%|██████████| 33/33 [00:00<00:00, 135.58it/s]\n"
          ]
        }
      ]
    },
    {
      "cell_type": "markdown",
      "source": [
        " **Testset with no new user or business**"
      ],
      "metadata": {
        "id": "Wdt4lMsh7smz"
      }
    },
    {
      "cell_type": "code",
      "source": [
        "pred_2 = svd_gs_best.test(testing_2) # predict on testset_2 with no new user or business\n",
        "rating_predict_2 = pd.DataFrame(index=np.arange(len(pred_2)),columns=['user_id','business_id','stars','rating_predict'])\n",
        "\n",
        "i=0\n",
        "for entry in tqdm(pred_2):\n",
        "    rating_predict_2.iloc[i,:] = entry.uid, entry.iid, entry.r_ui, entry.est\n",
        "    i += 1    \n",
        "assert i == len(pred_2)"
      ],
      "metadata": {
        "colab": {
          "base_uri": "https://localhost:8080/"
        },
        "id": "GsXZR81a7zum",
        "outputId": "88d8c8fb-9717-4492-bcbc-79a1519143ed"
      },
      "execution_count": null,
      "outputs": [
        {
          "output_type": "stream",
          "name": "stderr",
          "text": [
            "100%|██████████| 11585/11585 [00:00<00:00, 14426.09it/s]\n"
          ]
        }
      ]
    },
    {
      "cell_type": "code",
      "source": [
        "# save the predicted ratings to file\n",
        "with open('rating_predict_collaborative_testset_2.pkl','wb') as f:\n",
        "    pickle.dump(rating_predict_2, f)"
      ],
      "metadata": {
        "id": "Rk6h7n1I8Ern"
      },
      "execution_count": null,
      "outputs": []
    },
    {
      "cell_type": "code",
      "source": [
        "\n",
        "%%time\n",
        "# look at a particular user_id as an example\n",
        "\n",
        "user_id = 'bCla27ma_6i_QFrGkILKrQ' \n",
        "\n",
        "# rank the 'rating_predict' dataframe by the predicted ratings in descending order\n",
        "rating_predict_2 = rating_predict_2.sort_values('rating_predict', ascending=False)\n",
        "\n",
        "# filter to the user_id of interest only\n",
        "rec = rating_predict_2[rating_predict_2.user_id == user_id].set_index('business_id')[['rating_predict','stars']]\n",
        "print('Ranking by predicted ratings:\\n', rec)\n",
        "ndcg = ndcg_at_k(r=rec.stars.values, k=10) # look at the NDCG score@top10\n",
        "print('\\nNormalized discounted cumulative gain achieved at top-10 based on testset:\\n', ndcg)"
      ],
      "metadata": {
        "colab": {
          "base_uri": "https://localhost:8080/"
        },
        "id": "eHJ8un018KGS",
        "outputId": "585c563c-1a45-46f7-c486-7a0cd9ddcd5d"
      },
      "execution_count": null,
      "outputs": [
        {
          "output_type": "stream",
          "name": "stdout",
          "text": [
            "Ranking by predicted ratings:\n",
            "                        rating_predict stars\n",
            "business_id                                \n",
            "sLgnx_WFCjEoPsS6NwU70Q       3.572526   5.0\n",
            "\n",
            "Normalized discounted cumulative gain achieved at top-10 based on testset:\n",
            " 1.0\n",
            "CPU times: user 20.1 ms, sys: 0 ns, total: 20.1 ms\n",
            "Wall time: 19.8 ms\n"
          ]
        }
      ]
    },
    {
      "cell_type": "code",
      "source": [
        "# evaluate NDCG@top10 on the entire testset_2\n",
        "\n",
        "# only look at NDCG scores for users with at least 10 ratings available in the testset_2 in order to evaluate NDCG@top10\n",
        "rev_count_by_user = rating_predict_2.groupby('user_id').business_id.count()\n",
        "user_id_of_interest = rev_count_by_user[rev_count_by_user >= 10].index\n",
        "\n",
        "# rank the 'rating_predict' dataframe by the predicted ratings in descending order\n",
        "rating_predict_2 = rating_predict_2.sort_values('rating_predict', ascending=False)\n",
        "\n",
        "ndcg_scores_2_10 = []\n",
        "# compute NDCG score for each user in the testset\n",
        "for user_id in tqdm(user_id_of_interest):\n",
        "    \n",
        "    # filter to the user_id of interest only\n",
        "    rec = rating_predict_2[rating_predict_2.user_id == user_id].set_index('business_id')[['rating_predict','stars']]\n",
        "    assert len(rec) >= 10\n",
        "    ndcg = ndcg_at_k(r=rec.stars.values, k=10) # compute NDCG score@top10\n",
        "    ndcg_scores_2_10.append(ndcg)"
      ],
      "metadata": {
        "colab": {
          "base_uri": "https://localhost:8080/"
        },
        "id": "XKDrVXKF8f0s",
        "outputId": "1115daac-5f49-4ddf-fc40-bf17627ee016"
      },
      "execution_count": null,
      "outputs": [
        {
          "output_type": "stream",
          "name": "stderr",
          "text": [
            "100%|██████████| 1/1 [00:00<00:00, 81.20it/s]\n"
          ]
        }
      ]
    },
    {
      "cell_type": "code",
      "source": [
        "# evaluate NDCG@top5 on the entire testset_2\n",
        "\n",
        "# only look at NDCG scores for users with at least 5 ratings available in the testset_2 in order to evaluate NDCG@top5\n",
        "rev_count_by_user = rating_predict_2.groupby('user_id').business_id.count()\n",
        "user_id_of_interest = rev_count_by_user[rev_count_by_user >= 5].index\n",
        "\n",
        "# rank the 'rating_predict' dataframe by the predicted ratings in descending order\n",
        "rating_predict_2 = rating_predict_2.sort_values('rating_predict', ascending=False)\n",
        "\n",
        "ndcg_scores_2_5 = []\n",
        "# compute NDCG score for each user in the testset\n",
        "for user_id in tqdm(user_id_of_interest):\n",
        "    \n",
        "    # filter to the user_id of interest only\n",
        "    rec = rating_predict_2[rating_predict_2.user_id == user_id].set_index('business_id')[['rating_predict','stars']]\n",
        "    assert len(rec) >= 5\n",
        "    ndcg = ndcg_at_k(r=rec.stars.values, k=5) # compute NDCG score@top5\n",
        "    ndcg_scores_2_5.append(ndcg)"
      ],
      "metadata": {
        "colab": {
          "base_uri": "https://localhost:8080/"
        },
        "id": "ry227wAN8qBK",
        "outputId": "7f0d8817-18c2-44da-8a55-e24400889fba"
      },
      "execution_count": null,
      "outputs": [
        {
          "output_type": "stream",
          "name": "stderr",
          "text": [
            "100%|██████████| 33/33 [00:00<00:00, 259.34it/s]\n"
          ]
        }
      ]
    },
    {
      "cell_type": "code",
      "source": [
        "# save the computed NDCG scores of the testset to file\n",
        "ndcg_scores = [pd.Series(i) for i in [ndcg_scores_1_10, ndcg_scores_2_10, ndcg_scores_1_5, ndcg_scores_2_5]]\n",
        "ndcg_scores = pd.concat(ndcg_scores, axis=1)\n",
        "ndcg_scores.columns = ['NDCG@10_collaborative_testset_with_new  ','NDCG@10_collaborative_testset_no_new  ',\\\n",
        "                      'NDCG@5_collaborative_testset_with_new  ','NDCG@5_collaborative_testset_no_new  ',]\n",
        "\n",
        "# save the NDCG scores to file\n",
        "with open('ndcg_collaborative_svd.pkl','wb') as f:\n",
        "    pickle.dump(ndcg_scores, f)\n",
        "    \n",
        "ndcg_scores.plot(kind='hist',subplots=True);\n",
        "ndcg_scores.describe()"
      ],
      "metadata": {
        "colab": {
          "base_uri": "https://localhost:8080/",
          "height": 614
        },
        "id": "e9W1Goe78rw0",
        "outputId": "e8a4b4f7-acde-4a01-f522-1a3258ab5355"
      },
      "execution_count": null,
      "outputs": [
        {
          "output_type": "execute_result",
          "data": {
            "text/plain": [
              "       NDCG@10_collaborative_testset_with_new    \\\n",
              "count                                  1.000000   \n",
              "mean                                   0.983121   \n",
              "std                                         NaN   \n",
              "min                                    0.983121   \n",
              "25%                                    0.983121   \n",
              "50%                                    0.983121   \n",
              "75%                                    0.983121   \n",
              "max                                    0.983121   \n",
              "\n",
              "       NDCG@10_collaborative_testset_no_new    \\\n",
              "count                                1.000000   \n",
              "mean                                 0.983121   \n",
              "std                                       NaN   \n",
              "min                                  0.983121   \n",
              "25%                                  0.983121   \n",
              "50%                                  0.983121   \n",
              "75%                                  0.983121   \n",
              "max                                  0.983121   \n",
              "\n",
              "       NDCG@5_collaborative_testset_with_new    \\\n",
              "count                                33.000000   \n",
              "mean                                  0.950821   \n",
              "std                                   0.056044   \n",
              "min                                   0.748894   \n",
              "25%                                   0.944574   \n",
              "50%                                   0.962832   \n",
              "75%                                   0.990247   \n",
              "max                                   1.000000   \n",
              "\n",
              "       NDCG@5_collaborative_testset_no_new    \n",
              "count                              33.000000  \n",
              "mean                                0.950821  \n",
              "std                                 0.056044  \n",
              "min                                 0.748894  \n",
              "25%                                 0.944574  \n",
              "50%                                 0.962832  \n",
              "75%                                 0.990247  \n",
              "max                                 1.000000  "
            ],
            "text/html": [
              "\n",
              "  <div id=\"df-e940f45e-04fc-4ef5-b0cf-6da3fb36b007\">\n",
              "    <div class=\"colab-df-container\">\n",
              "      <div>\n",
              "<style scoped>\n",
              "    .dataframe tbody tr th:only-of-type {\n",
              "        vertical-align: middle;\n",
              "    }\n",
              "\n",
              "    .dataframe tbody tr th {\n",
              "        vertical-align: top;\n",
              "    }\n",
              "\n",
              "    .dataframe thead th {\n",
              "        text-align: right;\n",
              "    }\n",
              "</style>\n",
              "<table border=\"1\" class=\"dataframe\">\n",
              "  <thead>\n",
              "    <tr style=\"text-align: right;\">\n",
              "      <th></th>\n",
              "      <th>NDCG@10_collaborative_testset_with_new</th>\n",
              "      <th>NDCG@10_collaborative_testset_no_new</th>\n",
              "      <th>NDCG@5_collaborative_testset_with_new</th>\n",
              "      <th>NDCG@5_collaborative_testset_no_new</th>\n",
              "    </tr>\n",
              "  </thead>\n",
              "  <tbody>\n",
              "    <tr>\n",
              "      <th>count</th>\n",
              "      <td>1.000000</td>\n",
              "      <td>1.000000</td>\n",
              "      <td>33.000000</td>\n",
              "      <td>33.000000</td>\n",
              "    </tr>\n",
              "    <tr>\n",
              "      <th>mean</th>\n",
              "      <td>0.983121</td>\n",
              "      <td>0.983121</td>\n",
              "      <td>0.950821</td>\n",
              "      <td>0.950821</td>\n",
              "    </tr>\n",
              "    <tr>\n",
              "      <th>std</th>\n",
              "      <td>NaN</td>\n",
              "      <td>NaN</td>\n",
              "      <td>0.056044</td>\n",
              "      <td>0.056044</td>\n",
              "    </tr>\n",
              "    <tr>\n",
              "      <th>min</th>\n",
              "      <td>0.983121</td>\n",
              "      <td>0.983121</td>\n",
              "      <td>0.748894</td>\n",
              "      <td>0.748894</td>\n",
              "    </tr>\n",
              "    <tr>\n",
              "      <th>25%</th>\n",
              "      <td>0.983121</td>\n",
              "      <td>0.983121</td>\n",
              "      <td>0.944574</td>\n",
              "      <td>0.944574</td>\n",
              "    </tr>\n",
              "    <tr>\n",
              "      <th>50%</th>\n",
              "      <td>0.983121</td>\n",
              "      <td>0.983121</td>\n",
              "      <td>0.962832</td>\n",
              "      <td>0.962832</td>\n",
              "    </tr>\n",
              "    <tr>\n",
              "      <th>75%</th>\n",
              "      <td>0.983121</td>\n",
              "      <td>0.983121</td>\n",
              "      <td>0.990247</td>\n",
              "      <td>0.990247</td>\n",
              "    </tr>\n",
              "    <tr>\n",
              "      <th>max</th>\n",
              "      <td>0.983121</td>\n",
              "      <td>0.983121</td>\n",
              "      <td>1.000000</td>\n",
              "      <td>1.000000</td>\n",
              "    </tr>\n",
              "  </tbody>\n",
              "</table>\n",
              "</div>\n",
              "      <button class=\"colab-df-convert\" onclick=\"convertToInteractive('df-e940f45e-04fc-4ef5-b0cf-6da3fb36b007')\"\n",
              "              title=\"Convert this dataframe to an interactive table.\"\n",
              "              style=\"display:none;\">\n",
              "        \n",
              "  <svg xmlns=\"http://www.w3.org/2000/svg\" height=\"24px\"viewBox=\"0 0 24 24\"\n",
              "       width=\"24px\">\n",
              "    <path d=\"M0 0h24v24H0V0z\" fill=\"none\"/>\n",
              "    <path d=\"M18.56 5.44l.94 2.06.94-2.06 2.06-.94-2.06-.94-.94-2.06-.94 2.06-2.06.94zm-11 1L8.5 8.5l.94-2.06 2.06-.94-2.06-.94L8.5 2.5l-.94 2.06-2.06.94zm10 10l.94 2.06.94-2.06 2.06-.94-2.06-.94-.94-2.06-.94 2.06-2.06.94z\"/><path d=\"M17.41 7.96l-1.37-1.37c-.4-.4-.92-.59-1.43-.59-.52 0-1.04.2-1.43.59L10.3 9.45l-7.72 7.72c-.78.78-.78 2.05 0 2.83L4 21.41c.39.39.9.59 1.41.59.51 0 1.02-.2 1.41-.59l7.78-7.78 2.81-2.81c.8-.78.8-2.07 0-2.86zM5.41 20L4 18.59l7.72-7.72 1.47 1.35L5.41 20z\"/>\n",
              "  </svg>\n",
              "      </button>\n",
              "      \n",
              "  <style>\n",
              "    .colab-df-container {\n",
              "      display:flex;\n",
              "      flex-wrap:wrap;\n",
              "      gap: 12px;\n",
              "    }\n",
              "\n",
              "    .colab-df-convert {\n",
              "      background-color: #E8F0FE;\n",
              "      border: none;\n",
              "      border-radius: 50%;\n",
              "      cursor: pointer;\n",
              "      display: none;\n",
              "      fill: #1967D2;\n",
              "      height: 32px;\n",
              "      padding: 0 0 0 0;\n",
              "      width: 32px;\n",
              "    }\n",
              "\n",
              "    .colab-df-convert:hover {\n",
              "      background-color: #E2EBFA;\n",
              "      box-shadow: 0px 1px 2px rgba(60, 64, 67, 0.3), 0px 1px 3px 1px rgba(60, 64, 67, 0.15);\n",
              "      fill: #174EA6;\n",
              "    }\n",
              "\n",
              "    [theme=dark] .colab-df-convert {\n",
              "      background-color: #3B4455;\n",
              "      fill: #D2E3FC;\n",
              "    }\n",
              "\n",
              "    [theme=dark] .colab-df-convert:hover {\n",
              "      background-color: #434B5C;\n",
              "      box-shadow: 0px 1px 3px 1px rgba(0, 0, 0, 0.15);\n",
              "      filter: drop-shadow(0px 1px 2px rgba(0, 0, 0, 0.3));\n",
              "      fill: #FFFFFF;\n",
              "    }\n",
              "  </style>\n",
              "\n",
              "      <script>\n",
              "        const buttonEl =\n",
              "          document.querySelector('#df-e940f45e-04fc-4ef5-b0cf-6da3fb36b007 button.colab-df-convert');\n",
              "        buttonEl.style.display =\n",
              "          google.colab.kernel.accessAllowed ? 'block' : 'none';\n",
              "\n",
              "        async function convertToInteractive(key) {\n",
              "          const element = document.querySelector('#df-e940f45e-04fc-4ef5-b0cf-6da3fb36b007');\n",
              "          const dataTable =\n",
              "            await google.colab.kernel.invokeFunction('convertToInteractive',\n",
              "                                                     [key], {});\n",
              "          if (!dataTable) return;\n",
              "\n",
              "          const docLinkHtml = 'Like what you see? Visit the ' +\n",
              "            '<a target=\"_blank\" href=https://colab.research.google.com/notebooks/data_table.ipynb>data table notebook</a>'\n",
              "            + ' to learn more about interactive tables.';\n",
              "          element.innerHTML = '';\n",
              "          dataTable['output_type'] = 'display_data';\n",
              "          await google.colab.output.renderOutput(dataTable, element);\n",
              "          const docLink = document.createElement('div');\n",
              "          docLink.innerHTML = docLinkHtml;\n",
              "          element.appendChild(docLink);\n",
              "        }\n",
              "      </script>\n",
              "    </div>\n",
              "  </div>\n",
              "  "
            ]
          },
          "metadata": {},
          "execution_count": 98
        },
        {
          "output_type": "display_data",
          "data": {
            "text/plain": [
              "<Figure size 432x288 with 4 Axes>"
            ],
            "image/png": "[encoded data removed]"
          },
          "metadata": {
            "needs_background": "light"
          }
        }
      ]
    },
    {
      "cell_type": "code",
      "source": [
        "# free up temporary variables to save memory\n",
        "idx, trainset, testset, data_train, training, data_test, testing = 0,0,0,0,0,0,0\n",
        "svd, svd_bias, nmf, nmf_bias, pred_svd, pred_svd_bias, pred_nmf, pred_nmf_bias = 0,0,0,0,0,0,0,0\n",
        "user_latent, item_latent, user_bias, item_bias, prediction, comparison = 0,0,0,0,0,0\n",
        "trainset_m, train_map_user, train_map_business, model, W, H, pred = 0,0,0,0,0,0,0\n",
        "svd_gs, svd_gs_best, pred_svd_gs_best, nmf_gs, nmf_gs_best, pred_nmf_gs_best = 0,0,0,0,0,0\n",
        "pred_1, pred_2, pred_3, testset_2, testing_2, testset_3, testing_3, user_rev_cnt, busi_rev_cnt = 0,0,0,0,0,0,0,0,0\n",
        "rating_predict_1, rating_predict_2, rating_predict_3, rec, rev_count_by_user, user_id_of_interest = 0,0,0,0,0,0\n",
        "ndcg_scores_1_10, ndcg_scores_1_5, ndcg_scores_2_10, ndcg_scores_2_5, ndcg_scores = 0,0,0,0,0"
      ],
      "metadata": {
        "id": "lHQTev8w9X29"
      },
      "execution_count": null,
      "outputs": []
    },
    {
      "cell_type": "markdown",
      "source": [
        "# **Implementation of the collaborative recommender module**"
      ],
      "metadata": {
        "id": "zYQaS0hT9qRu"
      }
    },
    {
      "cell_type": "markdown",
      "source": [
        " Re-training on entire dataset"
      ],
      "metadata": {
        "id": "k_USpVG29w7B"
      }
    },
    {
      "cell_type": "code",
      "source": [
        "# load the entire dataset into Surprise\n",
        "data = Dataset.load_from_df(review_r[['user_id','business_id','stars']], reader)\n",
        "# use the optimized SVD algorithm parameters and re-train on the entire dataset\n",
        "svd_bias = SVD(n_factors=10, n_epochs = 50, lr_all=0.005, reg_all=0.05, biased=True) # initiate a SVD algorithm object with the bias terms\n",
        "\n",
        "svd_bias.fit(data.build_full_trainset()) # prepare a trainset object out of the entire dataset to feed to .fit() method\n",
        "pred_svd_bias = svd_bias.test(data.construct_testset(data.raw_ratings)) # prepare a testset object out of the entire dataset to feed to .test() method\n",
        "accuracy.rmse(pred_svd_bias) # compute RMSE score"
      ],
      "metadata": {
        "colab": {
          "base_uri": "https://localhost:8080/"
        },
        "id": "A8EQ4bL69tsb",
        "outputId": "efdc7504-8946-45fc-e0cc-6ad48a4239b0"
      },
      "execution_count": null,
      "outputs": [
        {
          "output_type": "stream",
          "name": "stdout",
          "text": [
            "RMSE: 0.7399\n"
          ]
        },
        {
          "output_type": "execute_result",
          "data": {
            "text/plain": [
              "0.7399310802711048"
            ]
          },
          "metadata": {},
          "execution_count": 100
        }
      ]
    },
    {
      "cell_type": "code",
      "source": [
        "\n",
        "\n",
        "# wrap all useful info from the trained model in a dictionary and pickle to file\n",
        "svd_trained_info = {'user_latent': svd_bias.pu,\n",
        "                    'item_latent': svd_bias.qi,\n",
        "                    'user_bias': svd_bias.bu,\n",
        "                    'item_bias': svd_bias.bi,\n",
        "                    'mean_rating': svd_bias.trainset.global_mean,\n",
        "                    'userid_to_index': svd_bias.trainset._raw2inner_id_users,\n",
        "                    'itemid_to_index': svd_bias.trainset._raw2inner_id_items\n",
        "                   }"
      ],
      "metadata": {
        "id": "GaapQbjQ92Ic"
      },
      "execution_count": null,
      "outputs": []
    },
    {
      "cell_type": "code",
      "source": [
        "# save all necessary information for prediction from the trained svd_bias model\n",
        "with open('svd_trained_info.pkl', 'wb') as f:\n",
        "    pickle.dump(svd_trained_info, f)\n",
        "\n",
        "# save all the information regarding the trained svd_bias model as a backup (this file will be large)\n",
        "with open('svd_bias_model_trained.pkl','wb') as f:\n",
        "    pickle.dump(svd_bias, f)"
      ],
      "metadata": {
        "id": "o8DDcD1G-EzW"
      },
      "execution_count": null,
      "outputs": []
    },
    {
      "cell_type": "code",
      "source": [
        "# free up temporary variables to save memory\n",
        "review_r, data, svd_bias, pred_svd_bias, svd_trained_info = 0,0,0,0,0"
      ],
      "metadata": {
        "id": "pgDeGXB3-Jel"
      },
      "execution_count": null,
      "outputs": []
    },
    {
      "cell_type": "markdown",
      "source": [
        "# Implementation of the collaborative recommender module"
      ],
      "metadata": {
        "id": "oJZBCSR5-SG2"
      }
    },
    {
      "cell_type": "code",
      "source": [
        "business = pd.read_csv('/content/drive/MyDrive/business_final.csv')  \n",
        "review = pd.read_csv('/content/drive/MyDrive/yelp_review_final.csv')"
      ],
      "metadata": {
        "id": "A5uuNZBF-eV1"
      },
      "execution_count": null,
      "outputs": []
    },
    {
      "cell_type": "code",
      "source": [
        "# adding 'adjusted_score' to the 'business' dataset, which adjusts the restaurnat average star ratings by the number of ratings it has\n",
        "globe_mean = ((business.stars * business.review_count).sum())/(business.review_count.sum())\n",
        "k = 22 # set strength k to 22, which is the 50% quantile of the review counts for all businesses\n",
        "business['adjusted_score'] = (business.review_count * business.stars + k * globe_mean)/(business.review_count + k)"
      ],
      "metadata": {
        "id": "D4l_5fnu-jux"
      },
      "execution_count": null,
      "outputs": []
    },
    {
      "cell_type": "code",
      "source": [
        "class Recommender:\n",
        "    \n",
        "    def __init__(self, n=5, original_score=False):\n",
        "        \"\"\"initiate a Recommender object by passing the desired number of recommendations to make, the default number is 10.\n",
        "        By default, the adjusted score will be used for ranking; To rank by the original average rating of the restaurant, pass original_score=True\n",
        "        \"\"\"\n",
        "        self.n = n # number of recommendations to make, default is 5\n",
        "        self.original_score = original_score # boolean indicating whether the original average rating or the adjusted score is used\n",
        "        # initiate a list of column names to display in the recommendation results\n",
        "        self.column_to_display = ['state','city','name','address','attributes.RestaurantsPriceRange2','cuisine','style','review_count','stars','adjusted_score']\n",
        "        \n",
        "        # initiate the list of recommendations to be all the open restaurants from the entire catalog of 'business' dataframe sorted by the score of interest\n",
        "        if self.original_score:  # set sorting criteria to the originial star rating\n",
        "            score = 'stars'\n",
        "        else:  # set sorting criteria to the adjusted score\n",
        "            score = 'adjusted_score'\n",
        "        self.recomm = business[business.is_open == 1].sort_values(score, ascending=False)\n",
        "    \n",
        " \n",
        "\n",
        "\n",
        "           \n",
        "\n",
        "            \n",
        "          \n",
        "          \n",
        "\n",
        "       \n",
        "    def display_recommendation(self):\n",
        "        if self.n < len(self.recomm):\n",
        "            self.recomm = self.recomm.iloc[:self.n]\n",
        "        if len(self.recomm) == 0:\n",
        "            print(\"Sorry, there is no matching recommendations.\")\n",
        "        else:\n",
        "            print(\"The top {} recommended restaurants matching your keywords are\".format(self.n))\n",
        "            print(self.recomm[self.column_to_display])\n",
        "          \n",
        "    # personalized collaborative-based filtering recommender module\n",
        "    def collaborative(self, user_id=None):\n",
        "        \"\"\"Passing of user_id is required if personalized recommendation is desired.\n",
        "        \"\"\"\n",
        "        \n",
        "        self.user_id = user_id # user_id for personalized recommendation using collaborative filtering \n",
        "        if self.user_id is None:\n",
        "            print(\"no user_id is provided!\")\n",
        "            return None\n",
        "        if len(self.user_id) != 22:\n",
        "            print(\"invalid user\")\n",
        "            return None\n",
        "         # initiate every time the module is called\n",
        "        self.recomm = business[business.is_open ==1] # start with all open restaurants from the entire 'business' catalog\n",
        "        if 'predicted_stars' in self.recomm.columns:\n",
        "            self.recomm.drop('predicted_stars', axis=1, inplace=True) # delete the column of 'predicted_stars' if already present\n",
        "        self.column_to_display = ['state','city','name','address','attributes.RestaurantsPriceRange2',\\\n",
        "                                  'cuisine','style','review_count','stars','adjusted_score'] # reset the columns to display\n",
        "        \n",
        "        # load and extract the necessary info fro the trained matrix factorization algorithm\n",
        "        with open('svd_trained_info.pkl', 'rb') as f:\n",
        "            svd_trained_info = pickle.load(f)\n",
        "        user_latent = svd_trained_info['user_latent']\n",
        "        item_latent = svd_trained_info['item_latent']\n",
        "        user_bias = svd_trained_info['user_bias']\n",
        "        item_bias = svd_trained_info['item_bias']\n",
        "        r_mean = svd_trained_info['mean_rating'] # global mean of all ratings\n",
        "        userid_to_idx = svd_trained_info['userid_to_index']\n",
        "        itemid_to_idx = svd_trained_info['itemid_to_index']\n",
        "        \n",
        "               # predict personalized business ratings for the user_id of interest\n",
        "        if self.user_id in userid_to_idx:\n",
        "            u_idx = userid_to_idx[self.user_id]\n",
        "            pred = r_mean + user_bias[u_idx] + item_bias + np.dot(user_latent[u_idx,:],item_latent.T)\n",
        "        else: \n",
        "            print(\"sorry, no personal data available for this user_id yet!\")\n",
        "            print(\"Here is the generic recommendation computed from all the users in our database:\")\n",
        "            pred = r_mean + item_bias\n",
        "        \n",
        "        # pairing the predicted ratings with the business_id by matching the corresponding matrix indices of the business_id\n",
        "        prediction = pd.DataFrame(data=pred, index=itemid_to_idx.values(), columns=['predicted_stars']) \n",
        "        prediction.index.name = 'matrix_item_indice'\n",
        "        assert len(prediction) == len(pred)\n",
        "        prediction['business_id'] = list(itemid_to_idx.keys())\n",
        "        \n",
        "        # filter to unrated business_id only by the user_id of interest if a personal history is available\n",
        "        if self.user_id in userid_to_idx:       \n",
        "            busi_rated = review[review.user_id == self.user_id].business_id.unique()\n",
        "            prediction = prediction[~prediction.business_id.isin(busi_rated)]\n",
        "        \n",
        "        # inner-join the prediction dataframe with the recommendation catalog on 'business_id' to retrieve all relevant business informations\n",
        "        # note: the .merge step needs to be performed prior to extracting the top n\n",
        "        # because many of the 'business_id' in the review dataframe are not restaurant-related, therefore not present in the 'business' catalog\n",
        "        # this merge will filter out the non restaurant-related businesses\n",
        "        self.recomm = self.recomm.merge(prediction, on='business_id', how='inner') \n",
        "        \n",
        "        # sort the prediction by the predicted ratings in descending order\n",
        "        self.recomm = self.recomm.sort_values('predicted_stars', ascending=False).reset_index(drop=True)\n",
        "        \n",
        "        # add 'predicted_stars' to the list of columns to display\n",
        "        self.column_to_display.insert(0, 'predicted_stars') \n",
        "        \n",
        "        # display the list of top n recommendations\n",
        "        self.display_recommendation()\n",
        "        \n",
        "        return self.recomm"
      ],
      "metadata": {
        "id": "DykevGOW-yL9"
      },
      "execution_count": null,
      "outputs": []
    },
    {
      "cell_type": "markdown",
      "source": [
        "***TESTING***"
      ],
      "metadata": {
        "id": "azzmBET7Aj41"
      }
    },
    {
      "cell_type": "code",
      "source": [
        "# initiate a Recommender object\n",
        "kw = Recommender(n=10)\n",
        "\n",
        "# test0: display only (same as no keywords)\n",
        "print(\"------\\nresult from test0 (display only): \")\n",
        "kw.display_recommendation()\n",
        "\n",
        "# test1: no user id input\n",
        "print(\"------\\nresult from test1 (no user id input): \")\n",
        "kw.collaborative();\n",
        "\n",
        "# test 2: invalid user id input\n",
        "print(\"------\\nresult from test2 (invalid user id input): \")\n",
        "kw.collaborative(user_id='928402');"
      ],
      "metadata": {
        "colab": {
          "base_uri": "https://localhost:8080/"
        },
        "id": "a82sD138Ael0",
        "outputId": "80d3b2d7-d8b1-4f6d-d9ac-4c7d1bff601a"
      },
      "execution_count": null,
      "outputs": [
        {
          "output_type": "stream",
          "name": "stdout",
          "text": [
            "------\n",
            "result from test0 (display only): \n",
            "The top 10 recommended restaurants matching your keywords are\n",
            "       state            city                                name  \\\n",
            "12307     MO     Saint Louis                     Blues City Deli   \n",
            "134154    NV          Sparks                    Carlillos Cocina   \n",
            "25015     LA     New Orleans                  Free Tours By Foot   \n",
            "16555     AZ          Tucson                            Tumerico   \n",
            "70650     TN        Franklin                                Yats   \n",
            "119671    TN       Nashville     Nelson's Green Brier Distillery   \n",
            "125597    NV            Reno             Smiling With Hope Pizza   \n",
            "144833    FL   St Pete Beach  Barracuda Deli Cafe St. Pete Beach   \n",
            "104287    PA    Philadelphia                   SUGARED + BRONZED   \n",
            "7930      FL  St. Pete Beach                         Cafe Soleil   \n",
            "\n",
            "                                         address  \\\n",
            "12307                            2438 McNair Ave   \n",
            "134154                           415 S Rock Blvd   \n",
            "25015                             2613 Laurel St   \n",
            "16555                              2526 E 6th St   \n",
            "70650                   2000 Mallory Ln, Ste 615   \n",
            "119671                           1414 Clinton St   \n",
            "125597  6135 Lakeside Dr, Ste 101, Bartley Ranch   \n",
            "144833                            6640 Gulf Blvd   \n",
            "104287                            1120 Walnut St   \n",
            "7930                              4695 Gulf Blvd   \n",
            "\n",
            "       attributes.RestaurantsPriceRange2  \\\n",
            "12307                                  1   \n",
            "134154                                 2   \n",
            "25015                                NaN   \n",
            "16555                                  2   \n",
            "70650                                  1   \n",
            "119671                                 2   \n",
            "125597                                 2   \n",
            "144833                                 1   \n",
            "104287                                 2   \n",
            "7930                                   1   \n",
            "\n",
            "                                           cuisine  \\\n",
            "12307           american (traditional), sandwiches   \n",
            "134154                                     mexican   \n",
            "25015                                          NaN   \n",
            "16555      mexican, gluten-free, vegetarian, vegan   \n",
            "70650                                          NaN   \n",
            "119671                                         NaN   \n",
            "125597                       italian, salad, pizza   \n",
            "144833                  latin american, sandwiches   \n",
            "104287                                         NaN   \n",
            "7930    french, coffee & tea, bakeries, sandwiches   \n",
            "\n",
            "                                                   style  review_count  stars  \\\n",
            "12307          delis, bars, restaurants, nightlife, pubs           991    5.0   \n",
            "134154  bars, breakfast & brunch, restaurants, nightlife           799    5.0   \n",
            "25015                                                NaN           769    5.0   \n",
            "16555                                        restaurants           705    5.0   \n",
            "70650                              restaurants, caterers           623    5.0   \n",
            "119671                                               NaN           545    5.0   \n",
            "125597                                       restaurants           526    5.0   \n",
            "144833                   restaurants, breakfast & brunch           521    5.0   \n",
            "104287                                               NaN           513    5.0   \n",
            "7930              restaurants, breakfast & brunch, cafes           468    5.0   \n",
            "\n",
            "        adjusted_score  \n",
            "12307         4.972945  \n",
            "134154        4.966617  \n",
            "25015         4.965351  \n",
            "16555         4.962301  \n",
            "70650         4.957508  \n",
            "119671        4.951663  \n",
            "125597        4.949987  \n",
            "144833        4.949527  \n",
            "104287        4.948772  \n",
            "7930          4.944067  \n",
            "------\n",
            "result from test1 (no user id input): \n",
            "no user_id is provided!\n",
            "------\n",
            "result from test2 (invalid user id input): \n",
            "invalid user\n"
          ]
        }
      ]
    },
    {
      "cell_type": "code",
      "source": [
        "# test 3: valid user id (no user data)\n",
        "print(\"------\\nresult from test3 (valid user id --- no user review data): \")\n",
        "kw.collaborative(user_id='-NzChtoNOw706kps82x0Kg');"
      ],
      "metadata": {
        "colab": {
          "base_uri": "https://localhost:8080/"
        },
        "id": "f2k9EkIzBhca",
        "outputId": "13f7ca90-9213-4d0a-de37-d3ad0a8bc777"
      },
      "execution_count": null,
      "outputs": [
        {
          "output_type": "stream",
          "name": "stdout",
          "text": [
            "------\n",
            "result from test3 (valid user id --- no user review data): \n",
            "sorry, no personal data available for this user_id yet!\n",
            "Here is the generic recommendation computed from all the users in our database:\n",
            "The top 10 recommended restaurants matching your keywords are\n",
            "   predicted_stars state           city  \\\n",
            "0         4.885155    AZ         Tucson   \n",
            "1         4.871124    LA       Metairie   \n",
            "2         4.870727    FL          Tampa   \n",
            "3         4.841727    PA   Philadelphia   \n",
            "4         4.833850    PA       Westtown   \n",
            "5         4.828701    CA  Santa Barbara   \n",
            "6         4.826896    ID          Boise   \n",
            "7         4.821003    FL          Largo   \n",
            "8         4.819236    CA    Carpinteria   \n",
            "9         4.797025    PA   Philadelphia   \n",
            "\n",
            "                                     name                   address  \\\n",
            "0                    August Rhodes Bakery       3073 N Campbell Ave   \n",
            "1                     Nephew's Ristorante       4445 W Metairie Ave   \n",
            "2                         Chicago Paulies         1301 N Howard Ave   \n",
            "3  Mom Mom's Kitchen and Polish Food Cart             1505 South St   \n",
            "4                    Westtown Meat Market  1030 Old Wilmington Pike   \n",
            "5        University Club of Santa Barbara     1332 Santa Barbara St   \n",
            "6                                Petite 4              4 N Latah St   \n",
            "7                       Suzi's Restaurant             1555 E Bay Dr   \n",
            "8                        Events By Rincon       3805 Santa Claus Ln   \n",
            "9             Otolith Sustainable Seafood        2133 Huntingdon St   \n",
            "\n",
            "  attributes.RestaurantsPriceRange2  \\\n",
            "0                                 2   \n",
            "1                                 2   \n",
            "2                                 1   \n",
            "3                                 1   \n",
            "4                                 2   \n",
            "5                               NaN   \n",
            "6                                 3   \n",
            "7                               NaN   \n",
            "8                               NaN   \n",
            "9                                 2   \n",
            "\n",
            "                                     cuisine  \\\n",
            "0       sandwiches, bakeries, american (new)   \n",
            "1                                    italian   \n",
            "2  hot dogs, vegetarian, burgers, sandwiches   \n",
            "3                                        NaN   \n",
            "4                             specialty food   \n",
            "5                             specialty food   \n",
            "6               french, beer, wine & spirits   \n",
            "7                      american (new), greek   \n",
            "8                     american (traditional)   \n",
            "9                    specialty food, seafood   \n",
            "\n",
            "                                               style  review_count  stars  \\\n",
            "0                              restaurants, caterers            89    4.5   \n",
            "1                                        restaurants            45    3.5   \n",
            "2                           restaurants, food stands           186    5.0   \n",
            "3           food trucks, street vendors, restaurants            91    5.0   \n",
            "4                                 restaurants, delis            30    5.0   \n",
            "5                                        restaurants            76    5.0   \n",
            "6                                        restaurants           121    4.5   \n",
            "7            breakfast & brunch, diners, restaurants            35    4.5   \n",
            "8  restaurants, food delivery services, caterers,...           109    4.5   \n",
            "9                                        restaurants            10    5.0   \n",
            "\n",
            "   adjusted_score  \n",
            "0        4.352189  \n",
            "1        3.583477  \n",
            "2        4.868235  \n",
            "3        4.757460  \n",
            "4        4.472942  \n",
            "5        4.720336  \n",
            "6        4.385265  \n",
            "7        4.212157  \n",
            "8        4.374755  \n",
            "9        4.143530  \n"
          ]
        }
      ]
    },
    {
      "cell_type": "code",
      "source": [
        "\n",
        "%%time\n",
        "\n",
        "# test 4: valid user id (user has only one review)\n",
        "print(\"------\\nresult from test4 (valid user id --- user has only one review): \")\n",
        "kw.collaborative(user_id='---89pEy_h9PvHwcHNbpyg');"
      ],
      "metadata": {
        "colab": {
          "base_uri": "https://localhost:8080/",
          "height": 1000
        },
        "id": "kMT5oyUXBk5R",
        "outputId": "e8b29c67-4f0a-4be9-a0c5-89a5007f4ab1"
      },
      "execution_count": null,
      "outputs": [
        {
          "output_type": "stream",
          "name": "stdout",
          "text": [
            "------\n",
            "result from test4 (valid user id --- user has only one review): \n",
            "sorry, no personal data available for this user_id yet!\n",
            "Here is the generic recommendation computed from all the users in our database:\n",
            "The top 10 recommended restaurants matching your keywords are\n",
            "   predicted_stars state           city  \\\n",
            "0         4.885155    AZ         Tucson   \n",
            "1         4.871124    LA       Metairie   \n",
            "2         4.870727    FL          Tampa   \n",
            "3         4.841727    PA   Philadelphia   \n",
            "4         4.833850    PA       Westtown   \n",
            "5         4.828701    CA  Santa Barbara   \n",
            "6         4.826896    ID          Boise   \n",
            "7         4.821003    FL          Largo   \n",
            "8         4.819236    CA    Carpinteria   \n",
            "9         4.797025    PA   Philadelphia   \n",
            "\n",
            "                                     name                   address  \\\n",
            "0                    August Rhodes Bakery       3073 N Campbell Ave   \n",
            "1                     Nephew's Ristorante       4445 W Metairie Ave   \n",
            "2                         Chicago Paulies         1301 N Howard Ave   \n",
            "3  Mom Mom's Kitchen and Polish Food Cart             1505 South St   \n",
            "4                    Westtown Meat Market  1030 Old Wilmington Pike   \n",
            "5        University Club of Santa Barbara     1332 Santa Barbara St   \n",
            "6                                Petite 4              4 N Latah St   \n",
            "7                       Suzi's Restaurant             1555 E Bay Dr   \n",
            "8                        Events By Rincon       3805 Santa Claus Ln   \n",
            "9             Otolith Sustainable Seafood        2133 Huntingdon St   \n",
            "\n",
            "  attributes.RestaurantsPriceRange2  \\\n",
            "0                                 2   \n",
            "1                                 2   \n",
            "2                                 1   \n",
            "3                                 1   \n",
            "4                                 2   \n",
            "5                               NaN   \n",
            "6                                 3   \n",
            "7                               NaN   \n",
            "8                               NaN   \n",
            "9                                 2   \n",
            "\n",
            "                                     cuisine  \\\n",
            "0       sandwiches, bakeries, american (new)   \n",
            "1                                    italian   \n",
            "2  hot dogs, vegetarian, burgers, sandwiches   \n",
            "3                                        NaN   \n",
            "4                             specialty food   \n",
            "5                             specialty food   \n",
            "6               french, beer, wine & spirits   \n",
            "7                      american (new), greek   \n",
            "8                     american (traditional)   \n",
            "9                    specialty food, seafood   \n",
            "\n",
            "                                               style  review_count  stars  \\\n",
            "0                              restaurants, caterers            89    4.5   \n",
            "1                                        restaurants            45    3.5   \n",
            "2                           restaurants, food stands           186    5.0   \n",
            "3           food trucks, street vendors, restaurants            91    5.0   \n",
            "4                                 restaurants, delis            30    5.0   \n",
            "5                                        restaurants            76    5.0   \n",
            "6                                        restaurants           121    4.5   \n",
            "7            breakfast & brunch, diners, restaurants            35    4.5   \n",
            "8  restaurants, food delivery services, caterers,...           109    4.5   \n",
            "9                                        restaurants            10    5.0   \n",
            "\n",
            "   adjusted_score  \n",
            "0        4.352189  \n",
            "1        3.583477  \n",
            "2        4.868235  \n",
            "3        4.757460  \n",
            "4        4.472942  \n",
            "5        4.720336  \n",
            "6        4.385265  \n",
            "7        4.212157  \n",
            "8        4.374755  \n",
            "9        4.143530  \n",
            "CPU times: user 345 ms, sys: 14.9 ms, total: 360 ms\n",
            "Wall time: 766 ms\n"
          ]
        },
        {
          "output_type": "execute_result",
          "data": {
            "text/plain": [
              "  hours.Saturday attributes.BusinessAcceptsCreditCards hours.Monday  \\\n",
              "0       9:0-12:0                                  True      0:0-0:0   \n",
              "1     17:30-22:0                                  True          NaN   \n",
              "2      11:0-14:0                                  True      0:0-0:0   \n",
              "3      11:0-22:0                                  True      0:0-0:0   \n",
              "4       9:0-17:0                                  True          NaN   \n",
              "5            NaN                                  True    9:0-17:30   \n",
              "6      17:0-22:0                                  True          NaN   \n",
              "7       6:0-14:0                                  True          NaN   \n",
              "8       9:0-17:0                                 False      0:0-0:0   \n",
              "9      15:0-18:0                                  True          NaN   \n",
              "\n",
              "              business_id  stars attributes.BestNights  \\\n",
              "0  oQYZ3j2H758y07p4RpCWug    4.5                   NaN   \n",
              "1  NOiW9rx0kwYLCv_YNX20Bg    3.5                   NaN   \n",
              "2  LjgiE_EbpBdIz4JyVUioTQ    5.0                   NaN   \n",
              "3  RVLF2RaStLkJiQCqBHknDw    5.0                   NaN   \n",
              "4  fbkljMIXlS0AJjReKfCrcg    5.0                   NaN   \n",
              "5  k3lTRgvPvYUI-cX7_TAqNA    5.0                   NaN   \n",
              "6  rqaIe-61HKlWaGYmVwlw8Q    4.5                   NaN   \n",
              "7  6O6W8hHIMs-xJWT6yfh5qw    4.5                   NaN   \n",
              "8  DD3TxygdxBxKh9gbjCuLDA    4.5                   NaN   \n",
              "9  bFO_XYnYMDF1GMY9LK3oxQ    5.0                   NaN   \n",
              "\n",
              "                    address  \\\n",
              "0       3073 N Campbell Ave   \n",
              "1       4445 W Metairie Ave   \n",
              "2         1301 N Howard Ave   \n",
              "3             1505 South St   \n",
              "4  1030 Old Wilmington Pike   \n",
              "5     1332 Santa Barbara St   \n",
              "6              4 N Latah St   \n",
              "7             1555 E Bay Dr   \n",
              "8       3805 Santa Claus Ln   \n",
              "9        2133 Huntingdon St   \n",
              "\n",
              "                                          attributes attributes.HasTV  \\\n",
              "0  {'HasTV': 'False', 'WiFi': \"u'free'\", 'Ambienc...            False   \n",
              "1  {'Alcohol': \"'full_bar'\", 'BusinessParking': \"...             True   \n",
              "2  {'HasTV': 'False', 'RestaurantsAttire': \"'casu...            False   \n",
              "3  {'Caters': 'True', 'RestaurantsGoodForGroups':...            False   \n",
              "4  {'RestaurantsPriceRange2': '2', 'BusinessAccep...              NaN   \n",
              "5  {'BusinessParking': \"{'garage': False, 'street...              NaN   \n",
              "6  {'WiFi': \"'no'\", 'RestaurantsPriceRange2': '3'...             True   \n",
              "7  {'DriveThru': 'False', 'Corkage': 'False', 'Bu...             True   \n",
              "8  {'WheelchairAccessible': 'True', 'BusinessAcce...            False   \n",
              "9  {'Alcohol': \"u'none'\", 'RestaurantsReservation...              NaN   \n",
              "\n",
              "  attributes.RestaurantsAttire  ... attributes.RestaurantsCounterService  \\\n",
              "0                          NaN  ...                                  NaN   \n",
              "1                     'dressy'  ...                                  NaN   \n",
              "2                     'casual'  ...                                  NaN   \n",
              "3                    u'casual'  ...                                  NaN   \n",
              "4                          NaN  ...                                  NaN   \n",
              "5                          NaN  ...                                  NaN   \n",
              "6                          NaN  ...                                  NaN   \n",
              "7                          NaN  ...                                  NaN   \n",
              "8                          NaN  ...                                  NaN   \n",
              "9                    u'casual'  ...                                  NaN   \n",
              "\n",
              "  attributes.RestaurantsReservations attributes.RestaurantsTableService  \\\n",
              "0                              False                               True   \n",
              "1                               True                               True   \n",
              "2                              False                              False   \n",
              "3                               True                               True   \n",
              "4                                NaN                                NaN   \n",
              "5                                NaN                                NaN   \n",
              "6                               True                                NaN   \n",
              "7                               True                               True   \n",
              "8                               True                               True   \n",
              "9                               True                                NaN   \n",
              "\n",
              "  attributes.AgesAllowed  attributes.Open24Hours  \\\n",
              "0                    NaN                     NaN   \n",
              "1                    NaN                     NaN   \n",
              "2                    NaN                     NaN   \n",
              "3                    NaN                     NaN   \n",
              "4                    NaN                     NaN   \n",
              "5                    NaN                     NaN   \n",
              "6                    NaN                     NaN   \n",
              "7                    NaN                     NaN   \n",
              "8                    NaN                     NaN   \n",
              "9                    NaN                     NaN   \n",
              "\n",
              "                                     name  \\\n",
              "0                    August Rhodes Bakery   \n",
              "1                     Nephew's Ristorante   \n",
              "2                         Chicago Paulies   \n",
              "3  Mom Mom's Kitchen and Polish Food Cart   \n",
              "4                    Westtown Meat Market   \n",
              "5        University Club of Santa Barbara   \n",
              "6                                Petite 4   \n",
              "7                       Suzi's Restaurant   \n",
              "8                        Events By Rincon   \n",
              "9             Otolith Sustainable Seafood   \n",
              "\n",
              "                                     cuisine  \\\n",
              "0       sandwiches, bakeries, american (new)   \n",
              "1                                    italian   \n",
              "2  hot dogs, vegetarian, burgers, sandwiches   \n",
              "3                                        NaN   \n",
              "4                             specialty food   \n",
              "5                             specialty food   \n",
              "6               french, beer, wine & spirits   \n",
              "7                      american (new), greek   \n",
              "8                     american (traditional)   \n",
              "9                    specialty food, seafood   \n",
              "\n",
              "                                               style adjusted_score  \\\n",
              "0                              restaurants, caterers       4.352189   \n",
              "1                                        restaurants       3.583477   \n",
              "2                           restaurants, food stands       4.868235   \n",
              "3           food trucks, street vendors, restaurants       4.757460   \n",
              "4                                 restaurants, delis       4.472942   \n",
              "5                                        restaurants       4.720336   \n",
              "6                                        restaurants       4.385265   \n",
              "7            breakfast & brunch, diners, restaurants       4.212157   \n",
              "8  restaurants, food delivery services, caterers,...       4.374755   \n",
              "9                                        restaurants       4.143530   \n",
              "\n",
              "  predicted_stars  \n",
              "0        4.885155  \n",
              "1        4.871124  \n",
              "2        4.870727  \n",
              "3        4.841727  \n",
              "4        4.833850  \n",
              "5        4.828701  \n",
              "6        4.826896  \n",
              "7        4.821003  \n",
              "8        4.819236  \n",
              "9        4.797025  \n",
              "\n",
              "[10 rows x 64 columns]"
            ],
            "text/html": [
              "\n",
              "  <div id=\"df-6bb565bf-b2ca-428c-b930-79371761fb8c\">\n",
              "    <div class=\"colab-df-container\">\n",
              "      <div>\n",
              "<style scoped>\n",
              "    .dataframe tbody tr th:only-of-type {\n",
              "        vertical-align: middle;\n",
              "    }\n",
              "\n",
              "    .dataframe tbody tr th {\n",
              "        vertical-align: top;\n",
              "    }\n",
              "\n",
              "    .dataframe thead th {\n",
              "        text-align: right;\n",
              "    }\n",
              "</style>\n",
              "<table border=\"1\" class=\"dataframe\">\n",
              "  <thead>\n",
              "    <tr style=\"text-align: right;\">\n",
              "      <th></th>\n",
              "      <th>hours.Saturday</th>\n",
              "      <th>attributes.BusinessAcceptsCreditCards</th>\n",
              "      <th>hours.Monday</th>\n",
              "      <th>business_id</th>\n",
              "      <th>stars</th>\n",
              "      <th>attributes.BestNights</th>\n",
              "      <th>address</th>\n",
              "      <th>attributes</th>\n",
              "      <th>attributes.HasTV</th>\n",
              "      <th>attributes.RestaurantsAttire</th>\n",
              "      <th>...</th>\n",
              "      <th>attributes.RestaurantsCounterService</th>\n",
              "      <th>attributes.RestaurantsReservations</th>\n",
              "      <th>attributes.RestaurantsTableService</th>\n",
              "      <th>attributes.AgesAllowed</th>\n",
              "      <th>attributes.Open24Hours</th>\n",
              "      <th>name</th>\n",
              "      <th>cuisine</th>\n",
              "      <th>style</th>\n",
              "      <th>adjusted_score</th>\n",
              "      <th>predicted_stars</th>\n",
              "    </tr>\n",
              "  </thead>\n",
              "  <tbody>\n",
              "    <tr>\n",
              "      <th>0</th>\n",
              "      <td>9:0-12:0</td>\n",
              "      <td>True</td>\n",
              "      <td>0:0-0:0</td>\n",
              "      <td>oQYZ3j2H758y07p4RpCWug</td>\n",
              "      <td>4.5</td>\n",
              "      <td>NaN</td>\n",
              "      <td>3073 N Campbell Ave</td>\n",
              "      <td>{'HasTV': 'False', 'WiFi': \"u'free'\", 'Ambienc...</td>\n",
              "      <td>False</td>\n",
              "      <td>NaN</td>\n",
              "      <td>...</td>\n",
              "      <td>NaN</td>\n",
              "      <td>False</td>\n",
              "      <td>True</td>\n",
              "      <td>NaN</td>\n",
              "      <td>NaN</td>\n",
              "      <td>August Rhodes Bakery</td>\n",
              "      <td>sandwiches, bakeries, american (new)</td>\n",
              "      <td>restaurants, caterers</td>\n",
              "      <td>4.352189</td>\n",
              "      <td>4.885155</td>\n",
              "    </tr>\n",
              "    <tr>\n",
              "      <th>1</th>\n",
              "      <td>17:30-22:0</td>\n",
              "      <td>True</td>\n",
              "      <td>NaN</td>\n",
              "      <td>NOiW9rx0kwYLCv_YNX20Bg</td>\n",
              "      <td>3.5</td>\n",
              "      <td>NaN</td>\n",
              "      <td>4445 W Metairie Ave</td>\n",
              "      <td>{'Alcohol': \"'full_bar'\", 'BusinessParking': \"...</td>\n",
              "      <td>True</td>\n",
              "      <td>'dressy'</td>\n",
              "      <td>...</td>\n",
              "      <td>NaN</td>\n",
              "      <td>True</td>\n",
              "      <td>True</td>\n",
              "      <td>NaN</td>\n",
              "      <td>NaN</td>\n",
              "      <td>Nephew's Ristorante</td>\n",
              "      <td>italian</td>\n",
              "      <td>restaurants</td>\n",
              "      <td>3.583477</td>\n",
              "      <td>4.871124</td>\n",
              "    </tr>\n",
              "    <tr>\n",
              "      <th>2</th>\n",
              "      <td>11:0-14:0</td>\n",
              "      <td>True</td>\n",
              "      <td>0:0-0:0</td>\n",
              "      <td>LjgiE_EbpBdIz4JyVUioTQ</td>\n",
              "      <td>5.0</td>\n",
              "      <td>NaN</td>\n",
              "      <td>1301 N Howard Ave</td>\n",
              "      <td>{'HasTV': 'False', 'RestaurantsAttire': \"'casu...</td>\n",
              "      <td>False</td>\n",
              "      <td>'casual'</td>\n",
              "      <td>...</td>\n",
              "      <td>NaN</td>\n",
              "      <td>False</td>\n",
              "      <td>False</td>\n",
              "      <td>NaN</td>\n",
              "      <td>NaN</td>\n",
              "      <td>Chicago Paulies</td>\n",
              "      <td>hot dogs, vegetarian, burgers, sandwiches</td>\n",
              "      <td>restaurants, food stands</td>\n",
              "      <td>4.868235</td>\n",
              "      <td>4.870727</td>\n",
              "    </tr>\n",
              "    <tr>\n",
              "      <th>3</th>\n",
              "      <td>11:0-22:0</td>\n",
              "      <td>True</td>\n",
              "      <td>0:0-0:0</td>\n",
              "      <td>RVLF2RaStLkJiQCqBHknDw</td>\n",
              "      <td>5.0</td>\n",
              "      <td>NaN</td>\n",
              "      <td>1505 South St</td>\n",
              "      <td>{'Caters': 'True', 'RestaurantsGoodForGroups':...</td>\n",
              "      <td>False</td>\n",
              "      <td>u'casual'</td>\n",
              "      <td>...</td>\n",
              "      <td>NaN</td>\n",
              "      <td>True</td>\n",
              "      <td>True</td>\n",
              "      <td>NaN</td>\n",
              "      <td>NaN</td>\n",
              "      <td>Mom Mom's Kitchen and Polish Food Cart</td>\n",
              "      <td>NaN</td>\n",
              "      <td>food trucks, street vendors, restaurants</td>\n",
              "      <td>4.757460</td>\n",
              "      <td>4.841727</td>\n",
              "    </tr>\n",
              "    <tr>\n",
              "      <th>4</th>\n",
              "      <td>9:0-17:0</td>\n",
              "      <td>True</td>\n",
              "      <td>NaN</td>\n",
              "      <td>fbkljMIXlS0AJjReKfCrcg</td>\n",
              "      <td>5.0</td>\n",
              "      <td>NaN</td>\n",
              "      <td>1030 Old Wilmington Pike</td>\n",
              "      <td>{'RestaurantsPriceRange2': '2', 'BusinessAccep...</td>\n",
              "      <td>NaN</td>\n",
              "      <td>NaN</td>\n",
              "      <td>...</td>\n",
              "      <td>NaN</td>\n",
              "      <td>NaN</td>\n",
              "      <td>NaN</td>\n",
              "      <td>NaN</td>\n",
              "      <td>NaN</td>\n",
              "      <td>Westtown Meat Market</td>\n",
              "      <td>specialty food</td>\n",
              "      <td>restaurants, delis</td>\n",
              "      <td>4.472942</td>\n",
              "      <td>4.833850</td>\n",
              "    </tr>\n",
              "    <tr>\n",
              "      <th>5</th>\n",
              "      <td>NaN</td>\n",
              "      <td>True</td>\n",
              "      <td>9:0-17:30</td>\n",
              "      <td>k3lTRgvPvYUI-cX7_TAqNA</td>\n",
              "      <td>5.0</td>\n",
              "      <td>NaN</td>\n",
              "      <td>1332 Santa Barbara St</td>\n",
              "      <td>{'BusinessParking': \"{'garage': False, 'street...</td>\n",
              "      <td>NaN</td>\n",
              "      <td>NaN</td>\n",
              "      <td>...</td>\n",
              "      <td>NaN</td>\n",
              "      <td>NaN</td>\n",
              "      <td>NaN</td>\n",
              "      <td>NaN</td>\n",
              "      <td>NaN</td>\n",
              "      <td>University Club of Santa Barbara</td>\n",
              "      <td>specialty food</td>\n",
              "      <td>restaurants</td>\n",
              "      <td>4.720336</td>\n",
              "      <td>4.828701</td>\n",
              "    </tr>\n",
              "    <tr>\n",
              "      <th>6</th>\n",
              "      <td>17:0-22:0</td>\n",
              "      <td>True</td>\n",
              "      <td>NaN</td>\n",
              "      <td>rqaIe-61HKlWaGYmVwlw8Q</td>\n",
              "      <td>4.5</td>\n",
              "      <td>NaN</td>\n",
              "      <td>4 N Latah St</td>\n",
              "      <td>{'WiFi': \"'no'\", 'RestaurantsPriceRange2': '3'...</td>\n",
              "      <td>True</td>\n",
              "      <td>NaN</td>\n",
              "      <td>...</td>\n",
              "      <td>NaN</td>\n",
              "      <td>True</td>\n",
              "      <td>NaN</td>\n",
              "      <td>NaN</td>\n",
              "      <td>NaN</td>\n",
              "      <td>Petite 4</td>\n",
              "      <td>french, beer, wine &amp; spirits</td>\n",
              "      <td>restaurants</td>\n",
              "      <td>4.385265</td>\n",
              "      <td>4.826896</td>\n",
              "    </tr>\n",
              "    <tr>\n",
              "      <th>7</th>\n",
              "      <td>6:0-14:0</td>\n",
              "      <td>True</td>\n",
              "      <td>NaN</td>\n",
              "      <td>6O6W8hHIMs-xJWT6yfh5qw</td>\n",
              "      <td>4.5</td>\n",
              "      <td>NaN</td>\n",
              "      <td>1555 E Bay Dr</td>\n",
              "      <td>{'DriveThru': 'False', 'Corkage': 'False', 'Bu...</td>\n",
              "      <td>True</td>\n",
              "      <td>NaN</td>\n",
              "      <td>...</td>\n",
              "      <td>NaN</td>\n",
              "      <td>True</td>\n",
              "      <td>True</td>\n",
              "      <td>NaN</td>\n",
              "      <td>NaN</td>\n",
              "      <td>Suzi's Restaurant</td>\n",
              "      <td>american (new), greek</td>\n",
              "      <td>breakfast &amp; brunch, diners, restaurants</td>\n",
              "      <td>4.212157</td>\n",
              "      <td>4.821003</td>\n",
              "    </tr>\n",
              "    <tr>\n",
              "      <th>8</th>\n",
              "      <td>9:0-17:0</td>\n",
              "      <td>False</td>\n",
              "      <td>0:0-0:0</td>\n",
              "      <td>DD3TxygdxBxKh9gbjCuLDA</td>\n",
              "      <td>4.5</td>\n",
              "      <td>NaN</td>\n",
              "      <td>3805 Santa Claus Ln</td>\n",
              "      <td>{'WheelchairAccessible': 'True', 'BusinessAcce...</td>\n",
              "      <td>False</td>\n",
              "      <td>NaN</td>\n",
              "      <td>...</td>\n",
              "      <td>NaN</td>\n",
              "      <td>True</td>\n",
              "      <td>True</td>\n",
              "      <td>NaN</td>\n",
              "      <td>NaN</td>\n",
              "      <td>Events By Rincon</td>\n",
              "      <td>american (traditional)</td>\n",
              "      <td>restaurants, food delivery services, caterers,...</td>\n",
              "      <td>4.374755</td>\n",
              "      <td>4.819236</td>\n",
              "    </tr>\n",
              "    <tr>\n",
              "      <th>9</th>\n",
              "      <td>15:0-18:0</td>\n",
              "      <td>True</td>\n",
              "      <td>NaN</td>\n",
              "      <td>bFO_XYnYMDF1GMY9LK3oxQ</td>\n",
              "      <td>5.0</td>\n",
              "      <td>NaN</td>\n",
              "      <td>2133 Huntingdon St</td>\n",
              "      <td>{'Alcohol': \"u'none'\", 'RestaurantsReservation...</td>\n",
              "      <td>NaN</td>\n",
              "      <td>u'casual'</td>\n",
              "      <td>...</td>\n",
              "      <td>NaN</td>\n",
              "      <td>True</td>\n",
              "      <td>NaN</td>\n",
              "      <td>NaN</td>\n",
              "      <td>NaN</td>\n",
              "      <td>Otolith Sustainable Seafood</td>\n",
              "      <td>specialty food, seafood</td>\n",
              "      <td>restaurants</td>\n",
              "      <td>4.143530</td>\n",
              "      <td>4.797025</td>\n",
              "    </tr>\n",
              "  </tbody>\n",
              "</table>\n",
              "<p>10 rows × 64 columns</p>\n",
              "</div>\n",
              "      <button class=\"colab-df-convert\" onclick=\"convertToInteractive('df-6bb565bf-b2ca-428c-b930-79371761fb8c')\"\n",
              "              title=\"Convert this dataframe to an interactive table.\"\n",
              "              style=\"display:none;\">\n",
              "        \n",
              "  <svg xmlns=\"http://www.w3.org/2000/svg\" height=\"24px\"viewBox=\"0 0 24 24\"\n",
              "       width=\"24px\">\n",
              "    <path d=\"M0 0h24v24H0V0z\" fill=\"none\"/>\n",
              "    <path d=\"M18.56 5.44l.94 2.06.94-2.06 2.06-.94-2.06-.94-.94-2.06-.94 2.06-2.06.94zm-11 1L8.5 8.5l.94-2.06 2.06-.94-2.06-.94L8.5 2.5l-.94 2.06-2.06.94zm10 10l.94 2.06.94-2.06 2.06-.94-2.06-.94-.94-2.06-.94 2.06-2.06.94z\"/><path d=\"M17.41 7.96l-1.37-1.37c-.4-.4-.92-.59-1.43-.59-.52 0-1.04.2-1.43.59L10.3 9.45l-7.72 7.72c-.78.78-.78 2.05 0 2.83L4 21.41c.39.39.9.59 1.41.59.51 0 1.02-.2 1.41-.59l7.78-7.78 2.81-2.81c.8-.78.8-2.07 0-2.86zM5.41 20L4 18.59l7.72-7.72 1.47 1.35L5.41 20z\"/>\n",
              "  </svg>\n",
              "      </button>\n",
              "      \n",
              "  <style>\n",
              "    .colab-df-container {\n",
              "      display:flex;\n",
              "      flex-wrap:wrap;\n",
              "      gap: 12px;\n",
              "    }\n",
              "\n",
              "    .colab-df-convert {\n",
              "      background-color: #E8F0FE;\n",
              "      border: none;\n",
              "      border-radius: 50%;\n",
              "      cursor: pointer;\n",
              "      display: none;\n",
              "      fill: #1967D2;\n",
              "      height: 32px;\n",
              "      padding: 0 0 0 0;\n",
              "      width: 32px;\n",
              "    }\n",
              "\n",
              "    .colab-df-convert:hover {\n",
              "      background-color: #E2EBFA;\n",
              "      box-shadow: 0px 1px 2px rgba(60, 64, 67, 0.3), 0px 1px 3px 1px rgba(60, 64, 67, 0.15);\n",
              "      fill: #174EA6;\n",
              "    }\n",
              "\n",
              "    [theme=dark] .colab-df-convert {\n",
              "      background-color: #3B4455;\n",
              "      fill: #D2E3FC;\n",
              "    }\n",
              "\n",
              "    [theme=dark] .colab-df-convert:hover {\n",
              "      background-color: #434B5C;\n",
              "      box-shadow: 0px 1px 3px 1px rgba(0, 0, 0, 0.15);\n",
              "      filter: drop-shadow(0px 1px 2px rgba(0, 0, 0, 0.3));\n",
              "      fill: #FFFFFF;\n",
              "    }\n",
              "  </style>\n",
              "\n",
              "      <script>\n",
              "        const buttonEl =\n",
              "          document.querySelector('#df-6bb565bf-b2ca-428c-b930-79371761fb8c button.colab-df-convert');\n",
              "        buttonEl.style.display =\n",
              "          google.colab.kernel.accessAllowed ? 'block' : 'none';\n",
              "\n",
              "        async function convertToInteractive(key) {\n",
              "          const element = document.querySelector('#df-6bb565bf-b2ca-428c-b930-79371761fb8c');\n",
              "          const dataTable =\n",
              "            await google.colab.kernel.invokeFunction('convertToInteractive',\n",
              "                                                     [key], {});\n",
              "          if (!dataTable) return;\n",
              "\n",
              "          const docLinkHtml = 'Like what you see? Visit the ' +\n",
              "            '<a target=\"_blank\" href=https://colab.research.google.com/notebooks/data_table.ipynb>data table notebook</a>'\n",
              "            + ' to learn more about interactive tables.';\n",
              "          element.innerHTML = '';\n",
              "          dataTable['output_type'] = 'display_data';\n",
              "          await google.colab.output.renderOutput(dataTable, element);\n",
              "          const docLink = document.createElement('div');\n",
              "          docLink.innerHTML = docLinkHtml;\n",
              "          element.appendChild(docLink);\n",
              "        }\n",
              "      </script>\n",
              "    </div>\n",
              "  </div>\n",
              "  "
            ]
          },
          "metadata": {},
          "execution_count": 114
        }
      ]
    },
    {
      "cell_type": "code",
      "source": [
        "\n",
        "%%time\n",
        "\n",
        "# test 5: valid user id (user has over 100 reviews)\n",
        "print(\"------\\nresult from test5 (valid user id --- user has over 100 reviews): \")\n",
        "kw.collaborative(user_id='---1lKK3aKOuomHnwAkAow');"
      ],
      "metadata": {
        "colab": {
          "base_uri": "https://localhost:8080/",
          "height": 1000
        },
        "id": "HIJnFbIgBu_u",
        "outputId": "5a8fdfc8-a309-4817-fddf-85176b1fc95d"
      },
      "execution_count": null,
      "outputs": [
        {
          "output_type": "stream",
          "name": "stdout",
          "text": [
            "------\n",
            "result from test5 (valid user id --- user has over 100 reviews): \n",
            "sorry, no personal data available for this user_id yet!\n",
            "Here is the generic recommendation computed from all the users in our database:\n",
            "The top 10 recommended restaurants matching your keywords are\n",
            "   predicted_stars state           city  \\\n",
            "0         4.885155    AZ         Tucson   \n",
            "1         4.871124    LA       Metairie   \n",
            "2         4.870727    FL          Tampa   \n",
            "3         4.841727    PA   Philadelphia   \n",
            "4         4.833850    PA       Westtown   \n",
            "5         4.828701    CA  Santa Barbara   \n",
            "6         4.826896    ID          Boise   \n",
            "7         4.821003    FL          Largo   \n",
            "8         4.819236    CA    Carpinteria   \n",
            "9         4.797025    PA   Philadelphia   \n",
            "\n",
            "                                     name                   address  \\\n",
            "0                    August Rhodes Bakery       3073 N Campbell Ave   \n",
            "1                     Nephew's Ristorante       4445 W Metairie Ave   \n",
            "2                         Chicago Paulies         1301 N Howard Ave   \n",
            "3  Mom Mom's Kitchen and Polish Food Cart             1505 South St   \n",
            "4                    Westtown Meat Market  1030 Old Wilmington Pike   \n",
            "5        University Club of Santa Barbara     1332 Santa Barbara St   \n",
            "6                                Petite 4              4 N Latah St   \n",
            "7                       Suzi's Restaurant             1555 E Bay Dr   \n",
            "8                        Events By Rincon       3805 Santa Claus Ln   \n",
            "9             Otolith Sustainable Seafood        2133 Huntingdon St   \n",
            "\n",
            "  attributes.RestaurantsPriceRange2  \\\n",
            "0                                 2   \n",
            "1                                 2   \n",
            "2                                 1   \n",
            "3                                 1   \n",
            "4                                 2   \n",
            "5                               NaN   \n",
            "6                                 3   \n",
            "7                               NaN   \n",
            "8                               NaN   \n",
            "9                                 2   \n",
            "\n",
            "                                     cuisine  \\\n",
            "0       sandwiches, bakeries, american (new)   \n",
            "1                                    italian   \n",
            "2  hot dogs, vegetarian, burgers, sandwiches   \n",
            "3                                        NaN   \n",
            "4                             specialty food   \n",
            "5                             specialty food   \n",
            "6               french, beer, wine & spirits   \n",
            "7                      american (new), greek   \n",
            "8                     american (traditional)   \n",
            "9                    specialty food, seafood   \n",
            "\n",
            "                                               style  review_count  stars  \\\n",
            "0                              restaurants, caterers            89    4.5   \n",
            "1                                        restaurants            45    3.5   \n",
            "2                           restaurants, food stands           186    5.0   \n",
            "3           food trucks, street vendors, restaurants            91    5.0   \n",
            "4                                 restaurants, delis            30    5.0   \n",
            "5                                        restaurants            76    5.0   \n",
            "6                                        restaurants           121    4.5   \n",
            "7            breakfast & brunch, diners, restaurants            35    4.5   \n",
            "8  restaurants, food delivery services, caterers,...           109    4.5   \n",
            "9                                        restaurants            10    5.0   \n",
            "\n",
            "   adjusted_score  \n",
            "0        4.352189  \n",
            "1        3.583477  \n",
            "2        4.868235  \n",
            "3        4.757460  \n",
            "4        4.472942  \n",
            "5        4.720336  \n",
            "6        4.385265  \n",
            "7        4.212157  \n",
            "8        4.374755  \n",
            "9        4.143530  \n",
            "CPU times: user 312 ms, sys: 10.9 ms, total: 323 ms\n",
            "Wall time: 350 ms\n"
          ]
        },
        {
          "output_type": "execute_result",
          "data": {
            "text/plain": [
              "  hours.Saturday attributes.BusinessAcceptsCreditCards hours.Monday  \\\n",
              "0       9:0-12:0                                  True      0:0-0:0   \n",
              "1     17:30-22:0                                  True          NaN   \n",
              "2      11:0-14:0                                  True      0:0-0:0   \n",
              "3      11:0-22:0                                  True      0:0-0:0   \n",
              "4       9:0-17:0                                  True          NaN   \n",
              "5            NaN                                  True    9:0-17:30   \n",
              "6      17:0-22:0                                  True          NaN   \n",
              "7       6:0-14:0                                  True          NaN   \n",
              "8       9:0-17:0                                 False      0:0-0:0   \n",
              "9      15:0-18:0                                  True          NaN   \n",
              "\n",
              "              business_id  stars attributes.BestNights  \\\n",
              "0  oQYZ3j2H758y07p4RpCWug    4.5                   NaN   \n",
              "1  NOiW9rx0kwYLCv_YNX20Bg    3.5                   NaN   \n",
              "2  LjgiE_EbpBdIz4JyVUioTQ    5.0                   NaN   \n",
              "3  RVLF2RaStLkJiQCqBHknDw    5.0                   NaN   \n",
              "4  fbkljMIXlS0AJjReKfCrcg    5.0                   NaN   \n",
              "5  k3lTRgvPvYUI-cX7_TAqNA    5.0                   NaN   \n",
              "6  rqaIe-61HKlWaGYmVwlw8Q    4.5                   NaN   \n",
              "7  6O6W8hHIMs-xJWT6yfh5qw    4.5                   NaN   \n",
              "8  DD3TxygdxBxKh9gbjCuLDA    4.5                   NaN   \n",
              "9  bFO_XYnYMDF1GMY9LK3oxQ    5.0                   NaN   \n",
              "\n",
              "                    address  \\\n",
              "0       3073 N Campbell Ave   \n",
              "1       4445 W Metairie Ave   \n",
              "2         1301 N Howard Ave   \n",
              "3             1505 South St   \n",
              "4  1030 Old Wilmington Pike   \n",
              "5     1332 Santa Barbara St   \n",
              "6              4 N Latah St   \n",
              "7             1555 E Bay Dr   \n",
              "8       3805 Santa Claus Ln   \n",
              "9        2133 Huntingdon St   \n",
              "\n",
              "                                          attributes attributes.HasTV  \\\n",
              "0  {'HasTV': 'False', 'WiFi': \"u'free'\", 'Ambienc...            False   \n",
              "1  {'Alcohol': \"'full_bar'\", 'BusinessParking': \"...             True   \n",
              "2  {'HasTV': 'False', 'RestaurantsAttire': \"'casu...            False   \n",
              "3  {'Caters': 'True', 'RestaurantsGoodForGroups':...            False   \n",
              "4  {'RestaurantsPriceRange2': '2', 'BusinessAccep...              NaN   \n",
              "5  {'BusinessParking': \"{'garage': False, 'street...              NaN   \n",
              "6  {'WiFi': \"'no'\", 'RestaurantsPriceRange2': '3'...             True   \n",
              "7  {'DriveThru': 'False', 'Corkage': 'False', 'Bu...             True   \n",
              "8  {'WheelchairAccessible': 'True', 'BusinessAcce...            False   \n",
              "9  {'Alcohol': \"u'none'\", 'RestaurantsReservation...              NaN   \n",
              "\n",
              "  attributes.RestaurantsAttire  ... attributes.RestaurantsCounterService  \\\n",
              "0                          NaN  ...                                  NaN   \n",
              "1                     'dressy'  ...                                  NaN   \n",
              "2                     'casual'  ...                                  NaN   \n",
              "3                    u'casual'  ...                                  NaN   \n",
              "4                          NaN  ...                                  NaN   \n",
              "5                          NaN  ...                                  NaN   \n",
              "6                          NaN  ...                                  NaN   \n",
              "7                          NaN  ...                                  NaN   \n",
              "8                          NaN  ...                                  NaN   \n",
              "9                    u'casual'  ...                                  NaN   \n",
              "\n",
              "  attributes.RestaurantsReservations attributes.RestaurantsTableService  \\\n",
              "0                              False                               True   \n",
              "1                               True                               True   \n",
              "2                              False                              False   \n",
              "3                               True                               True   \n",
              "4                                NaN                                NaN   \n",
              "5                                NaN                                NaN   \n",
              "6                               True                                NaN   \n",
              "7                               True                               True   \n",
              "8                               True                               True   \n",
              "9                               True                                NaN   \n",
              "\n",
              "  attributes.AgesAllowed  attributes.Open24Hours  \\\n",
              "0                    NaN                     NaN   \n",
              "1                    NaN                     NaN   \n",
              "2                    NaN                     NaN   \n",
              "3                    NaN                     NaN   \n",
              "4                    NaN                     NaN   \n",
              "5                    NaN                     NaN   \n",
              "6                    NaN                     NaN   \n",
              "7                    NaN                     NaN   \n",
              "8                    NaN                     NaN   \n",
              "9                    NaN                     NaN   \n",
              "\n",
              "                                     name  \\\n",
              "0                    August Rhodes Bakery   \n",
              "1                     Nephew's Ristorante   \n",
              "2                         Chicago Paulies   \n",
              "3  Mom Mom's Kitchen and Polish Food Cart   \n",
              "4                    Westtown Meat Market   \n",
              "5        University Club of Santa Barbara   \n",
              "6                                Petite 4   \n",
              "7                       Suzi's Restaurant   \n",
              "8                        Events By Rincon   \n",
              "9             Otolith Sustainable Seafood   \n",
              "\n",
              "                                     cuisine  \\\n",
              "0       sandwiches, bakeries, american (new)   \n",
              "1                                    italian   \n",
              "2  hot dogs, vegetarian, burgers, sandwiches   \n",
              "3                                        NaN   \n",
              "4                             specialty food   \n",
              "5                             specialty food   \n",
              "6               french, beer, wine & spirits   \n",
              "7                      american (new), greek   \n",
              "8                     american (traditional)   \n",
              "9                    specialty food, seafood   \n",
              "\n",
              "                                               style adjusted_score  \\\n",
              "0                              restaurants, caterers       4.352189   \n",
              "1                                        restaurants       3.583477   \n",
              "2                           restaurants, food stands       4.868235   \n",
              "3           food trucks, street vendors, restaurants       4.757460   \n",
              "4                                 restaurants, delis       4.472942   \n",
              "5                                        restaurants       4.720336   \n",
              "6                                        restaurants       4.385265   \n",
              "7            breakfast & brunch, diners, restaurants       4.212157   \n",
              "8  restaurants, food delivery services, caterers,...       4.374755   \n",
              "9                                        restaurants       4.143530   \n",
              "\n",
              "  predicted_stars  \n",
              "0        4.885155  \n",
              "1        4.871124  \n",
              "2        4.870727  \n",
              "3        4.841727  \n",
              "4        4.833850  \n",
              "5        4.828701  \n",
              "6        4.826896  \n",
              "7        4.821003  \n",
              "8        4.819236  \n",
              "9        4.797025  \n",
              "\n",
              "[10 rows x 64 columns]"
            ],
            "text/html": [
              "\n",
              "  <div id=\"df-2e54d90e-58f3-43f6-8827-3be1d8325b71\">\n",
              "    <div class=\"colab-df-container\">\n",
              "      <div>\n",
              "<style scoped>\n",
              "    .dataframe tbody tr th:only-of-type {\n",
              "        vertical-align: middle;\n",
              "    }\n",
              "\n",
              "    .dataframe tbody tr th {\n",
              "        vertical-align: top;\n",
              "    }\n",
              "\n",
              "    .dataframe thead th {\n",
              "        text-align: right;\n",
              "    }\n",
              "</style>\n",
              "<table border=\"1\" class=\"dataframe\">\n",
              "  <thead>\n",
              "    <tr style=\"text-align: right;\">\n",
              "      <th></th>\n",
              "      <th>hours.Saturday</th>\n",
              "      <th>attributes.BusinessAcceptsCreditCards</th>\n",
              "      <th>hours.Monday</th>\n",
              "      <th>business_id</th>\n",
              "      <th>stars</th>\n",
              "      <th>attributes.BestNights</th>\n",
              "      <th>address</th>\n",
              "      <th>attributes</th>\n",
              "      <th>attributes.HasTV</th>\n",
              "      <th>attributes.RestaurantsAttire</th>\n",
              "      <th>...</th>\n",
              "      <th>attributes.RestaurantsCounterService</th>\n",
              "      <th>attributes.RestaurantsReservations</th>\n",
              "      <th>attributes.RestaurantsTableService</th>\n",
              "      <th>attributes.AgesAllowed</th>\n",
              "      <th>attributes.Open24Hours</th>\n",
              "      <th>name</th>\n",
              "      <th>cuisine</th>\n",
              "      <th>style</th>\n",
              "      <th>adjusted_score</th>\n",
              "      <th>predicted_stars</th>\n",
              "    </tr>\n",
              "  </thead>\n",
              "  <tbody>\n",
              "    <tr>\n",
              "      <th>0</th>\n",
              "      <td>9:0-12:0</td>\n",
              "      <td>True</td>\n",
              "      <td>0:0-0:0</td>\n",
              "      <td>oQYZ3j2H758y07p4RpCWug</td>\n",
              "      <td>4.5</td>\n",
              "      <td>NaN</td>\n",
              "      <td>3073 N Campbell Ave</td>\n",
              "      <td>{'HasTV': 'False', 'WiFi': \"u'free'\", 'Ambienc...</td>\n",
              "      <td>False</td>\n",
              "      <td>NaN</td>\n",
              "      <td>...</td>\n",
              "      <td>NaN</td>\n",
              "      <td>False</td>\n",
              "      <td>True</td>\n",
              "      <td>NaN</td>\n",
              "      <td>NaN</td>\n",
              "      <td>August Rhodes Bakery</td>\n",
              "      <td>sandwiches, bakeries, american (new)</td>\n",
              "      <td>restaurants, caterers</td>\n",
              "      <td>4.352189</td>\n",
              "      <td>4.885155</td>\n",
              "    </tr>\n",
              "    <tr>\n",
              "      <th>1</th>\n",
              "      <td>17:30-22:0</td>\n",
              "      <td>True</td>\n",
              "      <td>NaN</td>\n",
              "      <td>NOiW9rx0kwYLCv_YNX20Bg</td>\n",
              "      <td>3.5</td>\n",
              "      <td>NaN</td>\n",
              "      <td>4445 W Metairie Ave</td>\n",
              "      <td>{'Alcohol': \"'full_bar'\", 'BusinessParking': \"...</td>\n",
              "      <td>True</td>\n",
              "      <td>'dressy'</td>\n",
              "      <td>...</td>\n",
              "      <td>NaN</td>\n",
              "      <td>True</td>\n",
              "      <td>True</td>\n",
              "      <td>NaN</td>\n",
              "      <td>NaN</td>\n",
              "      <td>Nephew's Ristorante</td>\n",
              "      <td>italian</td>\n",
              "      <td>restaurants</td>\n",
              "      <td>3.583477</td>\n",
              "      <td>4.871124</td>\n",
              "    </tr>\n",
              "    <tr>\n",
              "      <th>2</th>\n",
              "      <td>11:0-14:0</td>\n",
              "      <td>True</td>\n",
              "      <td>0:0-0:0</td>\n",
              "      <td>LjgiE_EbpBdIz4JyVUioTQ</td>\n",
              "      <td>5.0</td>\n",
              "      <td>NaN</td>\n",
              "      <td>1301 N Howard Ave</td>\n",
              "      <td>{'HasTV': 'False', 'RestaurantsAttire': \"'casu...</td>\n",
              "      <td>False</td>\n",
              "      <td>'casual'</td>\n",
              "      <td>...</td>\n",
              "      <td>NaN</td>\n",
              "      <td>False</td>\n",
              "      <td>False</td>\n",
              "      <td>NaN</td>\n",
              "      <td>NaN</td>\n",
              "      <td>Chicago Paulies</td>\n",
              "      <td>hot dogs, vegetarian, burgers, sandwiches</td>\n",
              "      <td>restaurants, food stands</td>\n",
              "      <td>4.868235</td>\n",
              "      <td>4.870727</td>\n",
              "    </tr>\n",
              "    <tr>\n",
              "      <th>3</th>\n",
              "      <td>11:0-22:0</td>\n",
              "      <td>True</td>\n",
              "      <td>0:0-0:0</td>\n",
              "      <td>RVLF2RaStLkJiQCqBHknDw</td>\n",
              "      <td>5.0</td>\n",
              "      <td>NaN</td>\n",
              "      <td>1505 South St</td>\n",
              "      <td>{'Caters': 'True', 'RestaurantsGoodForGroups':...</td>\n",
              "      <td>False</td>\n",
              "      <td>u'casual'</td>\n",
              "      <td>...</td>\n",
              "      <td>NaN</td>\n",
              "      <td>True</td>\n",
              "      <td>True</td>\n",
              "      <td>NaN</td>\n",
              "      <td>NaN</td>\n",
              "      <td>Mom Mom's Kitchen and Polish Food Cart</td>\n",
              "      <td>NaN</td>\n",
              "      <td>food trucks, street vendors, restaurants</td>\n",
              "      <td>4.757460</td>\n",
              "      <td>4.841727</td>\n",
              "    </tr>\n",
              "    <tr>\n",
              "      <th>4</th>\n",
              "      <td>9:0-17:0</td>\n",
              "      <td>True</td>\n",
              "      <td>NaN</td>\n",
              "      <td>fbkljMIXlS0AJjReKfCrcg</td>\n",
              "      <td>5.0</td>\n",
              "      <td>NaN</td>\n",
              "      <td>1030 Old Wilmington Pike</td>\n",
              "      <td>{'RestaurantsPriceRange2': '2', 'BusinessAccep...</td>\n",
              "      <td>NaN</td>\n",
              "      <td>NaN</td>\n",
              "      <td>...</td>\n",
              "      <td>NaN</td>\n",
              "      <td>NaN</td>\n",
              "      <td>NaN</td>\n",
              "      <td>NaN</td>\n",
              "      <td>NaN</td>\n",
              "      <td>Westtown Meat Market</td>\n",
              "      <td>specialty food</td>\n",
              "      <td>restaurants, delis</td>\n",
              "      <td>4.472942</td>\n",
              "      <td>4.833850</td>\n",
              "    </tr>\n",
              "    <tr>\n",
              "      <th>5</th>\n",
              "      <td>NaN</td>\n",
              "      <td>True</td>\n",
              "      <td>9:0-17:30</td>\n",
              "      <td>k3lTRgvPvYUI-cX7_TAqNA</td>\n",
              "      <td>5.0</td>\n",
              "      <td>NaN</td>\n",
              "      <td>1332 Santa Barbara St</td>\n",
              "      <td>{'BusinessParking': \"{'garage': False, 'street...</td>\n",
              "      <td>NaN</td>\n",
              "      <td>NaN</td>\n",
              "      <td>...</td>\n",
              "      <td>NaN</td>\n",
              "      <td>NaN</td>\n",
              "      <td>NaN</td>\n",
              "      <td>NaN</td>\n",
              "      <td>NaN</td>\n",
              "      <td>University Club of Santa Barbara</td>\n",
              "      <td>specialty food</td>\n",
              "      <td>restaurants</td>\n",
              "      <td>4.720336</td>\n",
              "      <td>4.828701</td>\n",
              "    </tr>\n",
              "    <tr>\n",
              "      <th>6</th>\n",
              "      <td>17:0-22:0</td>\n",
              "      <td>True</td>\n",
              "      <td>NaN</td>\n",
              "      <td>rqaIe-61HKlWaGYmVwlw8Q</td>\n",
              "      <td>4.5</td>\n",
              "      <td>NaN</td>\n",
              "      <td>4 N Latah St</td>\n",
              "      <td>{'WiFi': \"'no'\", 'RestaurantsPriceRange2': '3'...</td>\n",
              "      <td>True</td>\n",
              "      <td>NaN</td>\n",
              "      <td>...</td>\n",
              "      <td>NaN</td>\n",
              "      <td>True</td>\n",
              "      <td>NaN</td>\n",
              "      <td>NaN</td>\n",
              "      <td>NaN</td>\n",
              "      <td>Petite 4</td>\n",
              "      <td>french, beer, wine &amp; spirits</td>\n",
              "      <td>restaurants</td>\n",
              "      <td>4.385265</td>\n",
              "      <td>4.826896</td>\n",
              "    </tr>\n",
              "    <tr>\n",
              "      <th>7</th>\n",
              "      <td>6:0-14:0</td>\n",
              "      <td>True</td>\n",
              "      <td>NaN</td>\n",
              "      <td>6O6W8hHIMs-xJWT6yfh5qw</td>\n",
              "      <td>4.5</td>\n",
              "      <td>NaN</td>\n",
              "      <td>1555 E Bay Dr</td>\n",
              "      <td>{'DriveThru': 'False', 'Corkage': 'False', 'Bu...</td>\n",
              "      <td>True</td>\n",
              "      <td>NaN</td>\n",
              "      <td>...</td>\n",
              "      <td>NaN</td>\n",
              "      <td>True</td>\n",
              "      <td>True</td>\n",
              "      <td>NaN</td>\n",
              "      <td>NaN</td>\n",
              "      <td>Suzi's Restaurant</td>\n",
              "      <td>american (new), greek</td>\n",
              "      <td>breakfast &amp; brunch, diners, restaurants</td>\n",
              "      <td>4.212157</td>\n",
              "      <td>4.821003</td>\n",
              "    </tr>\n",
              "    <tr>\n",
              "      <th>8</th>\n",
              "      <td>9:0-17:0</td>\n",
              "      <td>False</td>\n",
              "      <td>0:0-0:0</td>\n",
              "      <td>DD3TxygdxBxKh9gbjCuLDA</td>\n",
              "      <td>4.5</td>\n",
              "      <td>NaN</td>\n",
              "      <td>3805 Santa Claus Ln</td>\n",
              "      <td>{'WheelchairAccessible': 'True', 'BusinessAcce...</td>\n",
              "      <td>False</td>\n",
              "      <td>NaN</td>\n",
              "      <td>...</td>\n",
              "      <td>NaN</td>\n",
              "      <td>True</td>\n",
              "      <td>True</td>\n",
              "      <td>NaN</td>\n",
              "      <td>NaN</td>\n",
              "      <td>Events By Rincon</td>\n",
              "      <td>american (traditional)</td>\n",
              "      <td>restaurants, food delivery services, caterers,...</td>\n",
              "      <td>4.374755</td>\n",
              "      <td>4.819236</td>\n",
              "    </tr>\n",
              "    <tr>\n",
              "      <th>9</th>\n",
              "      <td>15:0-18:0</td>\n",
              "      <td>True</td>\n",
              "      <td>NaN</td>\n",
              "      <td>bFO_XYnYMDF1GMY9LK3oxQ</td>\n",
              "      <td>5.0</td>\n",
              "      <td>NaN</td>\n",
              "      <td>2133 Huntingdon St</td>\n",
              "      <td>{'Alcohol': \"u'none'\", 'RestaurantsReservation...</td>\n",
              "      <td>NaN</td>\n",
              "      <td>u'casual'</td>\n",
              "      <td>...</td>\n",
              "      <td>NaN</td>\n",
              "      <td>True</td>\n",
              "      <td>NaN</td>\n",
              "      <td>NaN</td>\n",
              "      <td>NaN</td>\n",
              "      <td>Otolith Sustainable Seafood</td>\n",
              "      <td>specialty food, seafood</td>\n",
              "      <td>restaurants</td>\n",
              "      <td>4.143530</td>\n",
              "      <td>4.797025</td>\n",
              "    </tr>\n",
              "  </tbody>\n",
              "</table>\n",
              "<p>10 rows × 64 columns</p>\n",
              "</div>\n",
              "      <button class=\"colab-df-convert\" onclick=\"convertToInteractive('df-2e54d90e-58f3-43f6-8827-3be1d8325b71')\"\n",
              "              title=\"Convert this dataframe to an interactive table.\"\n",
              "              style=\"display:none;\">\n",
              "        \n",
              "  <svg xmlns=\"http://www.w3.org/2000/svg\" height=\"24px\"viewBox=\"0 0 24 24\"\n",
              "       width=\"24px\">\n",
              "    <path d=\"M0 0h24v24H0V0z\" fill=\"none\"/>\n",
              "    <path d=\"M18.56 5.44l.94 2.06.94-2.06 2.06-.94-2.06-.94-.94-2.06-.94 2.06-2.06.94zm-11 1L8.5 8.5l.94-2.06 2.06-.94-2.06-.94L8.5 2.5l-.94 2.06-2.06.94zm10 10l.94 2.06.94-2.06 2.06-.94-2.06-.94-.94-2.06-.94 2.06-2.06.94z\"/><path d=\"M17.41 7.96l-1.37-1.37c-.4-.4-.92-.59-1.43-.59-.52 0-1.04.2-1.43.59L10.3 9.45l-7.72 7.72c-.78.78-.78 2.05 0 2.83L4 21.41c.39.39.9.59 1.41.59.51 0 1.02-.2 1.41-.59l7.78-7.78 2.81-2.81c.8-.78.8-2.07 0-2.86zM5.41 20L4 18.59l7.72-7.72 1.47 1.35L5.41 20z\"/>\n",
              "  </svg>\n",
              "      </button>\n",
              "      \n",
              "  <style>\n",
              "    .colab-df-container {\n",
              "      display:flex;\n",
              "      flex-wrap:wrap;\n",
              "      gap: 12px;\n",
              "    }\n",
              "\n",
              "    .colab-df-convert {\n",
              "      background-color: #E8F0FE;\n",
              "      border: none;\n",
              "      border-radius: 50%;\n",
              "      cursor: pointer;\n",
              "      display: none;\n",
              "      fill: #1967D2;\n",
              "      height: 32px;\n",
              "      padding: 0 0 0 0;\n",
              "      width: 32px;\n",
              "    }\n",
              "\n",
              "    .colab-df-convert:hover {\n",
              "      background-color: #E2EBFA;\n",
              "      box-shadow: 0px 1px 2px rgba(60, 64, 67, 0.3), 0px 1px 3px 1px rgba(60, 64, 67, 0.15);\n",
              "      fill: #174EA6;\n",
              "    }\n",
              "\n",
              "    [theme=dark] .colab-df-convert {\n",
              "      background-color: #3B4455;\n",
              "      fill: #D2E3FC;\n",
              "    }\n",
              "\n",
              "    [theme=dark] .colab-df-convert:hover {\n",
              "      background-color: #434B5C;\n",
              "      box-shadow: 0px 1px 3px 1px rgba(0, 0, 0, 0.15);\n",
              "      filter: drop-shadow(0px 1px 2px rgba(0, 0, 0, 0.3));\n",
              "      fill: #FFFFFF;\n",
              "    }\n",
              "  </style>\n",
              "\n",
              "      <script>\n",
              "        const buttonEl =\n",
              "          document.querySelector('#df-2e54d90e-58f3-43f6-8827-3be1d8325b71 button.colab-df-convert');\n",
              "        buttonEl.style.display =\n",
              "          google.colab.kernel.accessAllowed ? 'block' : 'none';\n",
              "\n",
              "        async function convertToInteractive(key) {\n",
              "          const element = document.querySelector('#df-2e54d90e-58f3-43f6-8827-3be1d8325b71');\n",
              "          const dataTable =\n",
              "            await google.colab.kernel.invokeFunction('convertToInteractive',\n",
              "                                                     [key], {});\n",
              "          if (!dataTable) return;\n",
              "\n",
              "          const docLinkHtml = 'Like what you see? Visit the ' +\n",
              "            '<a target=\"_blank\" href=https://colab.research.google.com/notebooks/data_table.ipynb>data table notebook</a>'\n",
              "            + ' to learn more about interactive tables.';\n",
              "          element.innerHTML = '';\n",
              "          dataTable['output_type'] = 'display_data';\n",
              "          await google.colab.output.renderOutput(dataTable, element);\n",
              "          const docLink = document.createElement('div');\n",
              "          docLink.innerHTML = docLinkHtml;\n",
              "          element.appendChild(docLink);\n",
              "        }\n",
              "      </script>\n",
              "    </div>\n",
              "  </div>\n",
              "  "
            ]
          },
          "metadata": {},
          "execution_count": 115
        }
      ]
    }
  ]
}