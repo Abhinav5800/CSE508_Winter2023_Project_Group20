{
  "nbformat": 4,
  "nbformat_minor": 0,
  "metadata": {
    "colab": {
      "private_outputs": true,
      "provenance": []
    },
    "kernelspec": {
      "name": "python3",
      "display_name": "Python 3"
    },
    "language_info": {
      "name": "python"
    },
    "accelerator": "GPU",
    "gpuClass": "standard"
  },
  "cells": [
    {
      "cell_type": "code",
      "execution_count": null,
      "metadata": {
        "id": "gmXyccpj1SmI"
      },
      "outputs": [],
      "source": [
        "import tarfile"
      ]
    },
    {
      "cell_type": "code",
      "source": [
        "my_tar = tarfile.open('/content/drive/MyDrive/yelp_dataset.tar')"
      ],
      "metadata": {
        "id": "I7dc13cb1pJm"
      },
      "execution_count": null,
      "outputs": []
    },
    {
      "cell_type": "code",
      "source": [
        "my_tar.extractall('./yelp_dataset')"
      ],
      "metadata": {
        "id": "QqO3lbIp1yV0"
      },
      "execution_count": null,
      "outputs": []
    },
    {
      "cell_type": "code",
      "source": [
        "my_tar.close()"
      ],
      "metadata": {
        "id": "SSt54SJT10_L"
      },
      "execution_count": null,
      "outputs": []
    },
    {
      "cell_type": "code",
      "source": [
        "%run -i '/content/j_csv.py' '/content/yelp_dataset/yelp_academic_dataset_business.json'"
      ],
      "metadata": {
        "id": "Lb3f3Xea5-3N"
      },
      "execution_count": null,
      "outputs": []
    },
    {
      "cell_type": "code",
      "source": [
        "%run -i '/content/j_csv.py' '/content/yelp_dataset/yelp_academic_dataset_checkin.json'"
      ],
      "metadata": {
        "id": "HGg5zUHp6u8L"
      },
      "execution_count": null,
      "outputs": []
    },
    {
      "cell_type": "code",
      "source": [
        "%run -i '/content/j_csv.py' '/content/yelp_dataset/yelp_academic_dataset_user.json'"
      ],
      "metadata": {
        "id": "o1ldIbx565LY"
      },
      "execution_count": null,
      "outputs": []
    },
    {
      "cell_type": "code",
      "source": [
        "%run -i '/content/j_csv.py' '/content/yelp_dataset/yelp_academic_dataset_tip.json'"
      ],
      "metadata": {
        "id": "FTygQrSc8D56"
      },
      "execution_count": null,
      "outputs": []
    },
    {
      "cell_type": "code",
      "source": [
        "%run -i '/content/j_csv.py' '/content/yelp_dataset/yelp_academic_dataset_review.json'"
      ],
      "metadata": {
        "id": "_KvpsBFG8OYM"
      },
      "execution_count": null,
      "outputs": []
    },
    {
      "cell_type": "code",
      "source": [],
      "metadata": {
        "id": "0ZcOZ_NGx3OM"
      },
      "execution_count": null,
      "outputs": []
    },
    {
      "cell_type": "markdown",
      "source": [
        "# DATA PREPAREATION AND CLEANING"
      ],
      "metadata": {
        "id": "CBvnP-FJx1lm"
      }
    },
    {
      "cell_type": "code",
      "source": [
        "import pandas as pd\n",
        "import numpy as np"
      ],
      "metadata": {
        "id": "ZwmtIF6hyDHg"
      },
      "execution_count": null,
      "outputs": []
    },
    {
      "cell_type": "code",
      "source": [
        "# reading csv files\n",
        "data_tip=pd.read_csv('/content/yelp_dataset/yelp_academic_dataset_tip.csv')\n"
      ],
      "metadata": {
        "id": "ADv_EizQyhZQ"
      },
      "execution_count": null,
      "outputs": []
    },
    {
      "cell_type": "code",
      "source": [
        "data_tip.head()"
      ],
      "metadata": {
        "id": "uiymKh7rzSk4"
      },
      "execution_count": null,
      "outputs": []
    },
    {
      "cell_type": "code",
      "source": [
        "data_tip.describe()"
      ],
      "metadata": {
        "id": "bBQb_pS60j5j"
      },
      "execution_count": null,
      "outputs": []
    },
    {
      "cell_type": "code",
      "source": [
        "data_tip.columns"
      ],
      "metadata": {
        "id": "hvrkLzOB0tml"
      },
      "execution_count": null,
      "outputs": []
    },
    {
      "cell_type": "code",
      "source": [
        "data_tip.info()"
      ],
      "metadata": {
        "id": "t35xET_300F2"
      },
      "execution_count": null,
      "outputs": []
    },
    {
      "cell_type": "code",
      "source": [
        "# drop entries with 'NaN' under 'text' column\n",
        "data_tip = data_tip[data_tip.text.notnull()]\n",
        "data_tip.reset_index(inplace=True, drop=True)\n",
        "\n",
        "print(data_tip.info())"
      ],
      "metadata": {
        "id": "g_RIKPgB07nm"
      },
      "execution_count": null,
      "outputs": []
    },
    {
      "cell_type": "code",
      "source": [
        "data_tip.to_csv('tip_final.csv',index=False)"
      ],
      "metadata": {
        "id": "1-iKhhHw1K3C"
      },
      "execution_count": null,
      "outputs": []
    },
    {
      "cell_type": "markdown",
      "source": [
        "# checkin data"
      ],
      "metadata": {
        "id": "0vnh_-Sy15fj"
      }
    },
    {
      "cell_type": "code",
      "source": [
        "data_checkin=pd.read_csv('/content/yelp_dataset/yelp_academic_dataset_checkin.csv')"
      ],
      "metadata": {
        "id": "5qsDb0o814WR"
      },
      "execution_count": null,
      "outputs": []
    },
    {
      "cell_type": "code",
      "source": [
        "data_checkin.info()"
      ],
      "metadata": {
        "id": "96foOKnd2KD7"
      },
      "execution_count": null,
      "outputs": []
    },
    {
      "cell_type": "code",
      "source": [
        "# sort the columns by column names\n",
        "ordered_names = sorted(data_checkin.columns)\n",
        "checkin = data_checkin[ordered_names]\n",
        "print(data_checkin.columns)\n",
        "\n",
        "# add a new column named 'total_count' containing the sum of all checkins at all times (sum of all values under the nested columns with names starting with 'time.')\n",
        "checkin['total_count'] = data_checkin.loc[:,'time.Fri-0':'time.Wed-9'].sum(axis=1).astype(int)\n",
        "\n",
        "print(checkin.info())"
      ],
      "metadata": {
        "id": "dVun_X6H2XIO"
      },
      "execution_count": null,
      "outputs": []
    },
    {
      "cell_type": "code",
      "source": [
        "data_checkin.to_csv('checkin_final.csv',index=False)"
      ],
      "metadata": {
        "id": "D98t59lz3T9t"
      },
      "execution_count": null,
      "outputs": []
    },
    {
      "cell_type": "markdown",
      "source": [
        "# user data"
      ],
      "metadata": {
        "id": "0qKFFNRe3v2S"
      }
    },
    {
      "cell_type": "code",
      "source": [
        "data_user=pd.read_csv('/content/yelp_dataset/yelp_academic_dataset_user.csv')"
      ],
      "metadata": {
        "id": "lIPVjolU3uwx"
      },
      "execution_count": null,
      "outputs": []
    },
    {
      "cell_type": "code",
      "source": [
        "data_user.head()"
      ],
      "metadata": {
        "id": "NH8s9n7-4J4o"
      },
      "execution_count": null,
      "outputs": []
    },
    {
      "cell_type": "code",
      "source": [
        "data_user.describe()"
      ],
      "metadata": {
        "id": "vCF_bnwo4RwM"
      },
      "execution_count": null,
      "outputs": []
    },
    {
      "cell_type": "code",
      "source": [
        "data_user.columns"
      ],
      "metadata": {
        "id": "WVwIUGpS4fQq"
      },
      "execution_count": null,
      "outputs": []
    },
    {
      "cell_type": "code",
      "source": [
        "#drop data if average _stars =0 it should be between 1 to 5\n",
        "print(data_user.average_stars.describe())\n"
      ],
      "metadata": {
        "id": "jz75vzrT4jzq"
      },
      "execution_count": null,
      "outputs": []
    },
    {
      "cell_type": "code",
      "source": [
        "data_user = data_user[data_user.average_stars != 0]\n",
        "data_user.reset_index(inplace=True, drop=True)"
      ],
      "metadata": {
        "id": "BxlVzyKq4_k1"
      },
      "execution_count": null,
      "outputs": []
    },
    {
      "cell_type": "code",
      "source": [
        "data_user.to_csv('user_final.csv',index=False)"
      ],
      "metadata": {
        "id": "TIv0M4Ou5QJX"
      },
      "execution_count": null,
      "outputs": []
    },
    {
      "cell_type": "markdown",
      "source": [
        "# review data"
      ],
      "metadata": {
        "id": "yGSGis2B54Zl"
      }
    },
    {
      "cell_type": "code",
      "source": [
        "data=pd.read_csv('/content/yelp_dataset/yelp_academic_dataset_business.csv')"
      ],
      "metadata": {
        "id": "7uKOnp3q51rm"
      },
      "execution_count": null,
      "outputs": []
    },
    {
      "cell_type": "code",
      "source": [
        "ziplen = data.postal_code.astype(str).apply(len) # drop entries where postal_code is not 5-digit from business\n",
        "business = data[ziplen == 5]\n",
        "\n",
        "list_of_states = ['AL','AK','AR','AS','AZ','CA','CO','CT','DC','DE','FL','FM','GA','GU','HI','IA','ID','IL','IN','KS','KY','LA','MA','MD','ME','MH','MI','MN','MO','MS','MT','NC','ND','NE','NH','NJ','NM','NV','NY','MP','OH','OK','OR','PA','PR','PW','RI','SC','SD','TN','TX','UT','VA','VI','VT','WA','WI','WV','WY']\n",
        "business = business[business.state.isin(list_of_states)]"
      ],
      "metadata": {
        "id": "EQWwUlEeDd1c"
      },
      "execution_count": null,
      "outputs": []
    },
    {
      "cell_type": "code",
      "source": [
        "# deal with missing city information\n",
        "data.loc[58688,'city'] = 'Yuma' # add missing city info\n",
        "data.loc[111036,'city'] = 'Raleigh' # add missing city info\n",
        "\n",
        "# remove one entry with missing latitude information\n",
        "data = data[data.latitude.notnull()]"
      ],
      "metadata": {
        "id": "lldeTD1kDrtV"
      },
      "execution_count": null,
      "outputs": []
    },
    {
      "cell_type": "code",
      "source": [
        "# business category\n",
        "\n",
        "from collections import defaultdict\n",
        "\n",
        "category = defaultdict(int)\n",
        "\n",
        "for idx, row in data.iterrows():\n",
        "    if row['categories'] is not np.nan: \n",
        "        entries = row['categories'].split(',')\n",
        "        for entry in entries: \n",
        "            entry = entry.strip().lower()\n",
        "            category[entry] += 1\n",
        "\n",
        "print(len(category))\n",
        "sorted_cate = sorted(category.items(), key=lambda x: x[1], reverse=True)\n",
        "print(sorted_cate[:10])"
      ],
      "metadata": {
        "id": "Ix2UiILpD6k7"
      },
      "execution_count": null,
      "outputs": []
    },
    {
      "cell_type": "code",
      "source": [
        "\"\"\"\n",
        "    remove businesses other than restaurants based on the information provided under business 'categories'\n",
        "    \"\"\"\n",
        "def rmv_non_restaurant_busi(df, yes=[], no=[]): \n",
        "    \n",
        "  \n",
        "\n",
        "    yes = set(['fast food','sandwiches','caterers','deserts','burgers']).union(set(yes))\n",
        "    no = set(['shopping','home services','beauty & spas','hair salons','health & medical', 'local services','automotive',\n",
        "              'fitness & instruction','transportation','airlines','pets','active life','professional services','banks & credit unions'\n",
        "             'insurance','financial services','education','public services & government','session photography','car rental',\n",
        "             'photographers','churches','religious organizations','tours','doctors','massage','pharmacy','drugstores']).union(set(no))\n",
        "    idx_to_drop = []\n",
        "    for idx, row in df.iterrows():\n",
        "        if row['categories'] is not np.nan: \n",
        "            entries = row['categories'].split(',')\n",
        "            for entry in entries:\n",
        "                entry = entry.strip().lower()\n",
        "                if entry in yes: \n",
        "                    break\n",
        "                if entry in no:\n",
        "                    idx_to_drop.append(idx)\n",
        "                    break\n",
        "        elif row['attributes.HairSpecializesIn'] is not np.nan:  # if 'categories' is not available, use 'attributes' to filter\n",
        "            idx_to_drop.append(idx) \n",
        "                    \n",
        "    return df.drop(index=idx_to_drop)\n",
        "\n",
        "print(\"# of businesses of all categories:\", len(business))\n",
        "business = rmv_non_restaurant_busi(business)\n",
        "print(\"# of businesses related to restaurants:\", len(business))"
      ],
      "metadata": {
        "id": "1qBgNHxLDrxi"
      },
      "execution_count": null,
      "outputs": []
    },
    {
      "cell_type": "code",
      "source": [
        "# extract cuisine and style information from the 'categories' columns\n",
        "\n",
        "# define a default list for restaurant cuisines and restaurant styles\n",
        "cuisines = ['mexican','italian','chinese','japanese','thai','indian','american (new)','american (traditional)',\\\n",
        "            'french','middle eastern','korean','mediterranean','vietnamese','cajun','greek','hawaiian',\\\n",
        "            'asian fusion','vegetarian','vegan','steakhouse','barbeque','sushi bars','tex-mex','specialty food',\\\n",
        "            'gluten-free','coffee & tea','desserts','seafood','ice cream & frozen yogurt','bakeries','beer',\\\n",
        "            'wine & spirits','soup','pizza','hot dogs','burgers','donuts','cupcakes','salad','tacos',\\\n",
        "            'chicken wings','sandwiches','bubble tea','tapas/small plates','shaved ice','bagels','southern',\\\n",
        "            'local flavor','latin american','custom cakes','ethinic food']\n",
        "styles = ['restaurants','fast food','food stands','street vendors','nightlife','buffets','bars','food trucks',\\\n",
        "          'breakfast & brunch','diners','cocktail bars','pubs','sports bars','wine bars','beer bars',\\\n",
        "          'casinos','juice bars & smoothies','caterers','delis','cafes','lounges','music venues',\\\n",
        "          'performing arts','food delivery services','dive bars','dance clubs','breweries']\n",
        "\n",
        "# initiate two new columns 'cuisine' and 'style'\n",
        "data['cuisine'] = None\n",
        "data['style'] = None\n",
        "\n",
        "# loop over the 'data' dataframe and extract cuisines and styles from the 'categories' column\n",
        "for idx, row in data.iterrows():\n",
        "    if row['categories'] is not np.nan:\n",
        "        entries = row['categories'].split(',')\n",
        "        for entry in entries:\n",
        "            entry = entry.strip().lower()\n",
        "            if entry in cuisines: \n",
        "                if data.loc[idx,'cuisine'] == None: \n",
        "                    data.loc[idx,'cuisine'] = entry\n",
        "                else:\n",
        "                    data.loc[idx,'cuisine'] += (', ' + entry)\n",
        "                    \n",
        "            elif entry in styles:\n",
        "                if data.loc[idx,'style'] == None:\n",
        "                    data.loc[idx,'style'] = entry\n",
        "                else:\n",
        "                   data.loc[idx,'style'] += (', ' + entry)\n",
        "data.fillna(value=pd.np.nan, inplace=True) # update None with NaN"
      ],
      "metadata": {
        "id": "EiONII87EvRA"
      },
      "execution_count": null,
      "outputs": []
    },
    {
      "cell_type": "code",
      "source": [
        "data.reset_index(drop=True, inplace=True)\n",
        "print(data.info())"
      ],
      "metadata": {
        "id": "X-rK0wukE8PD"
      },
      "execution_count": null,
      "outputs": []
    },
    {
      "cell_type": "code",
      "source": [
        "data.to_csv('business_final.csv',index=False)"
      ],
      "metadata": {
        "id": "UUveTSUmFFTL"
      },
      "execution_count": null,
      "outputs": []
    }
  ]
}