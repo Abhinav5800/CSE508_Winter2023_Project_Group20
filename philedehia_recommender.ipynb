{
  "nbformat": 4,
  "nbformat_minor": 0,
  "metadata": {
    "colab": {
      "provenance": []
    },
    "kernelspec": {
      "name": "python3",
      "display_name": "Python 3"
    },
    "language_info": {
      "name": "python"
    }
  },
  "cells": [
    {
      "cell_type": "code",
      "execution_count": null,
      "metadata": {
        "id": "J4JZxeGKveMh"
      },
      "outputs": [],
      "source": [
        "import pandas as pd\n",
        "import numpy as np\n",
        "import matplotlib.pyplot as plt\n"
      ]
    },
    {
      "cell_type": "code",
      "source": [
        "df = pd.read_csv('/content/drive/MyDrive/2017-2021_restaurant(2)_reviews.csv')"
      ],
      "metadata": {
        "id": "HWYpwIzLvjj2"
      },
      "execution_count": null,
      "outputs": []
    },
    {
      "cell_type": "code",
      "source": [
        "df.head()"
      ],
      "metadata": {
        "colab": {
          "base_uri": "https://localhost:8080/",
          "height": 704
        },
        "id": "q8FcCsBTv-1L",
        "outputId": "0f280d0d-66d9-4fb6-a18c-3d7237576e25"
      },
      "execution_count": null,
      "outputs": [
        {
          "output_type": "execute_result",
          "data": {
            "text/plain": [
              "              business_id      name  \\\n",
              "0  -ATiAtTikuGuqvaW2O6tNA  Marathon   \n",
              "1  -ATiAtTikuGuqvaW2O6tNA  Marathon   \n",
              "2  -ATiAtTikuGuqvaW2O6tNA  Marathon   \n",
              "3  -ATiAtTikuGuqvaW2O6tNA  Marathon   \n",
              "4  -ATiAtTikuGuqvaW2O6tNA  Marathon   \n",
              "\n",
              "                                          categories  avg_stars  \\\n",
              "0  Sandwiches, American (New), Lounges, Nightlife...        3.5   \n",
              "1  Sandwiches, American (New), Lounges, Nightlife...        3.5   \n",
              "2  Sandwiches, American (New), Lounges, Nightlife...        3.5   \n",
              "3  Sandwiches, American (New), Lounges, Nightlife...        3.5   \n",
              "4  Sandwiches, American (New), Lounges, Nightlife...        3.5   \n",
              "\n",
              "                review_id                 user_id  stars  useful  funny  cool  \\\n",
              "0  7FLXp3VCE1RHOqsGBk2JNg  OBoeuSW39_uwUXGtN4vdOA      4       0      0     0   \n",
              "1  DGkj-4PdsCtzQUtN5A42tA  mhwNRi3mBekFM-9zN2aRxw      5       0      0     0   \n",
              "2  ulLwjsg4vc-tjsLI3lx6QQ  PWjXfHHm5LQhyPgZcedLzA      3       0      0     0   \n",
              "3  29pECaECmT2iHVDK_gY8bA  s2apTe1qD9Bytunpj4enMw      4       0      0     0   \n",
              "4  jS-Se0swmLUwYsFjeNoLTg  QZy2N84_45OkPU_oUxy6Dw      4       0      0     0   \n",
              "\n",
              "                                                text                 date  \\\n",
              "0  Straight to the point: the service, the one di...  2017-09-09 12:33:12   \n",
              "1  Great turkey burger. I would've taken a photo ...  2017-11-10 18:48:06   \n",
              "2  I ordered the turkey chilli and it was sold ou...  2018-03-19 11:13:32   \n",
              "3  Went here with friends on a Thursday evening a...  2018-07-18 00:49:32   \n",
              "4  Great place. We had excellent 4 star vegetaria...  2017-02-20 01:11:49   \n",
              "\n",
              "   Mexican  count  \n",
              "0    False    113  \n",
              "1    False    113  \n",
              "2    False    113  \n",
              "3    False    113  \n",
              "4    False    113  "
            ],
            "text/html": [
              "\n",
              "  <div id=\"df-d01caa39-7e35-402d-9d3e-1d1484bc0154\">\n",
              "    <div class=\"colab-df-container\">\n",
              "      <div>\n",
              "<style scoped>\n",
              "    .dataframe tbody tr th:only-of-type {\n",
              "        vertical-align: middle;\n",
              "    }\n",
              "\n",
              "    .dataframe tbody tr th {\n",
              "        vertical-align: top;\n",
              "    }\n",
              "\n",
              "    .dataframe thead th {\n",
              "        text-align: right;\n",
              "    }\n",
              "</style>\n",
              "<table border=\"1\" class=\"dataframe\">\n",
              "  <thead>\n",
              "    <tr style=\"text-align: right;\">\n",
              "      <th></th>\n",
              "      <th>business_id</th>\n",
              "      <th>name</th>\n",
              "      <th>categories</th>\n",
              "      <th>avg_stars</th>\n",
              "      <th>review_id</th>\n",
              "      <th>user_id</th>\n",
              "      <th>stars</th>\n",
              "      <th>useful</th>\n",
              "      <th>funny</th>\n",
              "      <th>cool</th>\n",
              "      <th>text</th>\n",
              "      <th>date</th>\n",
              "      <th>Mexican</th>\n",
              "      <th>count</th>\n",
              "    </tr>\n",
              "  </thead>\n",
              "  <tbody>\n",
              "    <tr>\n",
              "      <th>0</th>\n",
              "      <td>-ATiAtTikuGuqvaW2O6tNA</td>\n",
              "      <td>Marathon</td>\n",
              "      <td>Sandwiches, American (New), Lounges, Nightlife...</td>\n",
              "      <td>3.5</td>\n",
              "      <td>7FLXp3VCE1RHOqsGBk2JNg</td>\n",
              "      <td>OBoeuSW39_uwUXGtN4vdOA</td>\n",
              "      <td>4</td>\n",
              "      <td>0</td>\n",
              "      <td>0</td>\n",
              "      <td>0</td>\n",
              "      <td>Straight to the point: the service, the one di...</td>\n",
              "      <td>2017-09-09 12:33:12</td>\n",
              "      <td>False</td>\n",
              "      <td>113</td>\n",
              "    </tr>\n",
              "    <tr>\n",
              "      <th>1</th>\n",
              "      <td>-ATiAtTikuGuqvaW2O6tNA</td>\n",
              "      <td>Marathon</td>\n",
              "      <td>Sandwiches, American (New), Lounges, Nightlife...</td>\n",
              "      <td>3.5</td>\n",
              "      <td>DGkj-4PdsCtzQUtN5A42tA</td>\n",
              "      <td>mhwNRi3mBekFM-9zN2aRxw</td>\n",
              "      <td>5</td>\n",
              "      <td>0</td>\n",
              "      <td>0</td>\n",
              "      <td>0</td>\n",
              "      <td>Great turkey burger. I would've taken a photo ...</td>\n",
              "      <td>2017-11-10 18:48:06</td>\n",
              "      <td>False</td>\n",
              "      <td>113</td>\n",
              "    </tr>\n",
              "    <tr>\n",
              "      <th>2</th>\n",
              "      <td>-ATiAtTikuGuqvaW2O6tNA</td>\n",
              "      <td>Marathon</td>\n",
              "      <td>Sandwiches, American (New), Lounges, Nightlife...</td>\n",
              "      <td>3.5</td>\n",
              "      <td>ulLwjsg4vc-tjsLI3lx6QQ</td>\n",
              "      <td>PWjXfHHm5LQhyPgZcedLzA</td>\n",
              "      <td>3</td>\n",
              "      <td>0</td>\n",
              "      <td>0</td>\n",
              "      <td>0</td>\n",
              "      <td>I ordered the turkey chilli and it was sold ou...</td>\n",
              "      <td>2018-03-19 11:13:32</td>\n",
              "      <td>False</td>\n",
              "      <td>113</td>\n",
              "    </tr>\n",
              "    <tr>\n",
              "      <th>3</th>\n",
              "      <td>-ATiAtTikuGuqvaW2O6tNA</td>\n",
              "      <td>Marathon</td>\n",
              "      <td>Sandwiches, American (New), Lounges, Nightlife...</td>\n",
              "      <td>3.5</td>\n",
              "      <td>29pECaECmT2iHVDK_gY8bA</td>\n",
              "      <td>s2apTe1qD9Bytunpj4enMw</td>\n",
              "      <td>4</td>\n",
              "      <td>0</td>\n",
              "      <td>0</td>\n",
              "      <td>0</td>\n",
              "      <td>Went here with friends on a Thursday evening a...</td>\n",
              "      <td>2018-07-18 00:49:32</td>\n",
              "      <td>False</td>\n",
              "      <td>113</td>\n",
              "    </tr>\n",
              "    <tr>\n",
              "      <th>4</th>\n",
              "      <td>-ATiAtTikuGuqvaW2O6tNA</td>\n",
              "      <td>Marathon</td>\n",
              "      <td>Sandwiches, American (New), Lounges, Nightlife...</td>\n",
              "      <td>3.5</td>\n",
              "      <td>jS-Se0swmLUwYsFjeNoLTg</td>\n",
              "      <td>QZy2N84_45OkPU_oUxy6Dw</td>\n",
              "      <td>4</td>\n",
              "      <td>0</td>\n",
              "      <td>0</td>\n",
              "      <td>0</td>\n",
              "      <td>Great place. We had excellent 4 star vegetaria...</td>\n",
              "      <td>2017-02-20 01:11:49</td>\n",
              "      <td>False</td>\n",
              "      <td>113</td>\n",
              "    </tr>\n",
              "  </tbody>\n",
              "</table>\n",
              "</div>\n",
              "      <button class=\"colab-df-convert\" onclick=\"convertToInteractive('df-d01caa39-7e35-402d-9d3e-1d1484bc0154')\"\n",
              "              title=\"Convert this dataframe to an interactive table.\"\n",
              "              style=\"display:none;\">\n",
              "        \n",
              "  <svg xmlns=\"http://www.w3.org/2000/svg\" height=\"24px\"viewBox=\"0 0 24 24\"\n",
              "       width=\"24px\">\n",
              "    <path d=\"M0 0h24v24H0V0z\" fill=\"none\"/>\n",
              "    <path d=\"M18.56 5.44l.94 2.06.94-2.06 2.06-.94-2.06-.94-.94-2.06-.94 2.06-2.06.94zm-11 1L8.5 8.5l.94-2.06 2.06-.94-2.06-.94L8.5 2.5l-.94 2.06-2.06.94zm10 10l.94 2.06.94-2.06 2.06-.94-2.06-.94-.94-2.06-.94 2.06-2.06.94z\"/><path d=\"M17.41 7.96l-1.37-1.37c-.4-.4-.92-.59-1.43-.59-.52 0-1.04.2-1.43.59L10.3 9.45l-7.72 7.72c-.78.78-.78 2.05 0 2.83L4 21.41c.39.39.9.59 1.41.59.51 0 1.02-.2 1.41-.59l7.78-7.78 2.81-2.81c.8-.78.8-2.07 0-2.86zM5.41 20L4 18.59l7.72-7.72 1.47 1.35L5.41 20z\"/>\n",
              "  </svg>\n",
              "      </button>\n",
              "      \n",
              "  <style>\n",
              "    .colab-df-container {\n",
              "      display:flex;\n",
              "      flex-wrap:wrap;\n",
              "      gap: 12px;\n",
              "    }\n",
              "\n",
              "    .colab-df-convert {\n",
              "      background-color: #E8F0FE;\n",
              "      border: none;\n",
              "      border-radius: 50%;\n",
              "      cursor: pointer;\n",
              "      display: none;\n",
              "      fill: #1967D2;\n",
              "      height: 32px;\n",
              "      padding: 0 0 0 0;\n",
              "      width: 32px;\n",
              "    }\n",
              "\n",
              "    .colab-df-convert:hover {\n",
              "      background-color: #E2EBFA;\n",
              "      box-shadow: 0px 1px 2px rgba(60, 64, 67, 0.3), 0px 1px 3px 1px rgba(60, 64, 67, 0.15);\n",
              "      fill: #174EA6;\n",
              "    }\n",
              "\n",
              "    [theme=dark] .colab-df-convert {\n",
              "      background-color: #3B4455;\n",
              "      fill: #D2E3FC;\n",
              "    }\n",
              "\n",
              "    [theme=dark] .colab-df-convert:hover {\n",
              "      background-color: #434B5C;\n",
              "      box-shadow: 0px 1px 3px 1px rgba(0, 0, 0, 0.15);\n",
              "      filter: drop-shadow(0px 1px 2px rgba(0, 0, 0, 0.3));\n",
              "      fill: #FFFFFF;\n",
              "    }\n",
              "  </style>\n",
              "\n",
              "      <script>\n",
              "        const buttonEl =\n",
              "          document.querySelector('#df-d01caa39-7e35-402d-9d3e-1d1484bc0154 button.colab-df-convert');\n",
              "        buttonEl.style.display =\n",
              "          google.colab.kernel.accessAllowed ? 'block' : 'none';\n",
              "\n",
              "        async function convertToInteractive(key) {\n",
              "          const element = document.querySelector('#df-d01caa39-7e35-402d-9d3e-1d1484bc0154');\n",
              "          const dataTable =\n",
              "            await google.colab.kernel.invokeFunction('convertToInteractive',\n",
              "                                                     [key], {});\n",
              "          if (!dataTable) return;\n",
              "\n",
              "          const docLinkHtml = 'Like what you see? Visit the ' +\n",
              "            '<a target=\"_blank\" href=https://colab.research.google.com/notebooks/data_table.ipynb>data table notebook</a>'\n",
              "            + ' to learn more about interactive tables.';\n",
              "          element.innerHTML = '';\n",
              "          dataTable['output_type'] = 'display_data';\n",
              "          await google.colab.output.renderOutput(dataTable, element);\n",
              "          const docLink = document.createElement('div');\n",
              "          docLink.innerHTML = docLinkHtml;\n",
              "          element.appendChild(docLink);\n",
              "        }\n",
              "      </script>\n",
              "    </div>\n",
              "  </div>\n",
              "  "
            ]
          },
          "metadata": {},
          "execution_count": 3
        }
      ]
    },
    {
      "cell_type": "markdown",
      "source": [
        "# Clean data and get rating data"
      ],
      "metadata": {
        "id": "L7ZrLSKawF8m"
      }
    },
    {
      "cell_type": "code",
      "source": [
        " #Get business_id, user_id, stars for recommender\n",
        "\n",
        "recommender_df = df[['business_id', 'user_id', 'stars']]\n",
        "recommender_df.head()"
      ],
      "metadata": {
        "colab": {
          "base_uri": "https://localhost:8080/",
          "height": 206
        },
        "id": "4cIlRQHMwKI6",
        "outputId": "0547f3fa-29ec-459c-f905-1cf8b9f972ba"
      },
      "execution_count": null,
      "outputs": [
        {
          "output_type": "execute_result",
          "data": {
            "text/plain": [
              "              business_id                 user_id  stars\n",
              "0  -ATiAtTikuGuqvaW2O6tNA  OBoeuSW39_uwUXGtN4vdOA      4\n",
              "1  -ATiAtTikuGuqvaW2O6tNA  mhwNRi3mBekFM-9zN2aRxw      5\n",
              "2  -ATiAtTikuGuqvaW2O6tNA  PWjXfHHm5LQhyPgZcedLzA      3\n",
              "3  -ATiAtTikuGuqvaW2O6tNA  s2apTe1qD9Bytunpj4enMw      4\n",
              "4  -ATiAtTikuGuqvaW2O6tNA  QZy2N84_45OkPU_oUxy6Dw      4"
            ],
            "text/html": [
              "\n",
              "  <div id=\"df-5a0f8abb-bbd6-4112-8eb3-ce942290776b\">\n",
              "    <div class=\"colab-df-container\">\n",
              "      <div>\n",
              "<style scoped>\n",
              "    .dataframe tbody tr th:only-of-type {\n",
              "        vertical-align: middle;\n",
              "    }\n",
              "\n",
              "    .dataframe tbody tr th {\n",
              "        vertical-align: top;\n",
              "    }\n",
              "\n",
              "    .dataframe thead th {\n",
              "        text-align: right;\n",
              "    }\n",
              "</style>\n",
              "<table border=\"1\" class=\"dataframe\">\n",
              "  <thead>\n",
              "    <tr style=\"text-align: right;\">\n",
              "      <th></th>\n",
              "      <th>business_id</th>\n",
              "      <th>user_id</th>\n",
              "      <th>stars</th>\n",
              "    </tr>\n",
              "  </thead>\n",
              "  <tbody>\n",
              "    <tr>\n",
              "      <th>0</th>\n",
              "      <td>-ATiAtTikuGuqvaW2O6tNA</td>\n",
              "      <td>OBoeuSW39_uwUXGtN4vdOA</td>\n",
              "      <td>4</td>\n",
              "    </tr>\n",
              "    <tr>\n",
              "      <th>1</th>\n",
              "      <td>-ATiAtTikuGuqvaW2O6tNA</td>\n",
              "      <td>mhwNRi3mBekFM-9zN2aRxw</td>\n",
              "      <td>5</td>\n",
              "    </tr>\n",
              "    <tr>\n",
              "      <th>2</th>\n",
              "      <td>-ATiAtTikuGuqvaW2O6tNA</td>\n",
              "      <td>PWjXfHHm5LQhyPgZcedLzA</td>\n",
              "      <td>3</td>\n",
              "    </tr>\n",
              "    <tr>\n",
              "      <th>3</th>\n",
              "      <td>-ATiAtTikuGuqvaW2O6tNA</td>\n",
              "      <td>s2apTe1qD9Bytunpj4enMw</td>\n",
              "      <td>4</td>\n",
              "    </tr>\n",
              "    <tr>\n",
              "      <th>4</th>\n",
              "      <td>-ATiAtTikuGuqvaW2O6tNA</td>\n",
              "      <td>QZy2N84_45OkPU_oUxy6Dw</td>\n",
              "      <td>4</td>\n",
              "    </tr>\n",
              "  </tbody>\n",
              "</table>\n",
              "</div>\n",
              "      <button class=\"colab-df-convert\" onclick=\"convertToInteractive('df-5a0f8abb-bbd6-4112-8eb3-ce942290776b')\"\n",
              "              title=\"Convert this dataframe to an interactive table.\"\n",
              "              style=\"display:none;\">\n",
              "        \n",
              "  <svg xmlns=\"http://www.w3.org/2000/svg\" height=\"24px\"viewBox=\"0 0 24 24\"\n",
              "       width=\"24px\">\n",
              "    <path d=\"M0 0h24v24H0V0z\" fill=\"none\"/>\n",
              "    <path d=\"M18.56 5.44l.94 2.06.94-2.06 2.06-.94-2.06-.94-.94-2.06-.94 2.06-2.06.94zm-11 1L8.5 8.5l.94-2.06 2.06-.94-2.06-.94L8.5 2.5l-.94 2.06-2.06.94zm10 10l.94 2.06.94-2.06 2.06-.94-2.06-.94-.94-2.06-.94 2.06-2.06.94z\"/><path d=\"M17.41 7.96l-1.37-1.37c-.4-.4-.92-.59-1.43-.59-.52 0-1.04.2-1.43.59L10.3 9.45l-7.72 7.72c-.78.78-.78 2.05 0 2.83L4 21.41c.39.39.9.59 1.41.59.51 0 1.02-.2 1.41-.59l7.78-7.78 2.81-2.81c.8-.78.8-2.07 0-2.86zM5.41 20L4 18.59l7.72-7.72 1.47 1.35L5.41 20z\"/>\n",
              "  </svg>\n",
              "      </button>\n",
              "      \n",
              "  <style>\n",
              "    .colab-df-container {\n",
              "      display:flex;\n",
              "      flex-wrap:wrap;\n",
              "      gap: 12px;\n",
              "    }\n",
              "\n",
              "    .colab-df-convert {\n",
              "      background-color: #E8F0FE;\n",
              "      border: none;\n",
              "      border-radius: 50%;\n",
              "      cursor: pointer;\n",
              "      display: none;\n",
              "      fill: #1967D2;\n",
              "      height: 32px;\n",
              "      padding: 0 0 0 0;\n",
              "      width: 32px;\n",
              "    }\n",
              "\n",
              "    .colab-df-convert:hover {\n",
              "      background-color: #E2EBFA;\n",
              "      box-shadow: 0px 1px 2px rgba(60, 64, 67, 0.3), 0px 1px 3px 1px rgba(60, 64, 67, 0.15);\n",
              "      fill: #174EA6;\n",
              "    }\n",
              "\n",
              "    [theme=dark] .colab-df-convert {\n",
              "      background-color: #3B4455;\n",
              "      fill: #D2E3FC;\n",
              "    }\n",
              "\n",
              "    [theme=dark] .colab-df-convert:hover {\n",
              "      background-color: #434B5C;\n",
              "      box-shadow: 0px 1px 3px 1px rgba(0, 0, 0, 0.15);\n",
              "      filter: drop-shadow(0px 1px 2px rgba(0, 0, 0, 0.3));\n",
              "      fill: #FFFFFF;\n",
              "    }\n",
              "  </style>\n",
              "\n",
              "      <script>\n",
              "        const buttonEl =\n",
              "          document.querySelector('#df-5a0f8abb-bbd6-4112-8eb3-ce942290776b button.colab-df-convert');\n",
              "        buttonEl.style.display =\n",
              "          google.colab.kernel.accessAllowed ? 'block' : 'none';\n",
              "\n",
              "        async function convertToInteractive(key) {\n",
              "          const element = document.querySelector('#df-5a0f8abb-bbd6-4112-8eb3-ce942290776b');\n",
              "          const dataTable =\n",
              "            await google.colab.kernel.invokeFunction('convertToInteractive',\n",
              "                                                     [key], {});\n",
              "          if (!dataTable) return;\n",
              "\n",
              "          const docLinkHtml = 'Like what you see? Visit the ' +\n",
              "            '<a target=\"_blank\" href=https://colab.research.google.com/notebooks/data_table.ipynb>data table notebook</a>'\n",
              "            + ' to learn more about interactive tables.';\n",
              "          element.innerHTML = '';\n",
              "          dataTable['output_type'] = 'display_data';\n",
              "          await google.colab.output.renderOutput(dataTable, element);\n",
              "          const docLink = document.createElement('div');\n",
              "          docLink.innerHTML = docLinkHtml;\n",
              "          element.appendChild(docLink);\n",
              "        }\n",
              "      </script>\n",
              "    </div>\n",
              "  </div>\n",
              "  "
            ]
          },
          "metadata": {},
          "execution_count": 4
        }
      ]
    },
    {
      "cell_type": "code",
      "source": [
        "reviews_count_df = recommender_df.groupby('user_id')['stars'].count()\n",
        "reviews_count_df.head(5)"
      ],
      "metadata": {
        "colab": {
          "base_uri": "https://localhost:8080/"
        },
        "id": "LofetxBJwRyS",
        "outputId": "eac52dc9-b50b-45e3-9630-badb56f5f048"
      },
      "execution_count": null,
      "outputs": [
        {
          "output_type": "execute_result",
          "data": {
            "text/plain": [
              "user_id\n",
              "--S8M395r8NtOCvS2LRfDw    1\n",
              "-073IXD_JkLK8SlRcsV-og    1\n",
              "-0TIxezdO7xXrkP7zXFd8Q    1\n",
              "-0ULpQ_pBrG2wOFOG2Iejg    1\n",
              "-0aInSHjCWLfiNqfgmWnow    1\n",
              "Name: stars, dtype: int64"
            ]
          },
          "metadata": {},
          "execution_count": 5
        }
      ]
    },
    {
      "cell_type": "code",
      "source": [
        "print('Max reviews: %s, Min reviews: %s' % (max(reviews_count_df), min(reviews_count_df)))\n",
        "print('Median reviews: %s, Mean reviews: %s' % (np.median(reviews_count_df), round(np.mean(reviews_count_df),2)))\n",
        "print('25%% reviews: %d,  75%% reviews: %d' % (np.percentile(reviews_count_df, 25), np.percentile(reviews_count_df, 75)))\n",
        "print('Number of unique business: %d' % (len(set(recommender_df['business_id']))))"
      ],
      "metadata": {
        "colab": {
          "base_uri": "https://localhost:8080/"
        },
        "id": "D77r4_PNwZb5",
        "outputId": "e6e7d144-54fd-479c-ce88-50adb870099e"
      },
      "execution_count": null,
      "outputs": [
        {
          "output_type": "stream",
          "name": "stdout",
          "text": [
            "Max reviews: 21, Min reviews: 1\n",
            "Median reviews: 1.0, Mean reviews: 1.22\n",
            "25% reviews: 1,  75% reviews: 1\n",
            "Number of unique business: 445\n"
          ]
        }
      ]
    },
    {
      "cell_type": "code",
      "source": [
        "active_user = list(reviews_count_df[reviews_count_df >= 5].index)\n",
        "mask = [user in active_user for user in recommender_df['user_id']]\n",
        "active_user_df = recommender_df[mask]\n",
        "active_user_df.head(5)"
      ],
      "metadata": {
        "colab": {
          "base_uri": "https://localhost:8080/",
          "height": 206
        },
        "id": "wCeB3UdBwe5a",
        "outputId": "a7ef7056-b470-4c6b-d689-7c46fb29feb9"
      },
      "execution_count": null,
      "outputs": [
        {
          "output_type": "execute_result",
          "data": {
            "text/plain": [
              "               business_id                 user_id  stars\n",
              "28  -ATiAtTikuGuqvaW2O6tNA  Zq31drx-JM2R1MKQg8uJQw      4\n",
              "50  -ATiAtTikuGuqvaW2O6tNA  UqTvUrtM9VZfcnjMyvfZxA      3\n",
              "52  -ATiAtTikuGuqvaW2O6tNA  55fCofuKVb7XP3newzmX3w      4\n",
              "58  -ATiAtTikuGuqvaW2O6tNA  l3ElIU_Wsz16qnBp690mvA      4\n",
              "60  -ATiAtTikuGuqvaW2O6tNA  i9pHdGTNsm-Uh8dHDwKATw      3"
            ],
            "text/html": [
              "\n",
              "  <div id=\"df-da6e9827-0163-49ed-8385-41845b6d4d2b\">\n",
              "    <div class=\"colab-df-container\">\n",
              "      <div>\n",
              "<style scoped>\n",
              "    .dataframe tbody tr th:only-of-type {\n",
              "        vertical-align: middle;\n",
              "    }\n",
              "\n",
              "    .dataframe tbody tr th {\n",
              "        vertical-align: top;\n",
              "    }\n",
              "\n",
              "    .dataframe thead th {\n",
              "        text-align: right;\n",
              "    }\n",
              "</style>\n",
              "<table border=\"1\" class=\"dataframe\">\n",
              "  <thead>\n",
              "    <tr style=\"text-align: right;\">\n",
              "      <th></th>\n",
              "      <th>business_id</th>\n",
              "      <th>user_id</th>\n",
              "      <th>stars</th>\n",
              "    </tr>\n",
              "  </thead>\n",
              "  <tbody>\n",
              "    <tr>\n",
              "      <th>28</th>\n",
              "      <td>-ATiAtTikuGuqvaW2O6tNA</td>\n",
              "      <td>Zq31drx-JM2R1MKQg8uJQw</td>\n",
              "      <td>4</td>\n",
              "    </tr>\n",
              "    <tr>\n",
              "      <th>50</th>\n",
              "      <td>-ATiAtTikuGuqvaW2O6tNA</td>\n",
              "      <td>UqTvUrtM9VZfcnjMyvfZxA</td>\n",
              "      <td>3</td>\n",
              "    </tr>\n",
              "    <tr>\n",
              "      <th>52</th>\n",
              "      <td>-ATiAtTikuGuqvaW2O6tNA</td>\n",
              "      <td>55fCofuKVb7XP3newzmX3w</td>\n",
              "      <td>4</td>\n",
              "    </tr>\n",
              "    <tr>\n",
              "      <th>58</th>\n",
              "      <td>-ATiAtTikuGuqvaW2O6tNA</td>\n",
              "      <td>l3ElIU_Wsz16qnBp690mvA</td>\n",
              "      <td>4</td>\n",
              "    </tr>\n",
              "    <tr>\n",
              "      <th>60</th>\n",
              "      <td>-ATiAtTikuGuqvaW2O6tNA</td>\n",
              "      <td>i9pHdGTNsm-Uh8dHDwKATw</td>\n",
              "      <td>3</td>\n",
              "    </tr>\n",
              "  </tbody>\n",
              "</table>\n",
              "</div>\n",
              "      <button class=\"colab-df-convert\" onclick=\"convertToInteractive('df-da6e9827-0163-49ed-8385-41845b6d4d2b')\"\n",
              "              title=\"Convert this dataframe to an interactive table.\"\n",
              "              style=\"display:none;\">\n",
              "        \n",
              "  <svg xmlns=\"http://www.w3.org/2000/svg\" height=\"24px\"viewBox=\"0 0 24 24\"\n",
              "       width=\"24px\">\n",
              "    <path d=\"M0 0h24v24H0V0z\" fill=\"none\"/>\n",
              "    <path d=\"M18.56 5.44l.94 2.06.94-2.06 2.06-.94-2.06-.94-.94-2.06-.94 2.06-2.06.94zm-11 1L8.5 8.5l.94-2.06 2.06-.94-2.06-.94L8.5 2.5l-.94 2.06-2.06.94zm10 10l.94 2.06.94-2.06 2.06-.94-2.06-.94-.94-2.06-.94 2.06-2.06.94z\"/><path d=\"M17.41 7.96l-1.37-1.37c-.4-.4-.92-.59-1.43-.59-.52 0-1.04.2-1.43.59L10.3 9.45l-7.72 7.72c-.78.78-.78 2.05 0 2.83L4 21.41c.39.39.9.59 1.41.59.51 0 1.02-.2 1.41-.59l7.78-7.78 2.81-2.81c.8-.78.8-2.07 0-2.86zM5.41 20L4 18.59l7.72-7.72 1.47 1.35L5.41 20z\"/>\n",
              "  </svg>\n",
              "      </button>\n",
              "      \n",
              "  <style>\n",
              "    .colab-df-container {\n",
              "      display:flex;\n",
              "      flex-wrap:wrap;\n",
              "      gap: 12px;\n",
              "    }\n",
              "\n",
              "    .colab-df-convert {\n",
              "      background-color: #E8F0FE;\n",
              "      border: none;\n",
              "      border-radius: 50%;\n",
              "      cursor: pointer;\n",
              "      display: none;\n",
              "      fill: #1967D2;\n",
              "      height: 32px;\n",
              "      padding: 0 0 0 0;\n",
              "      width: 32px;\n",
              "    }\n",
              "\n",
              "    .colab-df-convert:hover {\n",
              "      background-color: #E2EBFA;\n",
              "      box-shadow: 0px 1px 2px rgba(60, 64, 67, 0.3), 0px 1px 3px 1px rgba(60, 64, 67, 0.15);\n",
              "      fill: #174EA6;\n",
              "    }\n",
              "\n",
              "    [theme=dark] .colab-df-convert {\n",
              "      background-color: #3B4455;\n",
              "      fill: #D2E3FC;\n",
              "    }\n",
              "\n",
              "    [theme=dark] .colab-df-convert:hover {\n",
              "      background-color: #434B5C;\n",
              "      box-shadow: 0px 1px 3px 1px rgba(0, 0, 0, 0.15);\n",
              "      filter: drop-shadow(0px 1px 2px rgba(0, 0, 0, 0.3));\n",
              "      fill: #FFFFFF;\n",
              "    }\n",
              "  </style>\n",
              "\n",
              "      <script>\n",
              "        const buttonEl =\n",
              "          document.querySelector('#df-da6e9827-0163-49ed-8385-41845b6d4d2b button.colab-df-convert');\n",
              "        buttonEl.style.display =\n",
              "          google.colab.kernel.accessAllowed ? 'block' : 'none';\n",
              "\n",
              "        async function convertToInteractive(key) {\n",
              "          const element = document.querySelector('#df-da6e9827-0163-49ed-8385-41845b6d4d2b');\n",
              "          const dataTable =\n",
              "            await google.colab.kernel.invokeFunction('convertToInteractive',\n",
              "                                                     [key], {});\n",
              "          if (!dataTable) return;\n",
              "\n",
              "          const docLinkHtml = 'Like what you see? Visit the ' +\n",
              "            '<a target=\"_blank\" href=https://colab.research.google.com/notebooks/data_table.ipynb>data table notebook</a>'\n",
              "            + ' to learn more about interactive tables.';\n",
              "          element.innerHTML = '';\n",
              "          dataTable['output_type'] = 'display_data';\n",
              "          await google.colab.output.renderOutput(dataTable, element);\n",
              "          const docLink = document.createElement('div');\n",
              "          docLink.innerHTML = docLinkHtml;\n",
              "          element.appendChild(docLink);\n",
              "        }\n",
              "      </script>\n",
              "    </div>\n",
              "  </div>\n",
              "  "
            ]
          },
          "metadata": {},
          "execution_count": 7
        }
      ]
    },
    {
      "cell_type": "code",
      "source": [
        "# reconstruct user id\n",
        "from scipy import sparse\n",
        "highest_user_id = len(set(active_user_df['user_id']))\n",
        "highest_movie_id = len(set(active_user_df['business_id']))\n",
        "ratings_mat = sparse.lil_matrix((highest_user_id, highest_movie_id))\n",
        "ratings_mat"
      ],
      "metadata": {
        "colab": {
          "base_uri": "https://localhost:8080/"
        },
        "id": "Q5R8kghXwll4",
        "outputId": "74227fd8-9088-49b5-eed2-36b1199baa19"
      },
      "execution_count": null,
      "outputs": [
        {
          "output_type": "execute_result",
          "data": {
            "text/plain": [
              "<104x208 sparse matrix of type '<class 'numpy.float64'>'\n",
              "\twith 0 stored elements in List of Lists format>"
            ]
          },
          "metadata": {},
          "execution_count": 8
        }
      ]
    },
    {
      "cell_type": "code",
      "source": [
        "user_id = list(set(active_user_df['user_id']))\n",
        "business_id = list(set(active_user_df['business_id']))\n",
        "for _, row in active_user_df.iterrows():\n",
        "    ratings_mat[user_id.index(row.user_id), business_id.index(row.business_id)] = row.stars\n",
        "ratings_mat"
      ],
      "metadata": {
        "colab": {
          "base_uri": "https://localhost:8080/"
        },
        "id": "1LcI2oPpws2I",
        "outputId": "3211fa50-514e-4679-c169-e437fd4796ca"
      },
      "execution_count": null,
      "outputs": [
        {
          "output_type": "execute_result",
          "data": {
            "text/plain": [
              "<104x208 sparse matrix of type '<class 'numpy.float64'>'\n",
              "\twith 706 stored elements in List of Lists format>"
            ]
          },
          "metadata": {},
          "execution_count": 9
        }
      ]
    },
    {
      "cell_type": "code",
      "source": [
        "from sklearn.metrics.pairwise import cosine_similarity\n",
        "from time import time\n",
        "class ItemItemRecommender(object):\n",
        "\n",
        "    def __init__(self, neighborhood_size):\n",
        "        self.neighborhood_size = neighborhood_size\n",
        "\n",
        "    def fit(self, ratings_mat):\n",
        "        self.ratings_mat = ratings_mat\n",
        "        self.n_users = ratings_mat.shape[0]\n",
        "        self.n_items = ratings_mat.shape[1]\n",
        "        self.item_sim_mat = cosine_similarity(self.ratings_mat.T)\n",
        "        self._set_neighborhoods()\n",
        "\n",
        "    def _set_neighborhoods(self):\n",
        "        least_to_most_sim_indexes = np.argsort(self.item_sim_mat, 1)\n",
        "        self.neighborhoods = least_to_most_sim_indexes[:, -self.neighborhood_size:]\n",
        "\n",
        "    def pred_one_user(self, user_id, report_run_time=False):\n",
        "        start_time = time()\n",
        "        items_rated_by_this_user = self.ratings_mat[user_id].nonzero()[1]\n",
        "        # Just initializing so I have somewhere to put rating preds\n",
        "        out = np.zeros(self.n_items)\n",
        "        for item_to_rate in range(self.n_items):\n",
        "            relevant_items = np.intersect1d(self.neighborhoods[item_to_rate],\n",
        "                                            items_rated_by_this_user,\n",
        "                                            assume_unique=True)  # assume_unique speeds up intersection op\n",
        "            out[item_to_rate] = self.ratings_mat[user_id, relevant_items] * \\\n",
        "                self.item_sim_mat[item_to_rate, relevant_items] / \\\n",
        "                self.item_sim_mat[item_to_rate, relevant_items].sum()\n",
        "        if report_run_time:\n",
        "            print(\"Execution time: %f seconds\" % (time()-start_time))\n",
        "        cleaned_out = np.nan_to_num(out)\n",
        "        return cleaned_out\n",
        "\n",
        "    def pred_all_users(self, report_run_time=False):\n",
        "        start_time = time()\n",
        "        all_ratings = [\n",
        "            self.pred_one_user(user_id) for user_id in range(self.n_users)]\n",
        "        if report_run_time:\n",
        "            print(\"Execution time: %f seconds\" % (time()-start_time))\n",
        "        return np.array(all_ratings)\n",
        "\n",
        "    def top_n_recs(self, user_id, n):\n",
        "        pred_ratings = self.pred_one_user(user_id)\n",
        "        item_index_sorted_by_pred_rating = list(np.argsort(pred_ratings))\n",
        "        items_rated_by_this_user = self.ratings_mat[user_id].nonzero()[1]\n",
        "        unrated_items_by_pred_rating = [item for item in item_index_sorted_by_pred_rating\n",
        "                                        if item not in items_rated_by_this_user]\n",
        "        return unrated_items_by_pred_rating[-n:], items_rated_by_this_user"
      ],
      "metadata": {
        "id": "Its201Ynwwm9"
      },
      "execution_count": null,
      "outputs": []
    },
    {
      "cell_type": "code",
      "source": [
        "my_rec_engine = ItemItemRecommender(neighborhood_size=80)\n",
        "my_rec_engine.fit(ratings_mat)"
      ],
      "metadata": {
        "id": "sEBKVh6gw3te"
      },
      "execution_count": null,
      "outputs": []
    },
    {
      "cell_type": "code",
      "source": [
        "lucky_user = np.random.choice(active_user_df['user_id'], 1)[0]\n",
        "lucky_user_index = user_id.index(lucky_user)\n",
        "lucky_user_recommend, items_rated_by_this_user = my_rec_engine.top_n_recs(user_id=lucky_user_index, n = 10)"
      ],
      "metadata": {
        "colab": {
          "base_uri": "https://localhost:8080/"
        },
        "id": "2WZt037Uw6hc",
        "outputId": "866b78cc-d61a-42a9-cb1b-1146af927184"
      },
      "execution_count": null,
      "outputs": [
        {
          "output_type": "stream",
          "name": "stderr",
          "text": [
            "<ipython-input-10-92709d5a8ec5>:28: RuntimeWarning: invalid value encountered in true_divide\n",
            "  out[item_to_rate] = self.ratings_mat[user_id, relevant_items] * \\\n"
          ]
        }
      ]
    },
    {
      "cell_type": "code",
      "source": [
        "print(\"The top ten recommendation for user %s are: \" % (lucky_user))\n",
        "print('%s' % (', '.join(list(set(df['name'][df['business_id'] == business_id[i]]))[0] \\\n",
        "                       for i in lucky_user_recommend)))"
      ],
      "metadata": {
        "id": "uzZ2Yv0uw9Ef",
        "colab": {
          "base_uri": "https://localhost:8080/"
        },
        "outputId": "d33a57ef-1102-4eb0-e2c8-7cbb4d9fa7fd"
      },
      "execution_count": null,
      "outputs": [
        {
          "output_type": "stream",
          "name": "stdout",
          "text": [
            "The top ten recommendation for user OLGQ7alK4VKl3YdQk6UF5g are: \n",
            "Tria Cafe Wash West, Marrakesh, In Riva, Mumbai Bistro, Suraya, Han Dynasty, Wiz Kid, Octopus Falafel Truck, HipCityVeg - University City, Green Basil Thai Kitchen\n"
          ]
        }
      ]
    },
    {
      "cell_type": "code",
      "source": [
        "from sklearn.feature_extraction.text import TfidfVectorizer"
      ],
      "metadata": {
        "id": "0DnqlQRPxIlP"
      },
      "execution_count": null,
      "outputs": []
    },
    {
      "cell_type": "code",
      "source": [
        "original_rated_restaurants = [list(set(df['name'][df['business_id'] == business_id[i]]))[0] for i in items_rated_by_this_user]\n",
        "mask = [name in original_rated_restaurants for name in df['name']]\n",
        "original_category = df['categories'][mask]\n",
        "vectorizer = TfidfVectorizer(analyzer = 'word', stop_words = 'english', \n",
        "                             lowercase = True\n",
        "                            )\n",
        "original_category_vec = vectorizer.fit_transform(original_category).toarray()\n",
        "original_word = vectorizer.get_feature_names_out()\n",
        "print('Categories from user rated restaurants: \\n%s' % (','.join(i for i in original_word)))"
      ],
      "metadata": {
        "colab": {
          "base_uri": "https://localhost:8080/"
        },
        "id": "FE_kzE7JxqyW",
        "outputId": "0bb39881-3688-4413-a17f-9af3747d6fdb"
      },
      "execution_count": null,
      "outputs": [
        {
          "output_type": "stream",
          "name": "stdout",
          "text": [
            "Categories from user rated restaurants: \n",
            "american,automotive,bar,bars,beer,breakfast,brunch,burgers,cocktail,coffee,convenience,cuban,delis,food,gas,gastropubs,italian,lounges,new,nightlife,plates,restaurants,sandwiches,seafood,small,stations,steakhouses,stores,tapas,tea,traditional,whiskey\n"
          ]
        }
      ]
    },
    {
      "cell_type": "code",
      "source": [
        "recommend_res = [list(set(df['name'][df['business_id'] == business_id[i]]))[0] \\\n",
        "                 for i in lucky_user_recommend]\n",
        "mask = [name in recommend_res for name in df['name']]\n",
        "recommend_category = df['categories'][mask]\n",
        "vectorizer = TfidfVectorizer(analyzer = 'word', stop_words = 'english', \n",
        "                             lowercase = True\n",
        "                            )\n",
        "recommend_category_vec = vectorizer.fit_transform(recommend_category).toarray()\n",
        "recommend_word = vectorizer.get_feature_names_out()\n",
        "print('Categories from recommend restaurants: \\n%s' % (','.join(i for i in recommend_word)))"
      ],
      "metadata": {
        "id": "MmemWAXMx0R6",
        "colab": {
          "base_uri": "https://localhost:8080/"
        },
        "outputId": "1c555af5-83d8-41f2-d383-72d49efda882"
      },
      "execution_count": null,
      "outputs": [
        {
          "output_type": "stream",
          "name": "stdout",
          "text": [
            "Categories from recommend restaurants: \n",
            "active,american,bars,beer,burgers,cafes,cheese,cheesesteaks,chinese,cocktail,coffee,desserts,eastern,european,falafel,fast,food,gardens,grocery,indian,italian,lebanese,life,mediterranean,middle,modern,moroccan,new,nightlife,parks,pizza,restaurants,sandwiches,shops,specialty,spirits,stands,szechuan,tea,thai,trucks,vegan,wine\n"
          ]
        }
      ]
    },
    {
      "cell_type": "code",
      "source": [
        "#Check the common labels\n",
        "print(\"Common labels are: \\n%s\" % (', '.join(word for word in recommend_word if word in original_word)))"
      ],
      "metadata": {
        "colab": {
          "base_uri": "https://localhost:8080/"
        },
        "id": "-YhtF-8yx3Dg",
        "outputId": "bd4102a0-7e96-4601-9c8b-be59767f243a"
      },
      "execution_count": null,
      "outputs": [
        {
          "output_type": "stream",
          "name": "stdout",
          "text": [
            "Common labels are: \n",
            "american, bars, beer, burgers, cocktail, coffee, food, italian, new, nightlife, restaurants, sandwiches, tea\n"
          ]
        }
      ]
    },
    {
      "cell_type": "markdown",
      "source": [
        "# Matrix Factorization recommender (NMF)"
      ],
      "metadata": {
        "id": "4CHX0wkwidCN"
      }
    },
    {
      "cell_type": "code",
      "source": [
        "from sklearn.decomposition import NMF\n",
        "class NMF_Recommender(object):\n",
        "\n",
        "    def __init__(self, n_components):\n",
        "        self.n_components = n_components\n",
        "\n",
        "    def fit(self, ratings_mat):\n",
        "        self.ratings_mat = ratings_mat\n",
        "        self.n_users = ratings_mat.shape[0]\n",
        "        self.n_items = ratings_mat.shape[1]\n",
        "        nmf = NMF(n_components = 200)\n",
        "        nmf.fit(ratings_mat)\n",
        "        self.W = nmf.transform(ratings_mat)\n",
        "        self.H = nmf.components_\n",
        "        self.error = nmf.reconstruction_err_\n",
        "        self.ratings_mat_fitted = self.W.dot(self.H)\n",
        "\n",
        "    def get_error(self):\n",
        "        return self.error\n",
        "        \n",
        "    def pred_one_user(self, user_id, report_run_time=False):\n",
        "        start_time = time()\n",
        "        cleaned_out = self.ratings_mat_fitted[user_id,:]\n",
        "        if report_run_time:\n",
        "            print(\"Execution time: %f seconds\" % (time()-start_time))\n",
        "        return cleaned_out\n",
        "\n",
        "    def pred_all_users(self, report_run_time=False):\n",
        "        start_time = time()\n",
        "        all_ratings = [\n",
        "            self.pred_one_user(user_id) for user_id in range(self.n_users)]\n",
        "        if report_run_time:\n",
        "            print(\"Execution time: %f seconds\" % (time()-start_time))\n",
        "        return np.array(all_ratings)\n",
        "\n",
        "    def top_n_recs(self, user_id, n):\n",
        "        pred_ratings = self.pred_one_user(user_id)\n",
        "        item_index_sorted_by_pred_rating = list(np.argsort(pred_ratings))\n",
        "        items_rated_by_this_user = self.ratings_mat[user_id].nonzero()[1]\n",
        "        unrated_items_by_pred_rating = [item for item in item_index_sorted_by_pred_rating\n",
        "                                        if item not in items_rated_by_this_user]\n",
        "        return unrated_items_by_pred_rating[-n:], items_rated_by_this_user"
      ],
      "metadata": {
        "id": "w-tr3zb_x9tu"
      },
      "execution_count": null,
      "outputs": []
    },
    {
      "cell_type": "code",
      "source": [
        "\n",
        "# get recommendations for the same lucky user\n",
        "my_rec_engine = NMF_Recommender(n_components=200)\n",
        "my_rec_engine.fit(ratings_mat)\n",
        "lucky_user_recommend, items_rated_by_this_user = my_rec_engine.top_n_recs(user_id=lucky_user_index, n = 10)\n",
        "print(\"The top ten recommendation for user %s are: \" % (lucky_user))\n",
        "print('%s' % (', '.join(list(set(df['name'][df['business_id'] == business_id[i]]))[0] \\\n",
        "                       for i in lucky_user_recommend)))"
      ],
      "metadata": {
        "id": "Fp8j24ufz8W2",
        "colab": {
          "base_uri": "https://localhost:8080/"
        },
        "outputId": "72d3b6f5-19f9-411f-e843-3af781931795"
      },
      "execution_count": null,
      "outputs": [
        {
          "output_type": "stream",
          "name": "stdout",
          "text": [
            "The top ten recommendation for user OLGQ7alK4VKl3YdQk6UF5g are: \n",
            "Spice Finch, Wiz Kid, Green Basil Thai Kitchen, Mumbai Bistro, Tria Cafe Wash West, Marrakesh, Octopus Falafel Truck, Suraya, Han Dynasty, HipCityVeg - University City\n"
          ]
        }
      ]
    },
    {
      "cell_type": "code",
      "source": [
        "print(\"The users original rated resturants are :\\n %s\" % (','.join(list(set(df['name'][df['business_id'] == business_id[i]]))[0] \\\n",
        "                       for i in items_rated_by_this_user)))\n",
        "\n",
        "\n",
        "\n"
      ],
      "metadata": {
        "colab": {
          "base_uri": "https://localhost:8080/"
        },
        "id": "74Q5t78nz8aK",
        "outputId": "b78d9842-68b8-4be4-bed9-5b58b5c44e8e"
      },
      "execution_count": null,
      "outputs": [
        {
          "output_type": "stream",
          "name": "stdout",
          "text": [
            "The users original rated resturants are :\n",
            " R2L,Vetri Cucina,Prohibition Taproom,Marmont Steakhouse & Bar,Village Whiskey,Wawa\n"
          ]
        }
      ]
    },
    {
      "cell_type": "code",
      "source": [
        "original_rated_restaurants = [list(set(df['name'][df['business_id'] == business_id[i]]))[0] for i in items_rated_by_this_user]\n",
        "mask = [name in original_rated_restaurants for name in df['name']]\n",
        "original_category = df['categories'][mask]\n",
        "vectorizer = TfidfVectorizer(analyzer = 'word', stop_words = 'english', \n",
        "                             lowercase = True\n",
        "                            )\n",
        "original_category_vec = vectorizer.fit_transform(original_category).toarray()\n",
        "original_word = vectorizer.get_feature_names_out()\n",
        "print('Categories from user rated restaurants: \\n%s' % (','.join(i for i in original_word)))"
      ],
      "metadata": {
        "id": "GJ6xUaLfztYj",
        "colab": {
          "base_uri": "https://localhost:8080/"
        },
        "outputId": "914d2e49-8762-4882-95cc-b3b95ce7adb2"
      },
      "execution_count": null,
      "outputs": [
        {
          "output_type": "stream",
          "name": "stdout",
          "text": [
            "Categories from user rated restaurants: \n",
            "american,automotive,bar,bars,beer,breakfast,brunch,burgers,cocktail,coffee,convenience,cuban,delis,food,gas,gastropubs,italian,lounges,new,nightlife,plates,restaurants,sandwiches,seafood,small,stations,steakhouses,stores,tapas,tea,traditional,whiskey\n"
          ]
        }
      ]
    },
    {
      "cell_type": "code",
      "source": [
        "recommend_res = [list(set(df['name'][df['business_id'] == business_id[i]]))[0] \\\n",
        "                 for i in lucky_user_recommend]\n",
        "mask = [name in recommend_res for name in df['name']]\n",
        "recommend_category = df['categories'][mask]\n",
        "vectorizer = TfidfVectorizer(analyzer = 'word', stop_words = 'english', \n",
        "                             lowercase = True\n",
        "                            )\n",
        "recommend_category_vec = vectorizer.fit_transform(recommend_category).toarray()\n",
        "recommend_word = vectorizer.get_feature_names_out()\n",
        "print('Categories from recommend restaurants: \\n%s' % (','.join(i for i in recommend_word)))"
      ],
      "metadata": {
        "colab": {
          "base_uri": "https://localhost:8080/"
        },
        "id": "kcCu-5H2kC70",
        "outputId": "9966dd17-4fda-484a-eea3-cf0a9bdf65db"
      },
      "execution_count": null,
      "outputs": [
        {
          "output_type": "stream",
          "name": "stdout",
          "text": [
            "Categories from recommend restaurants: \n",
            "active,american,bars,beer,breakfast,brunch,burgers,cafes,cheese,cheesesteaks,chinese,coffee,desserts,eastern,european,falafel,fast,food,gardens,grocery,indian,lebanese,life,mediterranean,middle,modern,moroccan,new,nightlife,parks,restaurants,sandwiches,shops,specialty,spirits,stands,szechuan,tea,thai,trucks,vegan,wine\n"
          ]
        }
      ]
    },
    {
      "cell_type": "code",
      "source": [
        "#Check the common labels\n",
        "print(\"Common labels are: \\n%s\" % (', '.join(word for word in recommend_word if word in original_word)))"
      ],
      "metadata": {
        "colab": {
          "base_uri": "https://localhost:8080/"
        },
        "id": "ryQGdvLTkLEg",
        "outputId": "cd3d282d-62bb-40dc-81e1-fedcdee092ba"
      },
      "execution_count": null,
      "outputs": [
        {
          "output_type": "stream",
          "name": "stdout",
          "text": [
            "Common labels are: \n",
            "american, bars, beer, breakfast, brunch, burgers, coffee, food, new, nightlife, restaurants, sandwiches, tea\n"
          ]
        }
      ]
    },
    {
      "cell_type": "code",
      "source": [
        "#Matrix Factorization recommender (SVD) with restaurants' labels.\n",
        "#get the number of labels \n",
        "mask = [business in business_id for business in df['business_id']]\n",
        "category = df['categories'][mask]\n",
        "from sklearn.feature_extraction.text import TfidfVectorizer\n",
        "vectorizer = TfidfVectorizer(analyzer = 'word', stop_words = 'english', \n",
        "                             lowercase = True\n",
        "                            )\n",
        "category_vec = vectorizer.fit_transform(category).toarray()\n",
        "words = vectorizer.get_feature_names_out()\n",
        "#This is the number of unique categories\n",
        "print('The total number of restaurant labels is %d' % (len(words))) "
      ],
      "metadata": {
        "colab": {
          "base_uri": "https://localhost:8080/"
        },
        "id": "k0ZWg9-tkR2E",
        "outputId": "f8eb93f3-ece4-4120-9cac-a6bfe3393207"
      },
      "execution_count": null,
      "outputs": [
        {
          "output_type": "stream",
          "name": "stdout",
          "text": [
            "The total number of restaurant labels is 167\n"
          ]
        }
      ]
    },
    {
      "cell_type": "code",
      "source": [
        "from sklearn.decomposition import TruncatedSVD\n",
        "class SVD_Recommender(object):\n",
        "\n",
        "    def __init__(self):\n",
        "        self.n_components = 160 #the number of labels\n",
        "\n",
        "    def fit(self, ratings_mat):\n",
        "        self.ratings_mat = ratings_mat\n",
        "        self.n_users = ratings_mat.shape[0]\n",
        "        self.n_items = ratings_mat.shape[1]\n",
        "        svd = TruncatedSVD(n_components=self.n_components, n_iter=7, random_state=1)\n",
        "        svd.fit(ratings_mat)\n",
        "        self.V = svd.components_\n",
        "        self.U = svd.transform(ratings_mat)\n",
        "        self.ratings_mat_fitted = self.U.dot(self.V)\n",
        "\n",
        "    def get_error(self):\n",
        "        return ((self.ratings_mat_fitted - self.ratings_mat)**2).mean(axis=None)\n",
        "        \n",
        "    def pred_one_user(self, user_id, report_run_time=False):\n",
        "        start_time = time()\n",
        "        cleaned_out = self.ratings_mat_fitted[user_id,:]\n",
        "        if report_run_time:\n",
        "            print(\"Execution time: %f seconds\" % (time()-start_time))\n",
        "        return cleaned_out\n",
        "\n",
        "\n",
        "    def pred_all_users(self, report_run_time=False):\n",
        "        start_time = time()\n",
        "        all_ratings = [\n",
        "            self.pred_one_user(user_id) for user_id in range(self.n_users)]\n",
        "        if report_run_time:\n",
        "            print(\"Execution time: %f seconds\" % (time()-start_time))\n",
        "        return np.array(all_ratings)\n",
        "\n",
        "    def top_n_recs(self, user_id, n):\n",
        "        pred_ratings = self.pred_one_user(user_id)\n",
        "        item_index_sorted_by_pred_rating = list(np.argsort(pred_ratings))\n",
        "        items_rated_by_this_user = self.ratings_mat[user_id].nonzero()[1]\n",
        "        unrated_items_by_pred_rating = [item for item in item_index_sorted_by_pred_rating\n",
        "                                        if item not in items_rated_by_this_user]\n",
        "        return unrated_items_by_pred_rating[-n:], items_rated_by_this_user"
      ],
      "metadata": {
        "id": "LjXgojJ7ma0v"
      },
      "execution_count": null,
      "outputs": []
    },
    {
      "cell_type": "code",
      "source": [
        "# get recommendations for the same lucky user\n",
        "my_rec_engine = SVD_Recommender()\n",
        "my_rec_engine.fit(ratings_mat)\n",
        "lucky_user_recommend, items_rated_by_this_user = my_rec_engine.top_n_recs(user_id=lucky_user_index, n = 10)\n",
        "print(\"The top ten recommendation for user %s are: \" % (lucky_user))\n",
        "print('%s' % (', '.join(list(set(df['name'][df['business_id'] == business_id[i]]))[0] \\\n",
        "                       for i in lucky_user_recommend)))"
      ],
      "metadata": {
        "colab": {
          "base_uri": "https://localhost:8080/"
        },
        "id": "zG0IhMzlmvox",
        "outputId": "2bb16c40-d125-4101-badf-8e51f7e0006b"
      },
      "execution_count": null,
      "outputs": [
        {
          "output_type": "stream",
          "name": "stdout",
          "text": [
            "The top ten recommendation for user OLGQ7alK4VKl3YdQk6UF5g are: \n",
            "Honey's Sit-N-Eat, HipCityVeg - University City, Wawa, O Sole Mio, Boostin' Bowls, Red Owl Tavern, Golden Chopstick Chinese Restaurant, Hibachi 2 Go, Trio Breakfast & Lunch, Dagwood's Pub\n"
          ]
        }
      ]
    },
    {
      "cell_type": "code",
      "source": [
        "original_rated_restaurants = [list(set(df['name'][df['business_id'] == business_id[i]]))[0] for i in items_rated_by_this_user]\n",
        "mask = [name in original_rated_restaurants for name in df['name']]\n",
        "original_category = df['categories'][mask]\n",
        "vectorizer = TfidfVectorizer(analyzer = 'word', stop_words = 'english', \n",
        "                             lowercase = True\n",
        "                            )\n",
        "original_category_vec = vectorizer.fit_transform(original_category).toarray()\n",
        "original_word = vectorizer.get_feature_names_out()\n",
        "print('Categories from user rated restaurants: \\n%s' % (','.join(i for i in original_word)))"
      ],
      "metadata": {
        "colab": {
          "base_uri": "https://localhost:8080/"
        },
        "id": "cFWDOFgnnQuX",
        "outputId": "e95c9eea-1a21-4772-ca2c-017b84a6fcc4"
      },
      "execution_count": null,
      "outputs": [
        {
          "output_type": "stream",
          "name": "stdout",
          "text": [
            "Categories from user rated restaurants: \n",
            "american,automotive,bar,bars,beer,breakfast,brunch,burgers,cocktail,coffee,convenience,cuban,delis,food,gas,gastropubs,italian,lounges,new,nightlife,plates,restaurants,sandwiches,seafood,small,stations,steakhouses,stores,tapas,tea,traditional,whiskey\n"
          ]
        }
      ]
    },
    {
      "cell_type": "code",
      "source": [
        "recommend_res = [list(set(df['name'][df['business_id'] == business_id[i]]))[0] \\\n",
        "                 for i in lucky_user_recommend]\n",
        "mask = [name in recommend_res for name in df['name']]\n",
        "recommend_category = df['categories'][mask]\n",
        "vectorizer = TfidfVectorizer(analyzer = 'word', stop_words = 'english', \n",
        "                             lowercase = True\n",
        "                            )\n",
        "recommend_category_vec = vectorizer.fit_transform(recommend_category).toarray()\n",
        "recommend_word = vectorizer.get_feature_names_out()\n",
        "print('Categories from recommend restaurants: \\n%s' % (','.join(i for i in recommend_word)))"
      ],
      "metadata": {
        "colab": {
          "base_uri": "https://localhost:8080/"
        },
        "id": "107W5SmRnV5Q",
        "outputId": "dbb7b6a1-a64a-43ab-b374-4dab905537b2"
      },
      "execution_count": null,
      "outputs": [
        {
          "output_type": "stream",
          "name": "stdout",
          "text": [
            "Categories from recommend restaurants: \n",
            "acai,american,automotive,bars,bowls,breakfast,brunch,burgers,chinese,coffee,convenience,delis,desserts,fast,food,gas,gelato,italian,japanese,juice,new,nightlife,pizza,pubs,restaurants,sandwiches,sardinian,seafood,smoothies,southern,stations,stores,sushi,tea,traditional,vegan\n"
          ]
        }
      ]
    },
    {
      "cell_type": "code",
      "source": [
        "#Check the common labels\n",
        "print(\"Common labels are: \\n%s\" % (', '.join(word for word in recommend_word if word in original_word)))"
      ],
      "metadata": {
        "colab": {
          "base_uri": "https://localhost:8080/"
        },
        "id": "gjrmHSx3nefK",
        "outputId": "cdc81143-7f39-4112-abe4-7c57bc9d2bf8"
      },
      "execution_count": null,
      "outputs": [
        {
          "output_type": "stream",
          "name": "stdout",
          "text": [
            "Common labels are: \n",
            "american, automotive, bars, breakfast, brunch, burgers, coffee, convenience, delis, food, gas, italian, new, nightlife, restaurants, sandwiches, seafood, stations, stores, tea, traditional\n"
          ]
        }
      ]
    }
  ]
}